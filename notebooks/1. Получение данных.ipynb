{
 "cells": [
  {
   "cell_type": "markdown",
   "metadata": {},
   "source": [
    "## Authentication of Twitter API"
   ]
  },
  {
   "cell_type": "code",
   "execution_count": 1,
   "metadata": {},
   "outputs": [],
   "source": [
    "import tweepy\n",
    "import pandas as pd\n",
    "import pickle\n",
    "\n",
    "# указать токены"
   ]
  },
  {
   "cell_type": "code",
   "execution_count": null,
   "metadata": {},
   "outputs": [],
   "source": [
    "# создать DF\n",
    "# который включает: screen_name - логин, date_time, location, text - текст в сообщении.\n",
    "\n",
    "\n",
    "# обрати внимание, что можно найти обращения к компаниям или их поддержке в сообщении\n",
    "# через @ATTHelp или @Megafon и тд\n",
    "\n",
    "\n",
    "df.head()"
   ]
  },
  {
   "cell_type": "markdown",
   "metadata": {},
   "source": [
    "## Task: Получить данные из Твиттера"
   ]
  },
  {
   "cell_type": "code",
   "execution_count": 14,
   "metadata": {},
   "outputs": [],
   "source": [
    "def getTweets(searchString, df):\n",
    "    for tweet in tweepy.Cursor(api.search, q=searchString, lang='# язык', since='# дата начала', until='# дата окончания').items():\n",
    "        df = df.append(pd.Series([tweet.user.screen_name, tweet.created_at, tweet.user.location, tweet.text], index=df.columns), ignore_index=True)\n",
    "    return df"
   ]
  },
  {
   "cell_type": "code",
   "execution_count": 15,
   "metadata": {
    "scrolled": true
   },
   "outputs": [],
   "source": [
    "# DF\n",
    "df_tmp = pd.DataFrame(columns=['screen_name', 'date_time', 'location', 'text'])"
   ]
  },
  {
   "cell_type": "code",
   "execution_count": 16,
   "metadata": {},
   "outputs": [
    {
     "name": "stderr",
     "output_type": "stream",
     "text": [
      "Rate limit reached. Sleeping for: 242\n"
     ]
    }
   ],
   "source": [
    "# пример получения информации и поисковой фразы\n",
    "df_tmp = getTweets('VerizonSupport', df_tmp)\n",
    "df_tmp = getTweets('verizon', df_tmp)\n",
    "df_tmp = getTweets('VZWSupport', df_tmp)\n",
    "df_tmp = getTweets('ATT', df_tmp)\n",
    "df_tmp = getTweets('ATTHelp', df_tmp)\n",
    "df_tmp = getTweets('TMobile', df_tmp)\n",
    "df_tmp = getTweets('TMobileHelp', df_tmp)"
   ]
  },
  {
   "cell_type": "markdown",
   "metadata": {},
   "source": [
    "## Сохранить полученный DF (по возможности)"
   ]
  },
  {
   "cell_type": "code",
   "execution_count": 20,
   "metadata": {},
   "outputs": [],
   "source": [
    "with open('filename', 'wb') as pkl_file:\n",
    "    pickle.dump(df, pkl_file) "
   ]
  }
 ],
 "metadata": {
  "kernelspec": {
   "display_name": "Python 3",
   "language": "python",
   "name": "python3"
  },
  "language_info": {
   "codemirror_mode": {
    "name": "ipython",
    "version": 3
   },
   "file_extension": ".py",
   "mimetype": "text/x-python",
   "name": "python",
   "nbconvert_exporter": "python",
   "pygments_lexer": "ipython3",
   "version": "3.8.6"
  }
 },
 "nbformat": 4,
 "nbformat_minor": 2
}
