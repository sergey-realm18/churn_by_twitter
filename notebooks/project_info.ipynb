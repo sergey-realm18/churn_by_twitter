{
 "cells": [
  {
   "cell_type": "markdown",
   "metadata": {},
   "source": [
    "### Authentication of Twitter API"
   ]
  },
  {
   "cell_type": "code",
   "execution_count": 2,
   "metadata": {},
   "outputs": [],
   "source": [
    "import pandas as pd\n",
    "import pickle\n",
    "import tweepy\n",
    "# указать токены\n",
    "consumer_api_key = 'r2rZD6dXS8oONMgitrSuokdPB'\n",
    "consumer_api_secret_key = '3SjcKdWqsaRjP4B9mkpNJ4f1OtzQIHx7RHilG8d5DKAP7hY43i'\n",
    "access_token = '3067139996-XwiQmLaSWctyZCEliXF78p22ruVqakBwkl507IR'\n",
    "access_token_secret = 'NRWkUf3ZnBoxLDPXxGNFfnZJSC4h9P0DRtEVQfXf5UV6O'\n",
    "\n",
    "auth = tweepy.OAuthHandler(consumer_api_key, consumer_api_secret_key)\n",
    "auth.set_access_token(access_token, access_token_secret)\n",
    "api = tweepy.API(auth)\n",
    "api = tweepy.API(auth, wait_on_rate_limit=True, wait_on_rate_limit_notify=True)"
   ]
  },
  {
   "cell_type": "code",
   "execution_count": 37,
   "metadata": {},
   "outputs": [
    {
     "data": {
      "text/html": [
       "<div>\n",
       "<style scoped>\n",
       "    .dataframe tbody tr th:only-of-type {\n",
       "        vertical-align: middle;\n",
       "    }\n",
       "\n",
       "    .dataframe tbody tr th {\n",
       "        vertical-align: top;\n",
       "    }\n",
       "\n",
       "    .dataframe thead th {\n",
       "        text-align: right;\n",
       "    }\n",
       "</style>\n",
       "<table border=\"1\" class=\"dataframe\">\n",
       "  <thead>\n",
       "    <tr style=\"text-align: right;\">\n",
       "      <th></th>\n",
       "      <th>screen_name</th>\n",
       "      <th>date_time</th>\n",
       "      <th>location</th>\n",
       "      <th>text</th>\n",
       "    </tr>\n",
       "  </thead>\n",
       "  <tbody>\n",
       "  </tbody>\n",
       "</table>\n",
       "</div>"
      ],
      "text/plain": [
       "Empty DataFrame\n",
       "Columns: [screen_name, date_time, location, text]\n",
       "Index: []"
      ]
     },
     "execution_count": 37,
     "metadata": {},
     "output_type": "execute_result"
    }
   ],
   "source": [
    "# создать DF\n",
    "# который включает: screen_name - логин, date_time, location, text - текст в сообщении.\n",
    "df = pd.DataFrame(columns = ['screen_name','date_time','location','text'])\n",
    "\n",
    "# обрати внимание, что можно найти обращения к компаниям или их поддержке в сообщении\n",
    "# через @ATTHelp или @Megafon и тд\n",
    "\n",
    "\n",
    "df.head()"
   ]
  },
  {
   "cell_type": "markdown",
   "metadata": {},
   "source": [
    "### Task: Получить данные из Твиттера"
   ]
  },
  {
   "cell_type": "code",
   "execution_count": 9,
   "metadata": {},
   "outputs": [],
   "source": [
    "\n",
    "def getTweets(searchString, df):\n",
    "    for tweet in tweepy.Cursor(api.search, q=searchString, lang='en', since='2021-03-15', until='2021-03-31').items(100):\n",
    "        df = df.append(pd.Series([tweet.user.screen_name, tweet.created_at, tweet.user.location, tweet.text], index=df.columns), ignore_index=True)\n",
    "    return df"
   ]
  },
  {
   "cell_type": "code",
   "execution_count": 4,
   "metadata": {},
   "outputs": [],
   "source": [
    "\n",
    "# DF\n",
    "df_tmp = pd.DataFrame(columns=['screen_name', 'date_time', 'location', 'text'])"
   ]
  },
  {
   "cell_type": "code",
   "execution_count": 6,
   "metadata": {},
   "outputs": [],
   "source": [
    "# пример получения информации и поисковой фразы\n",
    "\n",
    "# VerizonSupport = getTweets('VerizonSupport', df_tmp)\n",
    "# verizon = getTweets('verizon', df_tmp)\n",
    "# VZWSupport = getTweets('VZWSupport', df_tmp)\n",
    "# ATT = getTweets('ATT', df_tmp)\n",
    "# ATTHelp = getTweets('ATTHelp', df_tmp)\n",
    "# TMobile = getTweets('TMobile', df_tmp)\n",
    "# TMobileHelp = getTweets('TMobileHelp', df_tmp)"
   ]
  },
  {
   "cell_type": "code",
   "execution_count": 38,
   "metadata": {},
   "outputs": [],
   "source": [
    "VerizonSupport = getTweets('VerizonSupport', df_tmp)\n",
    "df = df.append(VerizonSupport)\n"
   ]
  },
  {
   "cell_type": "code",
   "execution_count": 39,
   "metadata": {},
   "outputs": [],
   "source": [
    "verizon = getTweets('verizon', df_tmp)\n",
    "df = df.append(verizon)"
   ]
  },
  {
   "cell_type": "code",
   "execution_count": 40,
   "metadata": {},
   "outputs": [],
   "source": [
    "VZWSupport = getTweets('VZWSupport', df_tmp)\n",
    "df = df.append(VZWSupport)"
   ]
  },
  {
   "cell_type": "code",
   "execution_count": 41,
   "metadata": {},
   "outputs": [],
   "source": [
    "ATT = getTweets('ATT', df_tmp)\n",
    "df = df.append(ATT)"
   ]
  },
  {
   "cell_type": "code",
   "execution_count": 42,
   "metadata": {},
   "outputs": [],
   "source": [
    "ATTHelp = getTweets('ATTHelp', df_tmp)\n",
    "df = df.append(ATTHelp)"
   ]
  },
  {
   "cell_type": "code",
   "execution_count": 43,
   "metadata": {},
   "outputs": [],
   "source": [
    "TMobile = getTweets('TMobile', df_tmp)\n",
    "df = df.append(TMobile)"
   ]
  },
  {
   "cell_type": "code",
   "execution_count": 44,
   "metadata": {},
   "outputs": [],
   "source": [
    "TMobileHelp = getTweets('TMobileHelp', df_tmp)\n",
    "df = df.append(TMobileHelp)"
   ]
  },
  {
   "cell_type": "code",
   "execution_count": 58,
   "metadata": {},
   "outputs": [
    {
     "data": {
      "text/html": [
       "<div>\n",
       "<style scoped>\n",
       "    .dataframe tbody tr th:only-of-type {\n",
       "        vertical-align: middle;\n",
       "    }\n",
       "\n",
       "    .dataframe tbody tr th {\n",
       "        vertical-align: top;\n",
       "    }\n",
       "\n",
       "    .dataframe thead th {\n",
       "        text-align: right;\n",
       "    }\n",
       "</style>\n",
       "<table border=\"1\" class=\"dataframe\">\n",
       "  <thead>\n",
       "    <tr style=\"text-align: right;\">\n",
       "      <th></th>\n",
       "      <th>screen_name</th>\n",
       "      <th>date_time</th>\n",
       "      <th>location</th>\n",
       "      <th>text</th>\n",
       "    </tr>\n",
       "  </thead>\n",
       "  <tbody>\n",
       "    <tr>\n",
       "      <th>0</th>\n",
       "      <td>TheSkubis</td>\n",
       "      <td>2021-03-30 23:59:19</td>\n",
       "      <td>Pennsylvania, USA</td>\n",
       "      <td>@VerizonSupport I have issues with closed capt...</td>\n",
       "    </tr>\n",
       "    <tr>\n",
       "      <th>1</th>\n",
       "      <td>VerizonSupport</td>\n",
       "      <td>2021-03-30 23:56:55</td>\n",
       "      <td></td>\n",
       "      <td>@_carolinek This could be due to regional rest...</td>\n",
       "    </tr>\n",
       "    <tr>\n",
       "      <th>2</th>\n",
       "      <td>VerizonSupport</td>\n",
       "      <td>2021-03-30 23:55:30</td>\n",
       "      <td></td>\n",
       "      <td>@tvmurray We'll be happy to help with anything...</td>\n",
       "    </tr>\n",
       "    <tr>\n",
       "      <th>3</th>\n",
       "      <td>_carolinek</td>\n",
       "      <td>2021-03-30 23:55:24</td>\n",
       "      <td></td>\n",
       "      <td>@VerizonSupport Hi! I know you think you can h...</td>\n",
       "    </tr>\n",
       "    <tr>\n",
       "      <th>4</th>\n",
       "      <td>VerizonSupport</td>\n",
       "      <td>2021-03-30 23:54:26</td>\n",
       "      <td></td>\n",
       "      <td>@lam3014 We will be happy to look into this fo...</td>\n",
       "    </tr>\n",
       "    <tr>\n",
       "      <th>...</th>\n",
       "      <td>...</td>\n",
       "      <td>...</td>\n",
       "      <td>...</td>\n",
       "      <td>...</td>\n",
       "    </tr>\n",
       "    <tr>\n",
       "      <th>95</th>\n",
       "      <td>bravosfan1025</td>\n",
       "      <td>2021-03-30 22:40:49</td>\n",
       "      <td>Erie PA</td>\n",
       "      <td>@TMobileHelp I have 4 lines though... And I wa...</td>\n",
       "    </tr>\n",
       "    <tr>\n",
       "      <th>96</th>\n",
       "      <td>TMobileHelp</td>\n",
       "      <td>2021-03-30 22:40:01</td>\n",
       "      <td>Bellevue, WA</td>\n",
       "      <td>@SleepingFaux Hey there, your experience is su...</td>\n",
       "    </tr>\n",
       "    <tr>\n",
       "      <th>97</th>\n",
       "      <td>TMobileHelp</td>\n",
       "      <td>2021-03-30 22:39:22</td>\n",
       "      <td>Bellevue, WA</td>\n",
       "      <td>@bravosfan1025 Thank you for reaching out to T...</td>\n",
       "    </tr>\n",
       "    <tr>\n",
       "      <th>98</th>\n",
       "      <td>TMobileHelp</td>\n",
       "      <td>2021-03-30 22:36:19</td>\n",
       "      <td>Bellevue, WA</td>\n",
       "      <td>@LisiBabi We are committed to providing you wi...</td>\n",
       "    </tr>\n",
       "    <tr>\n",
       "      <th>99</th>\n",
       "      <td>TMobileHelp</td>\n",
       "      <td>2021-03-30 22:35:28</td>\n",
       "      <td>Bellevue, WA</td>\n",
       "      <td>@tangtang90 Hey Berkley, this is not the exper...</td>\n",
       "    </tr>\n",
       "  </tbody>\n",
       "</table>\n",
       "<p>700 rows × 4 columns</p>\n",
       "</div>"
      ],
      "text/plain": [
       "       screen_name           date_time           location  \\\n",
       "0        TheSkubis 2021-03-30 23:59:19  Pennsylvania, USA   \n",
       "1   VerizonSupport 2021-03-30 23:56:55                      \n",
       "2   VerizonSupport 2021-03-30 23:55:30                      \n",
       "3       _carolinek 2021-03-30 23:55:24                      \n",
       "4   VerizonSupport 2021-03-30 23:54:26                      \n",
       "..             ...                 ...                ...   \n",
       "95   bravosfan1025 2021-03-30 22:40:49            Erie PA   \n",
       "96     TMobileHelp 2021-03-30 22:40:01       Bellevue, WA   \n",
       "97     TMobileHelp 2021-03-30 22:39:22       Bellevue, WA   \n",
       "98     TMobileHelp 2021-03-30 22:36:19       Bellevue, WA   \n",
       "99     TMobileHelp 2021-03-30 22:35:28       Bellevue, WA   \n",
       "\n",
       "                                                 text  \n",
       "0   @VerizonSupport I have issues with closed capt...  \n",
       "1   @_carolinek This could be due to regional rest...  \n",
       "2   @tvmurray We'll be happy to help with anything...  \n",
       "3   @VerizonSupport Hi! I know you think you can h...  \n",
       "4   @lam3014 We will be happy to look into this fo...  \n",
       "..                                                ...  \n",
       "95  @TMobileHelp I have 4 lines though... And I wa...  \n",
       "96  @SleepingFaux Hey there, your experience is su...  \n",
       "97  @bravosfan1025 Thank you for reaching out to T...  \n",
       "98  @LisiBabi We are committed to providing you wi...  \n",
       "99  @tangtang90 Hey Berkley, this is not the exper...  \n",
       "\n",
       "[700 rows x 4 columns]"
      ]
     },
     "execution_count": 58,
     "metadata": {},
     "output_type": "execute_result"
    }
   ],
   "source": [
    "\n",
    "df"
   ]
  },
  {
   "cell_type": "markdown",
   "metadata": {},
   "source": [
    "### Сохранить полученный DF (по возможности)¶"
   ]
  },
  {
   "cell_type": "code",
   "execution_count": 48,
   "metadata": {},
   "outputs": [],
   "source": [
    "\n",
    "with open('twitts', 'wb') as pkl_file:\n",
    "    pickle.dump(df, pkl_file)"
   ]
  },
  {
   "cell_type": "code",
   "execution_count": 55,
   "metadata": {},
   "outputs": [],
   "source": [
    "with open('twitts', 'rb') as pkl_file:\n",
    "    loads = pickle.load(pkl_file,encoding = 'utf-8')"
   ]
  },
  {
   "cell_type": "code",
   "execution_count": null,
   "metadata": {},
   "outputs": [],
   "source": []
  }
 ],
 "metadata": {
  "kernelspec": {
   "display_name": "Python 3",
   "language": "python",
   "name": "python3"
  },
  "language_info": {
   "codemirror_mode": {
    "name": "ipython",
    "version": 3
   },
   "file_extension": ".py",
   "mimetype": "text/x-python",
   "name": "python",
   "nbconvert_exporter": "python",
   "pygments_lexer": "ipython3",
   "version": "3.7.6"
  }
 },
 "nbformat": 4,
 "nbformat_minor": 4
}
