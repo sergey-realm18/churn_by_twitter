{
 "cells": [
  {
   "cell_type": "code",
   "execution_count": 111,
   "metadata": {},
   "outputs": [],
   "source": [
    "import pandas as pd\n",
    "import pickle\n",
    "import tweepy\n",
    "import time\n",
    "# указать токены\n",
    "consumer_api_key = 'r2rZD6dXS8oONMgitrSuokdPB'\n",
    "consumer_api_secret_key = '3SjcKdWqsaRjP4B9mkpNJ4f1OtzQIHx7RHilG8d5DKAP7hY43i'\n",
    "access_token = '3067139996-XwiQmLaSWctyZCEliXF78p22ruVqakBwkl507IR'\n",
    "access_token_secret = 'NRWkUf3ZnBoxLDPXxGNFfnZJSC4h9P0DRtEVQfXf5UV6O'\n",
    "\n",
    "auth = tweepy.OAuthHandler(consumer_api_key, consumer_api_secret_key)\n",
    "auth.set_access_token(access_token, access_token_secret)\n",
    "api = tweepy.API(auth)\n",
    "api = tweepy.API(auth, wait_on_rate_limit=True, wait_on_rate_limit_notify=True)"
   ]
  },
  {
   "cell_type": "code",
   "execution_count": 112,
   "metadata": {},
   "outputs": [
    {
     "data": {
      "text/html": [
       "<div>\n",
       "<style scoped>\n",
       "    .dataframe tbody tr th:only-of-type {\n",
       "        vertical-align: middle;\n",
       "    }\n",
       "\n",
       "    .dataframe tbody tr th {\n",
       "        vertical-align: top;\n",
       "    }\n",
       "\n",
       "    .dataframe thead th {\n",
       "        text-align: right;\n",
       "    }\n",
       "</style>\n",
       "<table border=\"1\" class=\"dataframe\">\n",
       "  <thead>\n",
       "    <tr style=\"text-align: right;\">\n",
       "      <th></th>\n",
       "      <th>screen_name</th>\n",
       "      <th>date_time</th>\n",
       "      <th>location</th>\n",
       "      <th>text</th>\n",
       "    </tr>\n",
       "  </thead>\n",
       "  <tbody>\n",
       "  </tbody>\n",
       "</table>\n",
       "</div>"
      ],
      "text/plain": [
       "Empty DataFrame\n",
       "Columns: [screen_name, date_time, location, text]\n",
       "Index: []"
      ]
     },
     "execution_count": 112,
     "metadata": {},
     "output_type": "execute_result"
    }
   ],
   "source": [
    "# создать DF\n",
    "# который включает: screen_name - логин, date_time, location, text - текст в сообщении.\n",
    "df = pd.DataFrame(columns = ['screen_name','date_time','location','text'])\n",
    "\n",
    "# обрати внимание, что можно найти обращения к компаниям или их поддержке в сообщении\n",
    "# через @ATTHelp или @Megafon и тд\n",
    "\n",
    "\n",
    "df.head()"
   ]
  },
  {
   "cell_type": "code",
   "execution_count": 113,
   "metadata": {},
   "outputs": [],
   "source": [
    "def getTweets(searchString, df,until):\n",
    "    for tweet in tweepy.Cursor(api.search, q=searchString, lang='en', until='2021-04-'+str(until) ).items(100):\n",
    "        df = df.append(pd.Series([tweet.user.screen_name, tweet.created_at, tweet.user.location, tweet.text], index=df.columns), ignore_index=True)\n",
    "    return df"
   ]
  },
  {
   "cell_type": "code",
   "execution_count": 114,
   "metadata": {},
   "outputs": [
    {
     "data": {
      "text/plain": [
       "[12, 13, 14, 15, 16, 17, 18]"
      ]
     },
     "execution_count": 114,
     "metadata": {},
     "output_type": "execute_result"
    }
   ],
   "source": [
    "dates = [i for i in range(12,19)]\n",
    "dates"
   ]
  },
  {
   "cell_type": "code",
   "execution_count": 115,
   "metadata": {},
   "outputs": [],
   "source": [
    "# DF\n",
    "df_tmp = pd.DataFrame(columns=['screen_name', 'date_time', 'location', 'text'])"
   ]
  },
  {
   "cell_type": "code",
   "execution_count": 116,
   "metadata": {},
   "outputs": [
    {
     "data": {
      "text/html": [
       "<div>\n",
       "<style scoped>\n",
       "    .dataframe tbody tr th:only-of-type {\n",
       "        vertical-align: middle;\n",
       "    }\n",
       "\n",
       "    .dataframe tbody tr th {\n",
       "        vertical-align: top;\n",
       "    }\n",
       "\n",
       "    .dataframe thead th {\n",
       "        text-align: right;\n",
       "    }\n",
       "</style>\n",
       "<table border=\"1\" class=\"dataframe\">\n",
       "  <thead>\n",
       "    <tr style=\"text-align: right;\">\n",
       "      <th></th>\n",
       "      <th>screen_name</th>\n",
       "      <th>date_time</th>\n",
       "      <th>location</th>\n",
       "      <th>text</th>\n",
       "    </tr>\n",
       "  </thead>\n",
       "  <tbody>\n",
       "    <tr>\n",
       "      <th>0</th>\n",
       "      <td>ShieldVoC</td>\n",
       "      <td>2021-04-14 23:57:51</td>\n",
       "      <td>Stockholm, Sweden</td>\n",
       "      <td>RT @europabridge1: @VerizonSupport will someon...</td>\n",
       "    </tr>\n",
       "    <tr>\n",
       "      <th>1</th>\n",
       "      <td>ShieldVoC</td>\n",
       "      <td>2021-04-14 23:56:27</td>\n",
       "      <td>Stockholm, Sweden</td>\n",
       "      <td>RT @halidkalkan: @Verizon trying to charge me ...</td>\n",
       "    </tr>\n",
       "    <tr>\n",
       "      <th>2</th>\n",
       "      <td>VerizonSupport</td>\n",
       "      <td>2021-04-14 23:43:51</td>\n",
       "      <td></td>\n",
       "      <td>@MushShoe Thanks for confirming. We can assist...</td>\n",
       "    </tr>\n",
       "    <tr>\n",
       "      <th>3</th>\n",
       "      <td>MushShoe</td>\n",
       "      <td>2021-04-14 23:39:05</td>\n",
       "      <td></td>\n",
       "      <td>@VerizonSupport Want pricing, my plan ends 3 d...</td>\n",
       "    </tr>\n",
       "    <tr>\n",
       "      <th>4</th>\n",
       "      <td>VerizonSupport</td>\n",
       "      <td>2021-04-14 23:34:05</td>\n",
       "      <td></td>\n",
       "      <td>@MushShoe Sorry for your trouble. We are also ...</td>\n",
       "    </tr>\n",
       "  </tbody>\n",
       "</table>\n",
       "</div>"
      ],
      "text/plain": [
       "      screen_name           date_time           location  \\\n",
       "0       ShieldVoC 2021-04-14 23:57:51  Stockholm, Sweden   \n",
       "1       ShieldVoC 2021-04-14 23:56:27  Stockholm, Sweden   \n",
       "2  VerizonSupport 2021-04-14 23:43:51                      \n",
       "3        MushShoe 2021-04-14 23:39:05                      \n",
       "4  VerizonSupport 2021-04-14 23:34:05                      \n",
       "\n",
       "                                                text  \n",
       "0  RT @europabridge1: @VerizonSupport will someon...  \n",
       "1  RT @halidkalkan: @Verizon trying to charge me ...  \n",
       "2  @MushShoe Thanks for confirming. We can assist...  \n",
       "3  @VerizonSupport Want pricing, my plan ends 3 d...  \n",
       "4  @MushShoe Sorry for your trouble. We are also ...  "
      ]
     },
     "execution_count": 116,
     "metadata": {},
     "output_type": "execute_result"
    }
   ],
   "source": [
    "for i in dates:\n",
    "    VerizonSupport = getTweets('VerizonSupport', df_tmp,i)\n",
    "    df = df.append(VerizonSupport)\n",
    "df.head()"
   ]
  },
  {
   "cell_type": "code",
   "execution_count": 117,
   "metadata": {},
   "outputs": [
    {
     "data": {
      "text/html": [
       "<div>\n",
       "<style scoped>\n",
       "    .dataframe tbody tr th:only-of-type {\n",
       "        vertical-align: middle;\n",
       "    }\n",
       "\n",
       "    .dataframe tbody tr th {\n",
       "        vertical-align: top;\n",
       "    }\n",
       "\n",
       "    .dataframe thead th {\n",
       "        text-align: right;\n",
       "    }\n",
       "</style>\n",
       "<table border=\"1\" class=\"dataframe\">\n",
       "  <thead>\n",
       "    <tr style=\"text-align: right;\">\n",
       "      <th></th>\n",
       "      <th>screen_name</th>\n",
       "      <th>date_time</th>\n",
       "      <th>location</th>\n",
       "      <th>text</th>\n",
       "    </tr>\n",
       "  </thead>\n",
       "  <tbody>\n",
       "    <tr>\n",
       "      <th>95</th>\n",
       "      <td>VerizonSupport</td>\n",
       "      <td>2021-04-17 17:52:22</td>\n",
       "      <td></td>\n",
       "      <td>@Ari_Sherwood Thanks so much, Ari for the kudo...</td>\n",
       "    </tr>\n",
       "    <tr>\n",
       "      <th>96</th>\n",
       "      <td>Ari_Sherwood</td>\n",
       "      <td>2021-04-17 17:48:28</td>\n",
       "      <td>Near Philly, PA, USA</td>\n",
       "      <td>Kudos to @VerizonSupport for quickly respondin...</td>\n",
       "    </tr>\n",
       "    <tr>\n",
       "      <th>97</th>\n",
       "      <td>VerizonSupport</td>\n",
       "      <td>2021-04-17 17:47:51</td>\n",
       "      <td></td>\n",
       "      <td>@real1 Help is here! We want to make sure you ...</td>\n",
       "    </tr>\n",
       "    <tr>\n",
       "      <th>98</th>\n",
       "      <td>VerizonSupport</td>\n",
       "      <td>2021-04-17 17:47:20</td>\n",
       "      <td></td>\n",
       "      <td>@jc83837 Providing excellent Customer Service ...</td>\n",
       "    </tr>\n",
       "    <tr>\n",
       "      <th>99</th>\n",
       "      <td>D76developer</td>\n",
       "      <td>2021-04-17 17:43:34</td>\n",
       "      <td></td>\n",
       "      <td>@VerizonSupport Done. Thanks in advance.</td>\n",
       "    </tr>\n",
       "  </tbody>\n",
       "</table>\n",
       "</div>"
      ],
      "text/plain": [
       "       screen_name           date_time              location  \\\n",
       "95  VerizonSupport 2021-04-17 17:52:22                         \n",
       "96    Ari_Sherwood 2021-04-17 17:48:28  Near Philly, PA, USA   \n",
       "97  VerizonSupport 2021-04-17 17:47:51                         \n",
       "98  VerizonSupport 2021-04-17 17:47:20                         \n",
       "99    D76developer 2021-04-17 17:43:34                         \n",
       "\n",
       "                                                 text  \n",
       "95  @Ari_Sherwood Thanks so much, Ari for the kudo...  \n",
       "96  Kudos to @VerizonSupport for quickly respondin...  \n",
       "97  @real1 Help is here! We want to make sure you ...  \n",
       "98  @jc83837 Providing excellent Customer Service ...  \n",
       "99           @VerizonSupport Done. Thanks in advance.  "
      ]
     },
     "execution_count": 117,
     "metadata": {},
     "output_type": "execute_result"
    }
   ],
   "source": [
    "df.tail()"
   ]
  },
  {
   "cell_type": "code",
   "execution_count": 118,
   "metadata": {},
   "outputs": [
    {
     "data": {
      "text/plain": [
       "(400, 4)"
      ]
     },
     "execution_count": 118,
     "metadata": {},
     "output_type": "execute_result"
    }
   ],
   "source": [
    "time.sleep(5)\n",
    "df.shape"
   ]
  },
  {
   "cell_type": "code",
   "execution_count": 119,
   "metadata": {},
   "outputs": [],
   "source": [
    "for i in dates:\n",
    "    verizon = getTweets('verizon', df_tmp,i)\n",
    "    df = df.append(verizon)"
   ]
  },
  {
   "cell_type": "code",
   "execution_count": 120,
   "metadata": {},
   "outputs": [
    {
     "data": {
      "text/plain": [
       "(800, 4)"
      ]
     },
     "execution_count": 120,
     "metadata": {},
     "output_type": "execute_result"
    }
   ],
   "source": [
    "time.sleep(10)\n",
    "df.shape"
   ]
  },
  {
   "cell_type": "code",
   "execution_count": 121,
   "metadata": {},
   "outputs": [],
   "source": [
    "\n",
    "for i in dates:\n",
    "    VZWSupport = getTweets('VZWSupport', df_tmp,i)\n",
    "    df = df.append(VZWSupport)"
   ]
  },
  {
   "cell_type": "code",
   "execution_count": 122,
   "metadata": {},
   "outputs": [
    {
     "data": {
      "text/plain": [
       "(1200, 4)"
      ]
     },
     "execution_count": 122,
     "metadata": {},
     "output_type": "execute_result"
    }
   ],
   "source": [
    "time.sleep(10)\n",
    "df.shape"
   ]
  },
  {
   "cell_type": "code",
   "execution_count": 123,
   "metadata": {},
   "outputs": [],
   "source": [
    "for i in dates:\n",
    "    ATT = getTweets('ATT', df_tmp,i)\n",
    "    df = df.append(ATT)"
   ]
  },
  {
   "cell_type": "code",
   "execution_count": 124,
   "metadata": {},
   "outputs": [],
   "source": [
    "time.sleep(10)\n",
    "for i in dates:\n",
    "    ATTHelp = getTweets('ATTHelp', df_tmp,i)\n",
    "    df = df.append(ATTHelp)"
   ]
  },
  {
   "cell_type": "code",
   "execution_count": 125,
   "metadata": {},
   "outputs": [
    {
     "data": {
      "text/plain": [
       "(2000, 4)"
      ]
     },
     "execution_count": 125,
     "metadata": {},
     "output_type": "execute_result"
    }
   ],
   "source": [
    "time.sleep(10)\n",
    "df.shape"
   ]
  },
  {
   "cell_type": "code",
   "execution_count": 126,
   "metadata": {},
   "outputs": [
    {
     "name": "stderr",
     "output_type": "stream",
     "text": [
      "Rate limit reached. Sleeping for: 682\n"
     ]
    }
   ],
   "source": [
    "for i in dates:\n",
    "    TMobile = getTweets('TMobile', df_tmp,i)\n",
    "    df = df.append(TMobile)"
   ]
  },
  {
   "cell_type": "code",
   "execution_count": 127,
   "metadata": {},
   "outputs": [
    {
     "data": {
      "text/plain": [
       "(2400, 4)"
      ]
     },
     "execution_count": 127,
     "metadata": {},
     "output_type": "execute_result"
    }
   ],
   "source": [
    "time.sleep(10)\n",
    "df.shape"
   ]
  },
  {
   "cell_type": "code",
   "execution_count": 128,
   "metadata": {},
   "outputs": [],
   "source": [
    "for i in dates:    \n",
    "    TMobileHelp = getTweets('TMobileHelp', df_tmp,i)\n",
    "    df = df.append(TMobileHelp)"
   ]
  },
  {
   "cell_type": "code",
   "execution_count": 129,
   "metadata": {},
   "outputs": [
    {
     "data": {
      "text/plain": [
       "(2800, 4)"
      ]
     },
     "execution_count": 129,
     "metadata": {},
     "output_type": "execute_result"
    }
   ],
   "source": [
    "\n",
    "df.shape"
   ]
  },
  {
   "cell_type": "code",
   "execution_count": 131,
   "metadata": {},
   "outputs": [],
   "source": [
    "with open('try', 'wb') as pkl_file:\n",
    "    pickle.dump(df, pkl_file)"
   ]
  },
  {
   "cell_type": "code",
   "execution_count": 43,
   "metadata": {},
   "outputs": [],
   "source": [
    "# with open('500', 'wb') as pkl_file:\n",
    "#     pickle.dump(df, pkl_file)"
   ]
  },
  {
   "cell_type": "code",
   "execution_count": null,
   "metadata": {},
   "outputs": [],
   "source": []
  }
 ],
 "metadata": {
  "kernelspec": {
   "display_name": "Python 3",
   "language": "python",
   "name": "python3"
  },
  "language_info": {
   "codemirror_mode": {
    "name": "ipython",
    "version": 3
   },
   "file_extension": ".py",
   "mimetype": "text/x-python",
   "name": "python",
   "nbconvert_exporter": "python",
   "pygments_lexer": "ipython3",
   "version": "3.7.6"
  }
 },
 "nbformat": 4,
 "nbformat_minor": 4
}
