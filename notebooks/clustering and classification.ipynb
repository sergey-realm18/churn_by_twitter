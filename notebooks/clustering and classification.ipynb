{
 "cells": [
  {
   "cell_type": "code",
   "execution_count": 24,
   "metadata": {},
   "outputs": [],
   "source": [
    "# from sklearn.feature_extraction.text import TfidfVectorizer\n",
    "# from sklearn.cluster import KMeans\n",
    "# import re\n",
    "# import string\n",
    "# import pandas as pd\n",
    "# all_text  = \"\"\"\n",
    "#  Google and Facebook are strangling the free press to death. Democracy is the loserGoogle an \n",
    "# Your 60-second guide to security stuff Google touted today at Next '18\n",
    "# A Guide to Using Android Without Selling Your Soul to Google\n",
    "# Review: Lenovo’s Google Smart Display is pretty and intelligent\n",
    "# Google Maps user spots mysterious object submerged off the coast of Greece - and no-one knows what it is\n",
    "# Android is better than IOS\n",
    "# In information retrieval, tf–idf or TFIDF, short for term frequency–inverse document frequency\n",
    "# is a numerical statistic that is intended to reflect\n",
    "# how important a word is to a document in a collection or corpus.\n",
    "# It is often used as a weighting factor in searches of information retrieval\n",
    "# text mining, and user modeling. The tf-idf value increases proportionally\n",
    "# to the number of times a word appears in the document\n",
    "# and is offset by the frequency of the word in the corpus\n",
    "# \"\"\".split(\"\\n\")[1:-1]\n",
    "\n",
    "# # Preprocessing and tokenizing\n",
    "# def preprocessing(line):\n",
    "#     line = line.lower()\n",
    "#     line = re.sub(r\"[{}]\".format(string.punctuation), \" \", line)\n",
    "#     return line"
   ]
  },
  {
   "cell_type": "code",
   "execution_count": 29,
   "metadata": {},
   "outputs": [],
   "source": [
    "# tfidf_vectorizer = TfidfVectorizer(preprocessor=preprocessing)\n",
    "\n",
    "# tfidf = tfidf_vectorizer.fit_transform(all_text)\n",
    "\n",
    "# kmeans = KMeans(n_clusters=2).fit(tfidf)"
   ]
  },
  {
   "cell_type": "code",
   "execution_count": 30,
   "metadata": {},
   "outputs": [
    {
     "data": {
      "text/plain": [
       "array([0, 1])"
      ]
     },
     "execution_count": 30,
     "metadata": {},
     "output_type": "execute_result"
    }
   ],
   "source": [
    "# lines_for_predicting = [\"tf and idf is awesome!\", \"some androids is there\"]\n",
    "# kmeans.predict(tfidf_vectorizer.transform(lines_for_predicting))"
   ]
  },
  {
   "cell_type": "markdown",
   "metadata": {},
   "source": [
    "_________________________________________________"
   ]
  },
  {
   "cell_type": "markdown",
   "metadata": {},
   "source": [
    "### FEATURE ENGINEERING"
   ]
  },
  {
   "cell_type": "code",
   "execution_count": 4,
   "metadata": {},
   "outputs": [
    {
     "data": {
      "text/plain": [
       "(649, 17)"
      ]
     },
     "execution_count": 4,
     "metadata": {},
     "output_type": "execute_result"
    }
   ],
   "source": [
    "import pandas as pd\n",
    "clean_df= pd.read_csv('upd_clean_df.csv')\n",
    "clean_df.drop('Unnamed: 0',inplace = True,axis = 1)\n",
    "clean_df.shape"
   ]
  },
  {
   "cell_type": "code",
   "execution_count": 5,
   "metadata": {},
   "outputs": [
    {
     "data": {
      "text/plain": [
       "(638, 17)"
      ]
     },
     "execution_count": 5,
     "metadata": {},
     "output_type": "execute_result"
    }
   ],
   "source": [
    "\n",
    "clean_df = clean_df[~clean_df.clean_text.isnull()]\n",
    "# clean_df[clean_df.clean_text.isnull()].shape\n",
    "clean_df.shape"
   ]
  },
  {
   "cell_type": "code",
   "execution_count": 6,
   "metadata": {},
   "outputs": [],
   "source": [
    "# TF-IDF\n",
    "from sklearn.feature_extraction.text import TfidfVectorizer\n",
    "from sklearn.feature_extraction.text import CountVectorizer\n",
    "\n",
    "tf_idf_vect = TfidfVectorizer(ngram_range=(1,2))\n",
    "final_tf_idf = tf_idf_vect.fit_transform(clean_df['clean_text'].values)\n",
    "\n",
    "# bow_vect = CountVectorizer(ngram_range=(1,2))\n",
    "# bag_of_words = count_vectorizer.fit_transform(clean_df['clean_text'])"
   ]
  },
  {
   "cell_type": "code",
   "execution_count": 7,
   "metadata": {},
   "outputs": [
    {
     "name": "stdout",
     "output_type": "stream",
     "text": [
      "(638, 4309)\n"
     ]
    }
   ],
   "source": [
    "print(final_tf_idf.shape)"
   ]
  },
  {
   "cell_type": "code",
   "execution_count": 8,
   "metadata": {},
   "outputs": [
    {
     "data": {
      "text/plain": [
       "(638, 4309)"
      ]
     },
     "execution_count": 8,
     "metadata": {},
     "output_type": "execute_result"
    }
   ],
   "source": [
    "# добавление tfidf в матрицу фичей\n",
    "feature_names = tf_idf_vect.get_feature_names()\n",
    "feature_df = pd.DataFrame(final_tf_idf.toarray(), columns = feature_names)\n",
    "feature_df.shape"
   ]
  },
  {
   "cell_type": "code",
   "execution_count": 9,
   "metadata": {},
   "outputs": [
    {
     "data": {
      "text/plain": [
       "0.034482758620689655"
      ]
     },
     "execution_count": 9,
     "metadata": {},
     "output_type": "execute_result"
    }
   ],
   "source": [
    "# вероятность городов\n",
    "def city_proba(city):\n",
    "    if type(city) != str:\n",
    "        return clean_df[clean_df['location'].isna()]['location'].shape[0]/clean_df.shape[0]\n",
    "    else:\n",
    "        proba = clean_df.location.value_counts()/clean_df.shape[0]\n",
    "    return proba[city]\n",
    "\n",
    "city_proba('Stockholm, Sweden')\n"
   ]
  },
  {
   "cell_type": "code",
   "execution_count": 10,
   "metadata": {},
   "outputs": [
    {
     "data": {
      "text/plain": [
       "638"
      ]
     },
     "execution_count": 10,
     "metadata": {},
     "output_type": "execute_result"
    }
   ],
   "source": [
    "# проверка количества строк\n",
    "clean_df[clean_df['location'].isna()]['location'].shape[0]+clean_df.location.value_counts().sum()"
   ]
  },
  {
   "cell_type": "code",
   "execution_count": 11,
   "metadata": {},
   "outputs": [],
   "source": [
    "clean_df['location_proba'] = clean_df['location'].apply(lambda x:city_proba(x))\n",
    "location_proba = list(clean_df['location_proba'])\n",
    "feature_df['location_proba'] = location_proba\n",
    "\n"
   ]
  },
  {
   "cell_type": "code",
   "execution_count": 12,
   "metadata": {},
   "outputs": [
    {
     "data": {
      "text/plain": [
       "(0, 4310)"
      ]
     },
     "execution_count": 12,
     "metadata": {},
     "output_type": "execute_result"
    }
   ],
   "source": [
    "feature_df[feature_df['location_proba'].isna()].shape"
   ]
  },
  {
   "cell_type": "markdown",
   "metadata": {},
   "source": [
    "### RFM analysis"
   ]
  },
  {
   "cell_type": "code",
   "execution_count": 13,
   "metadata": {},
   "outputs": [
    {
     "data": {
      "text/html": [
       "<div>\n",
       "<style scoped>\n",
       "    .dataframe tbody tr th:only-of-type {\n",
       "        vertical-align: middle;\n",
       "    }\n",
       "\n",
       "    .dataframe tbody tr th {\n",
       "        vertical-align: top;\n",
       "    }\n",
       "\n",
       "    .dataframe thead th {\n",
       "        text-align: right;\n",
       "    }\n",
       "</style>\n",
       "<table border=\"1\" class=\"dataframe\">\n",
       "  <thead>\n",
       "    <tr style=\"text-align: right;\">\n",
       "      <th></th>\n",
       "      <th>screen_name</th>\n",
       "      <th>carrier</th>\n",
       "      <th>location</th>\n",
       "      <th>date_time</th>\n",
       "      <th>clean_text</th>\n",
       "      <th>polarity</th>\n",
       "      <th>fact</th>\n",
       "      <th>month</th>\n",
       "      <th>hour</th>\n",
       "      <th>sense_dummy</th>\n",
       "      <th>text_len</th>\n",
       "      <th>day</th>\n",
       "      <th>day_of_month</th>\n",
       "      <th>part_of_day</th>\n",
       "      <th>seconds</th>\n",
       "      <th>sin_time</th>\n",
       "      <th>cos_time</th>\n",
       "      <th>location_proba</th>\n",
       "    </tr>\n",
       "  </thead>\n",
       "  <tbody>\n",
       "    <tr>\n",
       "      <th>0</th>\n",
       "      <td>TheSkubis</td>\n",
       "      <td>verizonsupport</td>\n",
       "      <td>Pennsylvania, USA</td>\n",
       "      <td>2021-03-30 23:59:19</td>\n",
       "      <td>issue closed caption walking dead show display...</td>\n",
       "      <td>-0.150</td>\n",
       "      <td>1</td>\n",
       "      <td>3</td>\n",
       "      <td>23</td>\n",
       "      <td>-1</td>\n",
       "      <td>51</td>\n",
       "      <td>1</td>\n",
       "      <td>30</td>\n",
       "      <td>evening</td>\n",
       "      <td>19</td>\n",
       "      <td>0.001382</td>\n",
       "      <td>0.999999</td>\n",
       "      <td>0.003135</td>\n",
       "    </tr>\n",
       "    <tr>\n",
       "      <th>1</th>\n",
       "      <td>VerizonSupport</td>\n",
       "      <td>verizonsupport</td>\n",
       "      <td>NaN</td>\n",
       "      <td>2021-03-30 23:56:55</td>\n",
       "      <td>this could due regional restriction have check...</td>\n",
       "      <td>-0.125</td>\n",
       "      <td>1</td>\n",
       "      <td>3</td>\n",
       "      <td>23</td>\n",
       "      <td>-1</td>\n",
       "      <td>52</td>\n",
       "      <td>1</td>\n",
       "      <td>30</td>\n",
       "      <td>evening</td>\n",
       "      <td>55</td>\n",
       "      <td>0.004000</td>\n",
       "      <td>0.999992</td>\n",
       "      <td>0.412226</td>\n",
       "    </tr>\n",
       "    <tr>\n",
       "      <th>2</th>\n",
       "      <td>VerizonSupport</td>\n",
       "      <td>verizonsupport</td>\n",
       "      <td>NaN</td>\n",
       "      <td>2021-03-30 23:55:30</td>\n",
       "      <td>happy help anything related fios twitter pleas...</td>\n",
       "      <td>0.400</td>\n",
       "      <td>0</td>\n",
       "      <td>3</td>\n",
       "      <td>23</td>\n",
       "      <td>1</td>\n",
       "      <td>63</td>\n",
       "      <td>1</td>\n",
       "      <td>30</td>\n",
       "      <td>evening</td>\n",
       "      <td>30</td>\n",
       "      <td>0.002182</td>\n",
       "      <td>0.999998</td>\n",
       "      <td>0.412226</td>\n",
       "    </tr>\n",
       "  </tbody>\n",
       "</table>\n",
       "</div>"
      ],
      "text/plain": [
       "      screen_name         carrier           location            date_time  \\\n",
       "0       TheSkubis  verizonsupport  Pennsylvania, USA  2021-03-30 23:59:19   \n",
       "1  VerizonSupport  verizonsupport                NaN  2021-03-30 23:56:55   \n",
       "2  VerizonSupport  verizonsupport                NaN  2021-03-30 23:55:30   \n",
       "\n",
       "                                          clean_text  polarity  fact  month  \\\n",
       "0  issue closed caption walking dead show display...    -0.150     1      3   \n",
       "1  this could due regional restriction have check...    -0.125     1      3   \n",
       "2  happy help anything related fios twitter pleas...     0.400     0      3   \n",
       "\n",
       "   hour  sense_dummy  text_len  day  day_of_month part_of_day  seconds  \\\n",
       "0    23           -1        51    1            30     evening       19   \n",
       "1    23           -1        52    1            30     evening       55   \n",
       "2    23            1        63    1            30     evening       30   \n",
       "\n",
       "   sin_time  cos_time  location_proba  \n",
       "0  0.001382  0.999999        0.003135  \n",
       "1  0.004000  0.999992        0.412226  \n",
       "2  0.002182  0.999998        0.412226  "
      ]
     },
     "execution_count": 13,
     "metadata": {},
     "output_type": "execute_result"
    }
   ],
   "source": [
    "clean_df.head(3)"
   ]
  },
  {
   "cell_type": "code",
   "execution_count": 14,
   "metadata": {},
   "outputs": [
    {
     "data": {
      "text/html": [
       "<div>\n",
       "<style scoped>\n",
       "    .dataframe tbody tr th:only-of-type {\n",
       "        vertical-align: middle;\n",
       "    }\n",
       "\n",
       "    .dataframe tbody tr th {\n",
       "        vertical-align: top;\n",
       "    }\n",
       "\n",
       "    .dataframe thead th {\n",
       "        text-align: right;\n",
       "    }\n",
       "</style>\n",
       "<table border=\"1\" class=\"dataframe\">\n",
       "  <thead>\n",
       "    <tr style=\"text-align: right;\">\n",
       "      <th></th>\n",
       "      <th>able</th>\n",
       "      <th>able get</th>\n",
       "      <th>able help</th>\n",
       "      <th>able redeem</th>\n",
       "      <th>able watch</th>\n",
       "      <th>absolutely</th>\n",
       "      <th>absolutely horrendous</th>\n",
       "      <th>absolutely suck</th>\n",
       "      <th>acce</th>\n",
       "      <th>access</th>\n",
       "      <th>...</th>\n",
       "      <th>ypr</th>\n",
       "      <th>ypr yard</th>\n",
       "      <th>yr</th>\n",
       "      <th>yr ago</th>\n",
       "      <th>zip</th>\n",
       "      <th>zip code</th>\n",
       "      <th>𝐋𝐄𝐀𝐃𝐄𝐑</th>\n",
       "      <th>𝐓𝐇𝐄</th>\n",
       "      <th>𝐓𝐇𝐄 𝐋𝐄𝐀𝐃𝐄𝐑</th>\n",
       "      <th>location_proba</th>\n",
       "    </tr>\n",
       "  </thead>\n",
       "  <tbody>\n",
       "    <tr>\n",
       "      <th>0</th>\n",
       "      <td>0.0</td>\n",
       "      <td>0.0</td>\n",
       "      <td>0.0</td>\n",
       "      <td>0.0</td>\n",
       "      <td>0.0</td>\n",
       "      <td>0.0</td>\n",
       "      <td>0.0</td>\n",
       "      <td>0.0</td>\n",
       "      <td>0.0</td>\n",
       "      <td>0.0</td>\n",
       "      <td>...</td>\n",
       "      <td>0.0</td>\n",
       "      <td>0.0</td>\n",
       "      <td>0.0</td>\n",
       "      <td>0.0</td>\n",
       "      <td>0.0</td>\n",
       "      <td>0.0</td>\n",
       "      <td>0.0</td>\n",
       "      <td>0.0</td>\n",
       "      <td>0.0</td>\n",
       "      <td>0.003135</td>\n",
       "    </tr>\n",
       "    <tr>\n",
       "      <th>1</th>\n",
       "      <td>0.0</td>\n",
       "      <td>0.0</td>\n",
       "      <td>0.0</td>\n",
       "      <td>0.0</td>\n",
       "      <td>0.0</td>\n",
       "      <td>0.0</td>\n",
       "      <td>0.0</td>\n",
       "      <td>0.0</td>\n",
       "      <td>0.0</td>\n",
       "      <td>0.0</td>\n",
       "      <td>...</td>\n",
       "      <td>0.0</td>\n",
       "      <td>0.0</td>\n",
       "      <td>0.0</td>\n",
       "      <td>0.0</td>\n",
       "      <td>0.0</td>\n",
       "      <td>0.0</td>\n",
       "      <td>0.0</td>\n",
       "      <td>0.0</td>\n",
       "      <td>0.0</td>\n",
       "      <td>0.412226</td>\n",
       "    </tr>\n",
       "    <tr>\n",
       "      <th>2</th>\n",
       "      <td>0.0</td>\n",
       "      <td>0.0</td>\n",
       "      <td>0.0</td>\n",
       "      <td>0.0</td>\n",
       "      <td>0.0</td>\n",
       "      <td>0.0</td>\n",
       "      <td>0.0</td>\n",
       "      <td>0.0</td>\n",
       "      <td>0.0</td>\n",
       "      <td>0.0</td>\n",
       "      <td>...</td>\n",
       "      <td>0.0</td>\n",
       "      <td>0.0</td>\n",
       "      <td>0.0</td>\n",
       "      <td>0.0</td>\n",
       "      <td>0.0</td>\n",
       "      <td>0.0</td>\n",
       "      <td>0.0</td>\n",
       "      <td>0.0</td>\n",
       "      <td>0.0</td>\n",
       "      <td>0.412226</td>\n",
       "    </tr>\n",
       "  </tbody>\n",
       "</table>\n",
       "<p>3 rows × 4310 columns</p>\n",
       "</div>"
      ],
      "text/plain": [
       "   able  able get  able help  able redeem  able watch  absolutely  \\\n",
       "0   0.0       0.0        0.0          0.0         0.0         0.0   \n",
       "1   0.0       0.0        0.0          0.0         0.0         0.0   \n",
       "2   0.0       0.0        0.0          0.0         0.0         0.0   \n",
       "\n",
       "   absolutely horrendous  absolutely suck  acce  access  ...  ypr  ypr yard  \\\n",
       "0                    0.0              0.0   0.0     0.0  ...  0.0       0.0   \n",
       "1                    0.0              0.0   0.0     0.0  ...  0.0       0.0   \n",
       "2                    0.0              0.0   0.0     0.0  ...  0.0       0.0   \n",
       "\n",
       "    yr  yr ago  zip  zip code  𝐋𝐄𝐀𝐃𝐄𝐑  𝐓𝐇𝐄  𝐓𝐇𝐄 𝐋𝐄𝐀𝐃𝐄𝐑  location_proba  \n",
       "0  0.0     0.0  0.0       0.0     0.0  0.0         0.0        0.003135  \n",
       "1  0.0     0.0  0.0       0.0     0.0  0.0         0.0        0.412226  \n",
       "2  0.0     0.0  0.0       0.0     0.0  0.0         0.0        0.412226  \n",
       "\n",
       "[3 rows x 4310 columns]"
      ]
     },
     "execution_count": 14,
     "metadata": {},
     "output_type": "execute_result"
    }
   ],
   "source": [
    "feature_df.head(3)"
   ]
  },
  {
   "cell_type": "code",
   "execution_count": 15,
   "metadata": {},
   "outputs": [],
   "source": [
    "import datetime as dt\n",
    "import re\n",
    "clean_df['datetime'] = clean_df['date_time'].apply(lambda x: dt.datetime.strptime(x, '%Y-%m-%d %H:%M:%S'))\n",
    "clean_df['datetime'] = clean_df['datetime'].apply(dt.datetime.date)\n"
   ]
  },
  {
   "cell_type": "code",
   "execution_count": 16,
   "metadata": {},
   "outputs": [
    {
     "data": {
      "text/html": [
       "<div>\n",
       "<style scoped>\n",
       "    .dataframe tbody tr th:only-of-type {\n",
       "        vertical-align: middle;\n",
       "    }\n",
       "\n",
       "    .dataframe tbody tr th {\n",
       "        vertical-align: top;\n",
       "    }\n",
       "\n",
       "    .dataframe thead th {\n",
       "        text-align: right;\n",
       "    }\n",
       "</style>\n",
       "<table border=\"1\" class=\"dataframe\">\n",
       "  <thead>\n",
       "    <tr style=\"text-align: right;\">\n",
       "      <th></th>\n",
       "      <th>able</th>\n",
       "      <th>able get</th>\n",
       "      <th>able help</th>\n",
       "      <th>able redeem</th>\n",
       "      <th>able watch</th>\n",
       "      <th>absolutely</th>\n",
       "      <th>absolutely horrendous</th>\n",
       "      <th>absolutely suck</th>\n",
       "      <th>acce</th>\n",
       "      <th>access</th>\n",
       "      <th>...</th>\n",
       "      <th>ypr yard</th>\n",
       "      <th>yr</th>\n",
       "      <th>yr ago</th>\n",
       "      <th>zip</th>\n",
       "      <th>zip code</th>\n",
       "      <th>𝐋𝐄𝐀𝐃𝐄𝐑</th>\n",
       "      <th>𝐓𝐇𝐄</th>\n",
       "      <th>𝐓𝐇𝐄 𝐋𝐄𝐀𝐃𝐄𝐑</th>\n",
       "      <th>location_proba</th>\n",
       "      <th>recency</th>\n",
       "    </tr>\n",
       "  </thead>\n",
       "  <tbody>\n",
       "  </tbody>\n",
       "</table>\n",
       "<p>0 rows × 4311 columns</p>\n",
       "</div>"
      ],
      "text/plain": [
       "Empty DataFrame\n",
       "Columns: [able, able get, able help, able redeem, able watch, absolutely, absolutely horrendous, absolutely suck, acce, access, access landline, account, account anything, account been, account detail, account eligible, account got, account migrate, account see, account team, account using, account vacation, across, across country, acting, activating, activating verizon, active, active service, actually, actually charging, actually heard, actually said, add, add lol, added, added insurance, additional, additional context, additional fee, address, address called, affleck, affleck intense, afternoon, afternoon michael, afternoon productivity, age, age coming, agent, agent talked, agent they, ago, ago also, ago consumer, ago feel, ago ill, ago see, ago south, ago they, ahh, ahh tvision, alan, alan virtual, alejandror, alert, alert area, alert message, alert system, alexisdean, all, all company, all gotta, allowing, allowing exchange, almost, almost overnight, almost time, along, along feedback, along gift, along great, alongside, alongside help, already, already check, already chip, already following, alright, alright true, also, also pay, also regarding, also related, also tnt, also tried, also use, alternate, although, although hold, ...]\n",
       "Index: []\n",
       "\n",
       "[0 rows x 4311 columns]"
      ]
     },
     "execution_count": 16,
     "metadata": {},
     "output_type": "execute_result"
    }
   ],
   "source": [
    "recency = list(clean_df['datetime'].apply(lambda x: dt.date.today() - x))\n",
    "recency\n",
    "feature_df['recency'] = recency\n",
    "feature_df['recency'] = feature_df['recency'].apply(lambda x: int(str(x).split()[0]))\n",
    "feature_df[feature_df['recency'] == 'NaT']"
   ]
  },
  {
   "cell_type": "code",
   "execution_count": 503,
   "metadata": {},
   "outputs": [],
   "source": [
    "# feature_df[feature_df['location_proba'].isna()]"
   ]
  },
  {
   "cell_type": "code",
   "execution_count": 17,
   "metadata": {},
   "outputs": [],
   "source": [
    "# feature_df['frequency'] = f\n",
    "frequency = list(clean_df['screen_name'].apply(lambda x: clean_df[clean_df['screen_name'] == x].shape[0]))\n",
    "feature_df['frequency'] = frequency\n",
    "clean_df['frequency'] = clean_df['screen_name'].apply(lambda x: clean_df[clean_df['screen_name'] == x].shape[0])"
   ]
  },
  {
   "cell_type": "code",
   "execution_count": 18,
   "metadata": {},
   "outputs": [
    {
     "data": {
      "text/html": [
       "<div>\n",
       "<style scoped>\n",
       "    .dataframe tbody tr th:only-of-type {\n",
       "        vertical-align: middle;\n",
       "    }\n",
       "\n",
       "    .dataframe tbody tr th {\n",
       "        vertical-align: top;\n",
       "    }\n",
       "\n",
       "    .dataframe thead th {\n",
       "        text-align: right;\n",
       "    }\n",
       "</style>\n",
       "<table border=\"1\" class=\"dataframe\">\n",
       "  <thead>\n",
       "    <tr style=\"text-align: right;\">\n",
       "      <th></th>\n",
       "      <th>able</th>\n",
       "      <th>able get</th>\n",
       "      <th>able help</th>\n",
       "      <th>able redeem</th>\n",
       "      <th>able watch</th>\n",
       "      <th>absolutely</th>\n",
       "      <th>absolutely horrendous</th>\n",
       "      <th>absolutely suck</th>\n",
       "      <th>acce</th>\n",
       "      <th>access</th>\n",
       "      <th>...</th>\n",
       "      <th>yr ago</th>\n",
       "      <th>zip</th>\n",
       "      <th>zip code</th>\n",
       "      <th>𝐋𝐄𝐀𝐃𝐄𝐑</th>\n",
       "      <th>𝐓𝐇𝐄</th>\n",
       "      <th>𝐓𝐇𝐄 𝐋𝐄𝐀𝐃𝐄𝐑</th>\n",
       "      <th>location_proba</th>\n",
       "      <th>recency</th>\n",
       "      <th>frequency</th>\n",
       "      <th>monetary</th>\n",
       "    </tr>\n",
       "  </thead>\n",
       "  <tbody>\n",
       "    <tr>\n",
       "      <th>0</th>\n",
       "      <td>0.0</td>\n",
       "      <td>0.0</td>\n",
       "      <td>0.0</td>\n",
       "      <td>0.0</td>\n",
       "      <td>0.0</td>\n",
       "      <td>0.0</td>\n",
       "      <td>0.0</td>\n",
       "      <td>0.0</td>\n",
       "      <td>0.0</td>\n",
       "      <td>0.0</td>\n",
       "      <td>...</td>\n",
       "      <td>0.0</td>\n",
       "      <td>0.0</td>\n",
       "      <td>0.0</td>\n",
       "      <td>0.0</td>\n",
       "      <td>0.0</td>\n",
       "      <td>0.0</td>\n",
       "      <td>0.003135</td>\n",
       "      <td>15</td>\n",
       "      <td>1</td>\n",
       "      <td>-0.150</td>\n",
       "    </tr>\n",
       "    <tr>\n",
       "      <th>1</th>\n",
       "      <td>0.0</td>\n",
       "      <td>0.0</td>\n",
       "      <td>0.0</td>\n",
       "      <td>0.0</td>\n",
       "      <td>0.0</td>\n",
       "      <td>0.0</td>\n",
       "      <td>0.0</td>\n",
       "      <td>0.0</td>\n",
       "      <td>0.0</td>\n",
       "      <td>0.0</td>\n",
       "      <td>...</td>\n",
       "      <td>0.0</td>\n",
       "      <td>0.0</td>\n",
       "      <td>0.0</td>\n",
       "      <td>0.0</td>\n",
       "      <td>0.0</td>\n",
       "      <td>0.0</td>\n",
       "      <td>0.412226</td>\n",
       "      <td>15</td>\n",
       "      <td>38</td>\n",
       "      <td>-0.125</td>\n",
       "    </tr>\n",
       "    <tr>\n",
       "      <th>2</th>\n",
       "      <td>0.0</td>\n",
       "      <td>0.0</td>\n",
       "      <td>0.0</td>\n",
       "      <td>0.0</td>\n",
       "      <td>0.0</td>\n",
       "      <td>0.0</td>\n",
       "      <td>0.0</td>\n",
       "      <td>0.0</td>\n",
       "      <td>0.0</td>\n",
       "      <td>0.0</td>\n",
       "      <td>...</td>\n",
       "      <td>0.0</td>\n",
       "      <td>0.0</td>\n",
       "      <td>0.0</td>\n",
       "      <td>0.0</td>\n",
       "      <td>0.0</td>\n",
       "      <td>0.0</td>\n",
       "      <td>0.412226</td>\n",
       "      <td>15</td>\n",
       "      <td>38</td>\n",
       "      <td>0.400</td>\n",
       "    </tr>\n",
       "  </tbody>\n",
       "</table>\n",
       "<p>3 rows × 4313 columns</p>\n",
       "</div>"
      ],
      "text/plain": [
       "   able  able get  able help  able redeem  able watch  absolutely  \\\n",
       "0   0.0       0.0        0.0          0.0         0.0         0.0   \n",
       "1   0.0       0.0        0.0          0.0         0.0         0.0   \n",
       "2   0.0       0.0        0.0          0.0         0.0         0.0   \n",
       "\n",
       "   absolutely horrendous  absolutely suck  acce  access  ...  yr ago  zip  \\\n",
       "0                    0.0              0.0   0.0     0.0  ...     0.0  0.0   \n",
       "1                    0.0              0.0   0.0     0.0  ...     0.0  0.0   \n",
       "2                    0.0              0.0   0.0     0.0  ...     0.0  0.0   \n",
       "\n",
       "   zip code  𝐋𝐄𝐀𝐃𝐄𝐑  𝐓𝐇𝐄  𝐓𝐇𝐄 𝐋𝐄𝐀𝐃𝐄𝐑  location_proba  recency  frequency  \\\n",
       "0       0.0     0.0  0.0         0.0        0.003135       15          1   \n",
       "1       0.0     0.0  0.0         0.0        0.412226       15         38   \n",
       "2       0.0     0.0  0.0         0.0        0.412226       15         38   \n",
       "\n",
       "   monetary  \n",
       "0    -0.150  \n",
       "1    -0.125  \n",
       "2     0.400  \n",
       "\n",
       "[3 rows x 4313 columns]"
      ]
     },
     "execution_count": 18,
     "metadata": {},
     "output_type": "execute_result"
    }
   ],
   "source": [
    "monetary = list(clean_df['polarity'])\n",
    "feature_df['monetary'] = monetary\n",
    "feature_df.head(3)"
   ]
  },
  {
   "cell_type": "code",
   "execution_count": 19,
   "metadata": {},
   "outputs": [],
   "source": [
    "# recency\n",
    "r_q3 = feature_df['recency'].quantile(0.3)\n",
    "r_q6 = feature_df['recency'].quantile(0.6)\n",
    "\n",
    "feature_df['r'] = feature_df['recency'].apply(lambda x: 1 if x < r_q3 else(2 if r_q3<x<r_q6 else 3)  )\n",
    "# frequency\n",
    "f_q3 = feature_df['frequency'].quantile(0.3)\n",
    "f_q6 = feature_df['frequency'].quantile(0.6)\n",
    "\n",
    "feature_df['f'] = feature_df['frequency'].apply(lambda x: 1 if x < f_q3 else(2 if f_q3<x<f_q6 else 3)  )\n",
    "\n",
    "# monetary\n",
    "m_q3 = feature_df['monetary'].quantile(0.3)\n",
    "m_q6 = feature_df['monetary'].quantile(0.6)\n",
    "\n",
    "feature_df['m'] = feature_df['monetary'].apply(lambda x: 1 if x < m_q3 else(2 if m_q3<x<m_q6 else 3)  )\n",
    "feature_df['rfm'] = feature_df['r']*100 + feature_df['f']*10 + feature_df['m']"
   ]
  },
  {
   "cell_type": "code",
   "execution_count": 20,
   "metadata": {},
   "outputs": [
    {
     "data": {
      "text/html": [
       "<div>\n",
       "<style scoped>\n",
       "    .dataframe tbody tr th:only-of-type {\n",
       "        vertical-align: middle;\n",
       "    }\n",
       "\n",
       "    .dataframe tbody tr th {\n",
       "        vertical-align: top;\n",
       "    }\n",
       "\n",
       "    .dataframe thead th {\n",
       "        text-align: right;\n",
       "    }\n",
       "</style>\n",
       "<table border=\"1\" class=\"dataframe\">\n",
       "  <thead>\n",
       "    <tr style=\"text-align: right;\">\n",
       "      <th></th>\n",
       "      <th>able</th>\n",
       "      <th>able get</th>\n",
       "      <th>able help</th>\n",
       "      <th>able redeem</th>\n",
       "      <th>able watch</th>\n",
       "      <th>absolutely</th>\n",
       "      <th>absolutely horrendous</th>\n",
       "      <th>absolutely suck</th>\n",
       "      <th>acce</th>\n",
       "      <th>access</th>\n",
       "      <th>...</th>\n",
       "      <th>zip</th>\n",
       "      <th>zip code</th>\n",
       "      <th>𝐋𝐄𝐀𝐃𝐄𝐑</th>\n",
       "      <th>𝐓𝐇𝐄</th>\n",
       "      <th>𝐓𝐇𝐄 𝐋𝐄𝐀𝐃𝐄𝐑</th>\n",
       "      <th>location_proba</th>\n",
       "      <th>r</th>\n",
       "      <th>f</th>\n",
       "      <th>m</th>\n",
       "      <th>rfm</th>\n",
       "    </tr>\n",
       "  </thead>\n",
       "  <tbody>\n",
       "    <tr>\n",
       "      <th>0</th>\n",
       "      <td>0.0</td>\n",
       "      <td>0.0</td>\n",
       "      <td>0.0</td>\n",
       "      <td>0.0</td>\n",
       "      <td>0.0</td>\n",
       "      <td>0.0</td>\n",
       "      <td>0.0</td>\n",
       "      <td>0.0</td>\n",
       "      <td>0.0</td>\n",
       "      <td>0.0</td>\n",
       "      <td>...</td>\n",
       "      <td>0.0</td>\n",
       "      <td>0.0</td>\n",
       "      <td>0.0</td>\n",
       "      <td>0.0</td>\n",
       "      <td>0.0</td>\n",
       "      <td>0.003135</td>\n",
       "      <td>3</td>\n",
       "      <td>3</td>\n",
       "      <td>1</td>\n",
       "      <td>331</td>\n",
       "    </tr>\n",
       "    <tr>\n",
       "      <th>1</th>\n",
       "      <td>0.0</td>\n",
       "      <td>0.0</td>\n",
       "      <td>0.0</td>\n",
       "      <td>0.0</td>\n",
       "      <td>0.0</td>\n",
       "      <td>0.0</td>\n",
       "      <td>0.0</td>\n",
       "      <td>0.0</td>\n",
       "      <td>0.0</td>\n",
       "      <td>0.0</td>\n",
       "      <td>...</td>\n",
       "      <td>0.0</td>\n",
       "      <td>0.0</td>\n",
       "      <td>0.0</td>\n",
       "      <td>0.0</td>\n",
       "      <td>0.0</td>\n",
       "      <td>0.412226</td>\n",
       "      <td>3</td>\n",
       "      <td>3</td>\n",
       "      <td>1</td>\n",
       "      <td>331</td>\n",
       "    </tr>\n",
       "    <tr>\n",
       "      <th>2</th>\n",
       "      <td>0.0</td>\n",
       "      <td>0.0</td>\n",
       "      <td>0.0</td>\n",
       "      <td>0.0</td>\n",
       "      <td>0.0</td>\n",
       "      <td>0.0</td>\n",
       "      <td>0.0</td>\n",
       "      <td>0.0</td>\n",
       "      <td>0.0</td>\n",
       "      <td>0.0</td>\n",
       "      <td>...</td>\n",
       "      <td>0.0</td>\n",
       "      <td>0.0</td>\n",
       "      <td>0.0</td>\n",
       "      <td>0.0</td>\n",
       "      <td>0.0</td>\n",
       "      <td>0.412226</td>\n",
       "      <td>3</td>\n",
       "      <td>3</td>\n",
       "      <td>3</td>\n",
       "      <td>333</td>\n",
       "    </tr>\n",
       "    <tr>\n",
       "      <th>3</th>\n",
       "      <td>0.0</td>\n",
       "      <td>0.0</td>\n",
       "      <td>0.0</td>\n",
       "      <td>0.0</td>\n",
       "      <td>0.0</td>\n",
       "      <td>0.0</td>\n",
       "      <td>0.0</td>\n",
       "      <td>0.0</td>\n",
       "      <td>0.0</td>\n",
       "      <td>0.0</td>\n",
       "      <td>...</td>\n",
       "      <td>0.0</td>\n",
       "      <td>0.0</td>\n",
       "      <td>0.0</td>\n",
       "      <td>0.0</td>\n",
       "      <td>0.0</td>\n",
       "      <td>0.412226</td>\n",
       "      <td>3</td>\n",
       "      <td>3</td>\n",
       "      <td>3</td>\n",
       "      <td>333</td>\n",
       "    </tr>\n",
       "    <tr>\n",
       "      <th>4</th>\n",
       "      <td>0.0</td>\n",
       "      <td>0.0</td>\n",
       "      <td>0.0</td>\n",
       "      <td>0.0</td>\n",
       "      <td>0.0</td>\n",
       "      <td>0.0</td>\n",
       "      <td>0.0</td>\n",
       "      <td>0.0</td>\n",
       "      <td>0.0</td>\n",
       "      <td>0.0</td>\n",
       "      <td>...</td>\n",
       "      <td>0.0</td>\n",
       "      <td>0.0</td>\n",
       "      <td>0.0</td>\n",
       "      <td>0.0</td>\n",
       "      <td>0.0</td>\n",
       "      <td>0.412226</td>\n",
       "      <td>3</td>\n",
       "      <td>3</td>\n",
       "      <td>3</td>\n",
       "      <td>333</td>\n",
       "    </tr>\n",
       "    <tr>\n",
       "      <th>...</th>\n",
       "      <td>...</td>\n",
       "      <td>...</td>\n",
       "      <td>...</td>\n",
       "      <td>...</td>\n",
       "      <td>...</td>\n",
       "      <td>...</td>\n",
       "      <td>...</td>\n",
       "      <td>...</td>\n",
       "      <td>...</td>\n",
       "      <td>...</td>\n",
       "      <td>...</td>\n",
       "      <td>...</td>\n",
       "      <td>...</td>\n",
       "      <td>...</td>\n",
       "      <td>...</td>\n",
       "      <td>...</td>\n",
       "      <td>...</td>\n",
       "      <td>...</td>\n",
       "      <td>...</td>\n",
       "      <td>...</td>\n",
       "      <td>...</td>\n",
       "    </tr>\n",
       "    <tr>\n",
       "      <th>633</th>\n",
       "      <td>0.0</td>\n",
       "      <td>0.0</td>\n",
       "      <td>0.0</td>\n",
       "      <td>0.0</td>\n",
       "      <td>0.0</td>\n",
       "      <td>0.0</td>\n",
       "      <td>0.0</td>\n",
       "      <td>0.0</td>\n",
       "      <td>0.0</td>\n",
       "      <td>0.0</td>\n",
       "      <td>...</td>\n",
       "      <td>0.0</td>\n",
       "      <td>0.0</td>\n",
       "      <td>0.0</td>\n",
       "      <td>0.0</td>\n",
       "      <td>0.0</td>\n",
       "      <td>0.001567</td>\n",
       "      <td>3</td>\n",
       "      <td>3</td>\n",
       "      <td>3</td>\n",
       "      <td>333</td>\n",
       "    </tr>\n",
       "    <tr>\n",
       "      <th>634</th>\n",
       "      <td>0.0</td>\n",
       "      <td>0.0</td>\n",
       "      <td>0.0</td>\n",
       "      <td>0.0</td>\n",
       "      <td>0.0</td>\n",
       "      <td>0.0</td>\n",
       "      <td>0.0</td>\n",
       "      <td>0.0</td>\n",
       "      <td>0.0</td>\n",
       "      <td>0.0</td>\n",
       "      <td>...</td>\n",
       "      <td>0.0</td>\n",
       "      <td>0.0</td>\n",
       "      <td>0.0</td>\n",
       "      <td>0.0</td>\n",
       "      <td>0.0</td>\n",
       "      <td>0.089342</td>\n",
       "      <td>3</td>\n",
       "      <td>3</td>\n",
       "      <td>3</td>\n",
       "      <td>333</td>\n",
       "    </tr>\n",
       "    <tr>\n",
       "      <th>635</th>\n",
       "      <td>0.0</td>\n",
       "      <td>0.0</td>\n",
       "      <td>0.0</td>\n",
       "      <td>0.0</td>\n",
       "      <td>0.0</td>\n",
       "      <td>0.0</td>\n",
       "      <td>0.0</td>\n",
       "      <td>0.0</td>\n",
       "      <td>0.0</td>\n",
       "      <td>0.0</td>\n",
       "      <td>...</td>\n",
       "      <td>0.0</td>\n",
       "      <td>0.0</td>\n",
       "      <td>0.0</td>\n",
       "      <td>0.0</td>\n",
       "      <td>0.0</td>\n",
       "      <td>0.089342</td>\n",
       "      <td>3</td>\n",
       "      <td>3</td>\n",
       "      <td>3</td>\n",
       "      <td>333</td>\n",
       "    </tr>\n",
       "    <tr>\n",
       "      <th>636</th>\n",
       "      <td>0.0</td>\n",
       "      <td>0.0</td>\n",
       "      <td>0.0</td>\n",
       "      <td>0.0</td>\n",
       "      <td>0.0</td>\n",
       "      <td>0.0</td>\n",
       "      <td>0.0</td>\n",
       "      <td>0.0</td>\n",
       "      <td>0.0</td>\n",
       "      <td>0.0</td>\n",
       "      <td>...</td>\n",
       "      <td>0.0</td>\n",
       "      <td>0.0</td>\n",
       "      <td>0.0</td>\n",
       "      <td>0.0</td>\n",
       "      <td>0.0</td>\n",
       "      <td>0.089342</td>\n",
       "      <td>3</td>\n",
       "      <td>3</td>\n",
       "      <td>3</td>\n",
       "      <td>333</td>\n",
       "    </tr>\n",
       "    <tr>\n",
       "      <th>637</th>\n",
       "      <td>0.0</td>\n",
       "      <td>0.0</td>\n",
       "      <td>0.0</td>\n",
       "      <td>0.0</td>\n",
       "      <td>0.0</td>\n",
       "      <td>0.0</td>\n",
       "      <td>0.0</td>\n",
       "      <td>0.0</td>\n",
       "      <td>0.0</td>\n",
       "      <td>0.0</td>\n",
       "      <td>...</td>\n",
       "      <td>0.0</td>\n",
       "      <td>0.0</td>\n",
       "      <td>0.0</td>\n",
       "      <td>0.0</td>\n",
       "      <td>0.0</td>\n",
       "      <td>0.089342</td>\n",
       "      <td>3</td>\n",
       "      <td>3</td>\n",
       "      <td>3</td>\n",
       "      <td>333</td>\n",
       "    </tr>\n",
       "  </tbody>\n",
       "</table>\n",
       "<p>638 rows × 4314 columns</p>\n",
       "</div>"
      ],
      "text/plain": [
       "     able  able get  able help  able redeem  able watch  absolutely  \\\n",
       "0     0.0       0.0        0.0          0.0         0.0         0.0   \n",
       "1     0.0       0.0        0.0          0.0         0.0         0.0   \n",
       "2     0.0       0.0        0.0          0.0         0.0         0.0   \n",
       "3     0.0       0.0        0.0          0.0         0.0         0.0   \n",
       "4     0.0       0.0        0.0          0.0         0.0         0.0   \n",
       "..    ...       ...        ...          ...         ...         ...   \n",
       "633   0.0       0.0        0.0          0.0         0.0         0.0   \n",
       "634   0.0       0.0        0.0          0.0         0.0         0.0   \n",
       "635   0.0       0.0        0.0          0.0         0.0         0.0   \n",
       "636   0.0       0.0        0.0          0.0         0.0         0.0   \n",
       "637   0.0       0.0        0.0          0.0         0.0         0.0   \n",
       "\n",
       "     absolutely horrendous  absolutely suck  acce  access  ...  zip  zip code  \\\n",
       "0                      0.0              0.0   0.0     0.0  ...  0.0       0.0   \n",
       "1                      0.0              0.0   0.0     0.0  ...  0.0       0.0   \n",
       "2                      0.0              0.0   0.0     0.0  ...  0.0       0.0   \n",
       "3                      0.0              0.0   0.0     0.0  ...  0.0       0.0   \n",
       "4                      0.0              0.0   0.0     0.0  ...  0.0       0.0   \n",
       "..                     ...              ...   ...     ...  ...  ...       ...   \n",
       "633                    0.0              0.0   0.0     0.0  ...  0.0       0.0   \n",
       "634                    0.0              0.0   0.0     0.0  ...  0.0       0.0   \n",
       "635                    0.0              0.0   0.0     0.0  ...  0.0       0.0   \n",
       "636                    0.0              0.0   0.0     0.0  ...  0.0       0.0   \n",
       "637                    0.0              0.0   0.0     0.0  ...  0.0       0.0   \n",
       "\n",
       "     𝐋𝐄𝐀𝐃𝐄𝐑  𝐓𝐇𝐄  𝐓𝐇𝐄 𝐋𝐄𝐀𝐃𝐄𝐑  location_proba  r  f  m  rfm  \n",
       "0       0.0  0.0         0.0        0.003135  3  3  1  331  \n",
       "1       0.0  0.0         0.0        0.412226  3  3  1  331  \n",
       "2       0.0  0.0         0.0        0.412226  3  3  3  333  \n",
       "3       0.0  0.0         0.0        0.412226  3  3  3  333  \n",
       "4       0.0  0.0         0.0        0.412226  3  3  3  333  \n",
       "..      ...  ...         ...             ... .. .. ..  ...  \n",
       "633     0.0  0.0         0.0        0.001567  3  3  3  333  \n",
       "634     0.0  0.0         0.0        0.089342  3  3  3  333  \n",
       "635     0.0  0.0         0.0        0.089342  3  3  3  333  \n",
       "636     0.0  0.0         0.0        0.089342  3  3  3  333  \n",
       "637     0.0  0.0         0.0        0.089342  3  3  3  333  \n",
       "\n",
       "[638 rows x 4314 columns]"
      ]
     },
     "execution_count": 20,
     "metadata": {},
     "output_type": "execute_result"
    }
   ],
   "source": [
    "# feature_df.drop(['r','f','m'],inplace = True,axis = 1)\n",
    "feature_df.drop(['recency','frequency','monetary'],inplace = True,axis = 1)\n",
    "feature_df"
   ]
  },
  {
   "cell_type": "code",
   "execution_count": 21,
   "metadata": {},
   "outputs": [],
   "source": [
    "sin  = list(clean_df['sin_time'])\n",
    "cos = list(clean_df['cos_time'])\n",
    "\n",
    "feature_df['sin_time'] = sin\n",
    "feature_df['cos_time'] = cos"
   ]
  },
  {
   "cell_type": "code",
   "execution_count": 22,
   "metadata": {},
   "outputs": [
    {
     "data": {
      "text/html": [
       "<div>\n",
       "<style scoped>\n",
       "    .dataframe tbody tr th:only-of-type {\n",
       "        vertical-align: middle;\n",
       "    }\n",
       "\n",
       "    .dataframe tbody tr th {\n",
       "        vertical-align: top;\n",
       "    }\n",
       "\n",
       "    .dataframe thead th {\n",
       "        text-align: right;\n",
       "    }\n",
       "</style>\n",
       "<table border=\"1\" class=\"dataframe\">\n",
       "  <thead>\n",
       "    <tr style=\"text-align: right;\">\n",
       "      <th></th>\n",
       "      <th>able</th>\n",
       "      <th>able get</th>\n",
       "      <th>able help</th>\n",
       "      <th>able redeem</th>\n",
       "      <th>able watch</th>\n",
       "      <th>absolutely</th>\n",
       "      <th>absolutely horrendous</th>\n",
       "      <th>absolutely suck</th>\n",
       "      <th>acce</th>\n",
       "      <th>access</th>\n",
       "      <th>...</th>\n",
       "      <th>𝐋𝐄𝐀𝐃𝐄𝐑</th>\n",
       "      <th>𝐓𝐇𝐄</th>\n",
       "      <th>𝐓𝐇𝐄 𝐋𝐄𝐀𝐃𝐄𝐑</th>\n",
       "      <th>location_proba</th>\n",
       "      <th>r</th>\n",
       "      <th>f</th>\n",
       "      <th>m</th>\n",
       "      <th>rfm</th>\n",
       "      <th>sin_time</th>\n",
       "      <th>cos_time</th>\n",
       "    </tr>\n",
       "  </thead>\n",
       "  <tbody>\n",
       "    <tr>\n",
       "      <th>0</th>\n",
       "      <td>0.0</td>\n",
       "      <td>0.0</td>\n",
       "      <td>0.0</td>\n",
       "      <td>0.0</td>\n",
       "      <td>0.0</td>\n",
       "      <td>0.0</td>\n",
       "      <td>0.0</td>\n",
       "      <td>0.0</td>\n",
       "      <td>0.0</td>\n",
       "      <td>0.0</td>\n",
       "      <td>...</td>\n",
       "      <td>0.0</td>\n",
       "      <td>0.0</td>\n",
       "      <td>0.0</td>\n",
       "      <td>0.003135</td>\n",
       "      <td>3</td>\n",
       "      <td>3</td>\n",
       "      <td>1</td>\n",
       "      <td>331</td>\n",
       "      <td>0.001382</td>\n",
       "      <td>0.999999</td>\n",
       "    </tr>\n",
       "    <tr>\n",
       "      <th>1</th>\n",
       "      <td>0.0</td>\n",
       "      <td>0.0</td>\n",
       "      <td>0.0</td>\n",
       "      <td>0.0</td>\n",
       "      <td>0.0</td>\n",
       "      <td>0.0</td>\n",
       "      <td>0.0</td>\n",
       "      <td>0.0</td>\n",
       "      <td>0.0</td>\n",
       "      <td>0.0</td>\n",
       "      <td>...</td>\n",
       "      <td>0.0</td>\n",
       "      <td>0.0</td>\n",
       "      <td>0.0</td>\n",
       "      <td>0.412226</td>\n",
       "      <td>3</td>\n",
       "      <td>3</td>\n",
       "      <td>1</td>\n",
       "      <td>331</td>\n",
       "      <td>0.004000</td>\n",
       "      <td>0.999992</td>\n",
       "    </tr>\n",
       "    <tr>\n",
       "      <th>2</th>\n",
       "      <td>0.0</td>\n",
       "      <td>0.0</td>\n",
       "      <td>0.0</td>\n",
       "      <td>0.0</td>\n",
       "      <td>0.0</td>\n",
       "      <td>0.0</td>\n",
       "      <td>0.0</td>\n",
       "      <td>0.0</td>\n",
       "      <td>0.0</td>\n",
       "      <td>0.0</td>\n",
       "      <td>...</td>\n",
       "      <td>0.0</td>\n",
       "      <td>0.0</td>\n",
       "      <td>0.0</td>\n",
       "      <td>0.412226</td>\n",
       "      <td>3</td>\n",
       "      <td>3</td>\n",
       "      <td>3</td>\n",
       "      <td>333</td>\n",
       "      <td>0.002182</td>\n",
       "      <td>0.999998</td>\n",
       "    </tr>\n",
       "    <tr>\n",
       "      <th>3</th>\n",
       "      <td>0.0</td>\n",
       "      <td>0.0</td>\n",
       "      <td>0.0</td>\n",
       "      <td>0.0</td>\n",
       "      <td>0.0</td>\n",
       "      <td>0.0</td>\n",
       "      <td>0.0</td>\n",
       "      <td>0.0</td>\n",
       "      <td>0.0</td>\n",
       "      <td>0.0</td>\n",
       "      <td>...</td>\n",
       "      <td>0.0</td>\n",
       "      <td>0.0</td>\n",
       "      <td>0.0</td>\n",
       "      <td>0.412226</td>\n",
       "      <td>3</td>\n",
       "      <td>3</td>\n",
       "      <td>3</td>\n",
       "      <td>333</td>\n",
       "      <td>0.001745</td>\n",
       "      <td>0.999998</td>\n",
       "    </tr>\n",
       "    <tr>\n",
       "      <th>4</th>\n",
       "      <td>0.0</td>\n",
       "      <td>0.0</td>\n",
       "      <td>0.0</td>\n",
       "      <td>0.0</td>\n",
       "      <td>0.0</td>\n",
       "      <td>0.0</td>\n",
       "      <td>0.0</td>\n",
       "      <td>0.0</td>\n",
       "      <td>0.0</td>\n",
       "      <td>0.0</td>\n",
       "      <td>...</td>\n",
       "      <td>0.0</td>\n",
       "      <td>0.0</td>\n",
       "      <td>0.0</td>\n",
       "      <td>0.412226</td>\n",
       "      <td>3</td>\n",
       "      <td>3</td>\n",
       "      <td>3</td>\n",
       "      <td>333</td>\n",
       "      <td>0.001891</td>\n",
       "      <td>0.999998</td>\n",
       "    </tr>\n",
       "  </tbody>\n",
       "</table>\n",
       "<p>5 rows × 4316 columns</p>\n",
       "</div>"
      ],
      "text/plain": [
       "   able  able get  able help  able redeem  able watch  absolutely  \\\n",
       "0   0.0       0.0        0.0          0.0         0.0         0.0   \n",
       "1   0.0       0.0        0.0          0.0         0.0         0.0   \n",
       "2   0.0       0.0        0.0          0.0         0.0         0.0   \n",
       "3   0.0       0.0        0.0          0.0         0.0         0.0   \n",
       "4   0.0       0.0        0.0          0.0         0.0         0.0   \n",
       "\n",
       "   absolutely horrendous  absolutely suck  acce  access  ...  𝐋𝐄𝐀𝐃𝐄𝐑  𝐓𝐇𝐄  \\\n",
       "0                    0.0              0.0   0.0     0.0  ...     0.0  0.0   \n",
       "1                    0.0              0.0   0.0     0.0  ...     0.0  0.0   \n",
       "2                    0.0              0.0   0.0     0.0  ...     0.0  0.0   \n",
       "3                    0.0              0.0   0.0     0.0  ...     0.0  0.0   \n",
       "4                    0.0              0.0   0.0     0.0  ...     0.0  0.0   \n",
       "\n",
       "   𝐓𝐇𝐄 𝐋𝐄𝐀𝐃𝐄𝐑  location_proba  r  f  m  rfm  sin_time  cos_time  \n",
       "0         0.0        0.003135  3  3  1  331  0.001382  0.999999  \n",
       "1         0.0        0.412226  3  3  1  331  0.004000  0.999992  \n",
       "2         0.0        0.412226  3  3  3  333  0.002182  0.999998  \n",
       "3         0.0        0.412226  3  3  3  333  0.001745  0.999998  \n",
       "4         0.0        0.412226  3  3  3  333  0.001891  0.999998  \n",
       "\n",
       "[5 rows x 4316 columns]"
      ]
     },
     "execution_count": 22,
     "metadata": {},
     "output_type": "execute_result"
    }
   ],
   "source": [
    "feature_df.head()"
   ]
  },
  {
   "cell_type": "markdown",
   "metadata": {},
   "source": [
    "### CLUSTERING"
   ]
  },
  {
   "cell_type": "markdown",
   "metadata": {},
   "source": [
    "### здесь только fit?"
   ]
  },
  {
   "cell_type": "code",
   "execution_count": 23,
   "metadata": {},
   "outputs": [
    {
     "name": "stdout",
     "output_type": "stream",
     "text": [
      "KMeans(algorithm='auto', copy_x=True, init='k-means++', max_iter=300,\n",
      "       n_clusters=2, n_init=10, n_jobs=None, precompute_distances='auto',\n",
      "       random_state=None, tol=0.0001, verbose=0)\n"
     ]
    },
    {
     "data": {
      "text/html": [
       "<div>\n",
       "<style scoped>\n",
       "    .dataframe tbody tr th:only-of-type {\n",
       "        vertical-align: middle;\n",
       "    }\n",
       "\n",
       "    .dataframe tbody tr th {\n",
       "        vertical-align: top;\n",
       "    }\n",
       "\n",
       "    .dataframe thead th {\n",
       "        text-align: right;\n",
       "    }\n",
       "</style>\n",
       "<table border=\"1\" class=\"dataframe\">\n",
       "  <thead>\n",
       "    <tr style=\"text-align: right;\">\n",
       "      <th></th>\n",
       "      <th>screen_name</th>\n",
       "      <th>carrier</th>\n",
       "      <th>location</th>\n",
       "      <th>date_time</th>\n",
       "      <th>clean_text</th>\n",
       "      <th>polarity</th>\n",
       "      <th>fact</th>\n",
       "      <th>month</th>\n",
       "      <th>hour</th>\n",
       "      <th>sense_dummy</th>\n",
       "      <th>...</th>\n",
       "      <th>day</th>\n",
       "      <th>day_of_month</th>\n",
       "      <th>part_of_day</th>\n",
       "      <th>seconds</th>\n",
       "      <th>sin_time</th>\n",
       "      <th>cos_time</th>\n",
       "      <th>location_proba</th>\n",
       "      <th>datetime</th>\n",
       "      <th>frequency</th>\n",
       "      <th>kmeans_churn</th>\n",
       "    </tr>\n",
       "  </thead>\n",
       "  <tbody>\n",
       "    <tr>\n",
       "      <th>0</th>\n",
       "      <td>TheSkubis</td>\n",
       "      <td>verizonsupport</td>\n",
       "      <td>Pennsylvania, USA</td>\n",
       "      <td>2021-03-30 23:59:19</td>\n",
       "      <td>issue closed caption walking dead show display...</td>\n",
       "      <td>-0.150</td>\n",
       "      <td>1</td>\n",
       "      <td>3</td>\n",
       "      <td>23</td>\n",
       "      <td>-1</td>\n",
       "      <td>...</td>\n",
       "      <td>1</td>\n",
       "      <td>30</td>\n",
       "      <td>evening</td>\n",
       "      <td>19</td>\n",
       "      <td>0.001382</td>\n",
       "      <td>0.999999</td>\n",
       "      <td>0.003135</td>\n",
       "      <td>2021-03-30</td>\n",
       "      <td>1</td>\n",
       "      <td>1</td>\n",
       "    </tr>\n",
       "    <tr>\n",
       "      <th>1</th>\n",
       "      <td>VerizonSupport</td>\n",
       "      <td>verizonsupport</td>\n",
       "      <td>NaN</td>\n",
       "      <td>2021-03-30 23:56:55</td>\n",
       "      <td>this could due regional restriction have check...</td>\n",
       "      <td>-0.125</td>\n",
       "      <td>1</td>\n",
       "      <td>3</td>\n",
       "      <td>23</td>\n",
       "      <td>-1</td>\n",
       "      <td>...</td>\n",
       "      <td>1</td>\n",
       "      <td>30</td>\n",
       "      <td>evening</td>\n",
       "      <td>55</td>\n",
       "      <td>0.004000</td>\n",
       "      <td>0.999992</td>\n",
       "      <td>0.412226</td>\n",
       "      <td>2021-03-30</td>\n",
       "      <td>38</td>\n",
       "      <td>1</td>\n",
       "    </tr>\n",
       "  </tbody>\n",
       "</table>\n",
       "<p>2 rows × 21 columns</p>\n",
       "</div>"
      ],
      "text/plain": [
       "      screen_name         carrier           location            date_time  \\\n",
       "0       TheSkubis  verizonsupport  Pennsylvania, USA  2021-03-30 23:59:19   \n",
       "1  VerizonSupport  verizonsupport                NaN  2021-03-30 23:56:55   \n",
       "\n",
       "                                          clean_text  polarity  fact  month  \\\n",
       "0  issue closed caption walking dead show display...    -0.150     1      3   \n",
       "1  this could due regional restriction have check...    -0.125     1      3   \n",
       "\n",
       "   hour  sense_dummy  ...  day  day_of_month  part_of_day seconds  sin_time  \\\n",
       "0    23           -1  ...    1            30      evening      19  0.001382   \n",
       "1    23           -1  ...    1            30      evening      55  0.004000   \n",
       "\n",
       "   cos_time  location_proba    datetime frequency  kmeans_churn  \n",
       "0  0.999999        0.003135  2021-03-30         1             1  \n",
       "1  0.999992        0.412226  2021-03-30        38             1  \n",
       "\n",
       "[2 rows x 21 columns]"
      ]
     },
     "execution_count": 23,
     "metadata": {},
     "output_type": "execute_result"
    }
   ],
   "source": [
    "num_clusters = 2\n",
    "\n",
    "# Метод к-средних - KMeans\n",
    "from sklearn.cluster import KMeans\n",
    "\n",
    "km = KMeans(n_clusters=num_clusters)\n",
    "print(km)\n",
    "# get_ipython().magic('time km.fit(tfidf_matrix)')\n",
    "idx = km.fit(feature_df)\n",
    "# print(km.labels_)\n",
    "clean_df['kmeans_churn'] = km.labels_\n",
    "# clusters = km.labels_.tolist()\n",
    "clean_df.head(2)"
   ]
  },
  {
   "cell_type": "code",
   "execution_count": 24,
   "metadata": {},
   "outputs": [
    {
     "data": {
      "text/plain": [
       "1    544\n",
       "0     94\n",
       "Name: kmeans_churn, dtype: int64"
      ]
     },
     "execution_count": 24,
     "metadata": {},
     "output_type": "execute_result"
    }
   ],
   "source": [
    "clean_df['kmeans_churn'].value_counts()"
   ]
  },
  {
   "cell_type": "markdown",
   "metadata": {},
   "source": [
    "### накидаем простенькие модельки на 2 случая - когда у нас данные размечены кластеризациией и когда размечены исходя из полярности"
   ]
  },
  {
   "cell_type": "code",
   "execution_count": 25,
   "metadata": {},
   "outputs": [],
   "source": [
    "# split with kmeans\n",
    "from sklearn.model_selection import train_test_split\n",
    "from sklearn.preprocessing import LabelEncoder\n",
    "\n",
    "km_train_x, km_valid_x, km_train_y, km_valid_y = \\\n",
    "    train_test_split(feature_df, clean_df['kmeans_churn'], \\\n",
    "    test_size=0.2, random_state=45)"
   ]
  },
  {
   "cell_type": "code",
   "execution_count": 189,
   "metadata": {},
   "outputs": [],
   "source": [
    "# split with manual targeting by polarity <-0.5\n",
    "# from sklearn.model_selection import train_test_split\n",
    "# from sklearn.preprocessing import LabelEncoder\n",
    "\n",
    "# m_train_x, m_valid_x, m_train_y, m_valid_y = \\\n",
    "#     train_test_split(final_tf_idf, clean_df['churn'], \\\n",
    "#     test_size=0.2, random_state=45)"
   ]
  },
  {
   "cell_type": "code",
   "execution_count": 26,
   "metadata": {},
   "outputs": [
    {
     "name": "stdout",
     "output_type": "stream",
     "text": [
      "1    0.854902\n",
      "0    0.145098\n",
      "Name: kmeans_churn, dtype: float64\n",
      "1    0.84375\n",
      "0    0.15625\n",
      "Name: kmeans_churn, dtype: float64\n"
     ]
    }
   ],
   "source": [
    "print(km_train_y.value_counts()/km_train_y.shape[0])\n",
    "print(km_valid_y.value_counts()/km_valid_y.shape[0])"
   ]
  },
  {
   "cell_type": "code",
   "execution_count": 191,
   "metadata": {},
   "outputs": [
    {
     "name": "stdout",
     "output_type": "stream",
     "text": [
      "0    0.994118\n",
      "1    0.005882\n",
      "Name: churn, dtype: float64\n",
      "0    0.984375\n",
      "1    0.015625\n",
      "Name: churn, dtype: float64\n"
     ]
    }
   ],
   "source": [
    "# print(m_train_y.value_counts()/m_train_y.shape[0])\n",
    "# print(m_valid_y.value_counts()/m_valid_y.shape[0])"
   ]
  },
  {
   "cell_type": "code",
   "execution_count": 27,
   "metadata": {},
   "outputs": [
    {
     "name": "stdout",
     "output_type": "stream",
     "text": [
      "для логистической регрессии 1.0\n"
     ]
    },
    {
     "name": "stderr",
     "output_type": "stream",
     "text": [
      "C:\\Users\\au00174\\Anaconda3\\lib\\site-packages\\sklearn\\linear_model\\_logistic.py:940: ConvergenceWarning: lbfgs failed to converge (status=1):\n",
      "STOP: TOTAL NO. of ITERATIONS REACHED LIMIT.\n",
      "\n",
      "Increase the number of iterations (max_iter) or scale the data as shown in:\n",
      "    https://scikit-learn.org/stable/modules/preprocessing.html\n",
      "Please also refer to the documentation for alternative solver options:\n",
      "    https://scikit-learn.org/stable/modules/linear_model.html#logistic-regression\n",
      "  extra_warning_msg=_LOGISTIC_SOLVER_CONVERGENCE_MSG)\n"
     ]
    }
   ],
   "source": [
    "# для k-means данных\n",
    "from sklearn.linear_model import LogisticRegression\n",
    "km_lr = LogisticRegression()\n",
    "km_lr.fit(km_train_x,km_train_y)\n",
    "km_y_pred_lr =km_lr.predict(km_valid_x)\n",
    "\n",
    "\n",
    "from sklearn.metrics import roc_auc_score,precision_recall_curve,roc_curve\n",
    "print('для логистической регрессии', roc_auc_score(km_valid_y, km_y_pred_lr))"
   ]
  },
  {
   "cell_type": "code",
   "execution_count": 1,
   "metadata": {},
   "outputs": [
    {
     "ename": "NameError",
     "evalue": "name 'km_lr' is not defined",
     "output_type": "error",
     "traceback": [
      "\u001b[1;31m---------------------------------------------------------------------------\u001b[0m",
      "\u001b[1;31mNameError\u001b[0m                                 Traceback (most recent call last)",
      "\u001b[1;32m<ipython-input-1-1c3e92127e0f>\u001b[0m in \u001b[0;36m<module>\u001b[1;34m\u001b[0m\n\u001b[0;32m     21\u001b[0m     \u001b[0mplt\u001b[0m\u001b[1;33m.\u001b[0m\u001b[0mshow\u001b[0m\u001b[1;33m(\u001b[0m\u001b[1;33m)\u001b[0m\u001b[1;33m\u001b[0m\u001b[1;33m\u001b[0m\u001b[0m\n\u001b[0;32m     22\u001b[0m \u001b[1;33m\u001b[0m\u001b[0m\n\u001b[1;32m---> 23\u001b[1;33m \u001b[0mplot_precision_recall_curve\u001b[0m\u001b[1;33m(\u001b[0m\u001b[0mkm_lr\u001b[0m\u001b[1;33m.\u001b[0m\u001b[0mpredict_proba\u001b[0m\u001b[1;33m(\u001b[0m\u001b[0mkm_valid_x\u001b[0m\u001b[1;33m)\u001b[0m\u001b[1;33m,\u001b[0m\u001b[0mkm_valid_y\u001b[0m\u001b[1;33m)\u001b[0m\u001b[1;33m\u001b[0m\u001b[1;33m\u001b[0m\u001b[0m\n\u001b[0m",
      "\u001b[1;31mNameError\u001b[0m: name 'km_lr' is not defined"
     ]
    }
   ],
   "source": [
    "# def plot_precision_recall_curve(y_pred_proba, y_test):\n",
    "#     plt.figure(figsize=(10, 10))\n",
    "#     f_scores = np.linspace(0.4, 0.9, num=6)\n",
    "#     lines = []\n",
    "#     labels = []\n",
    "#     for f_score in f_scores:\n",
    "#         x = np.linspace(0.01, 1)\n",
    "#         y = f_score * x / (2 * x - f_score)\n",
    "#         l, = plt.plot(x[y >= 0], y[y >= 0], color='gray', alpha=0.2)\n",
    "#         plt.annotate('f1={0:0.2f}'.format(f_score), xy=(0.9, y[45] + 0.02))\n",
    "#     precision, recall, _ =  precision_recall_curve(y_test, y_pred_proba)\n",
    "\n",
    "#     plt.step(recall, precision, color='b', alpha=0.2, where='post')\n",
    "#     plt.fill_between(recall, precision, step='post', alpha=0.2,\n",
    "#                      color='b')\n",
    "#     plt.xlabel('Recall', size=15)\n",
    "#     plt.ylabel('Precision', size=15)\n",
    "#     plt.title('Precision-Recall curve', size=18)\n",
    "#     plt.xlim([0.0, 1.0])\n",
    "#     plt.ylim([0.0, 1.05])\n",
    "#     plt.show()\n",
    "\n",
    "# plot_precision_recall_curve(km_lr.predict_proba(km_valid_x),km_valid_y)"
   ]
  },
  {
   "cell_type": "code",
   "execution_count": 205,
   "metadata": {},
   "outputs": [
    {
     "name": "stdout",
     "output_type": "stream",
     "text": [
      "для логистической регрессии 0.5\n"
     ]
    }
   ],
   "source": [
    "# для manual targeted данных\n",
    "# from sklearn.linear_model import LogisticRegression\n",
    "# m_lr = LogisticRegression()\n",
    "# m_lr.fit(m_train_x,m_train_y)\n",
    "# m_y_pred_lr =m_lr.predict(mvalid_x)\n",
    "\n",
    "\n",
    "# from sklearn.metrics import roc_auc_score,precision_recall_curve,roc_curve\n",
    "# print('для логистической регрессии', roc_auc_score(m_valid_y, m_y_pred_lr))"
   ]
  },
  {
   "cell_type": "code",
   "execution_count": 530,
   "metadata": {},
   "outputs": [],
   "source": [
    "# confusion_matrix - Воспользуемся функцией построения матрицы ошибок из документации sklearn\n",
    "\n",
    "import itertools\n",
    "\n",
    "\n",
    "def plot_confusion_matrix(cm, classes,\n",
    "                          normalize=False,\n",
    "                          title='Confusion matrix',\n",
    "                          cmap=plt.cm.Blues):\n",
    "    \"\"\"\n",
    "    This function prints and plots the confusion matrix.\n",
    "    Normalization can be applied by setting `normalize=True`.\n",
    "    \"\"\"\n",
    "    plt.imshow(cm, interpolation='nearest', cmap=cmap)\n",
    "    plt.title(title)\n",
    "    plt.colorbar()\n",
    "    tick_marks = np.arange(len(classes))\n",
    "    plt.xticks(tick_marks, classes, rotation=45)\n",
    "    plt.yticks(tick_marks, classes)\n",
    "\n",
    "    if normalize:\n",
    "        cm = cm.astype('float') / cm.sum(axis=1)[:, np.newaxis]\n",
    "        print(\"Normalized confusion matrix\")\n",
    "    else:\n",
    "        print('Confusion matrix, without normalization')\n",
    "\n",
    "    print(cm)\n",
    "\n",
    "    thresh = cm.max() / 2.\n",
    "    for i, j in itertools.product(range(cm.shape[0]), range(cm.shape[1])):\n",
    "        plt.text(j, i, cm[i, j],\n",
    "                 horizontalalignment=\"center\",\n",
    "                 color=\"white\" if cm[i, j] > thresh else \"black\")\n",
    "\n",
    "    plt.tight_layout()\n",
    "    plt.ylabel('True label')\n",
    "    plt.xlabel('Predicted label')\n",
    "\n"
   ]
  },
  {
   "cell_type": "code",
   "execution_count": 532,
   "metadata": {},
   "outputs": [
    {
     "name": "stderr",
     "output_type": "stream",
     "text": [
      "C:\\Users\\au00174\\Anaconda3\\lib\\site-packages\\sklearn\\linear_model\\_logistic.py:940: ConvergenceWarning: lbfgs failed to converge (status=1):\n",
      "STOP: TOTAL NO. of ITERATIONS REACHED LIMIT.\n",
      "\n",
      "Increase the number of iterations (max_iter) or scale the data as shown in:\n",
      "    https://scikit-learn.org/stable/modules/preprocessing.html\n",
      "Please also refer to the documentation for alternative solver options:\n",
      "    https://scikit-learn.org/stable/modules/linear_model.html#logistic-regression\n",
      "  extra_warning_msg=_LOGISTIC_SOLVER_CONVERGENCE_MSG)\n"
     ]
    },
    {
     "name": "stdout",
     "output_type": "stream",
     "text": [
      "Confusion matrix, without normalization\n",
      "[[ 10  10]\n",
      " [  0 108]]\n"
     ]
    },
    {
     "data": {
      "image/png": "[encoded data removed]",
      "text/plain": [
       "<Figure size 720x576 with 2 Axes>"
      ]
     },
     "metadata": {
      "needs_background": "light"
     },
     "output_type": "display_data"
    }
   ],
   "source": [
    "# для k_means данных\n",
    "km_lr = LogisticRegression(random_state=42)\n",
    "km_lr.fit(km_train_x, km_train_y)\n",
    "font = {'size' : 15}\n",
    "\n",
    "plt.rc('font', **font)\n",
    "\n",
    "cnf_matrix = confusion_matrix(km_valid_y, km_lr.predict(km_valid_x))\n",
    "plt.figure(figsize=(10, 8))\n",
    "plot_confusion_matrix(cnf_matrix, classes=['Non-churned', 'Churned'],\n",
    "                      title='Confusion matrix')\n",
    "plt.savefig(\"conf_matrix.png\")\n",
    "plt.show()"
   ]
  },
  {
   "cell_type": "code",
   "execution_count": 533,
   "metadata": {},
   "outputs": [],
   "source": [
    "# для ручных данных\n",
    "# m_lr = LogisticRegression(random_state=42)\n",
    "# m_lr.fit(m_train_x, m_train_y)\n",
    "# font = {'size' : 15}\n",
    "\n",
    "# plt.rc('font', **font)\n",
    "\n",
    "# cnf_matrix = confusion_matrix(m_valid_y, m_lr.predict(m_valid_x))\n",
    "# plt.figure(figsize=(10, 8))\n",
    "# plot_confusion_matrix(cnf_matrix, classes=['Non-churned', 'Churned'],\n",
    "#                       title='Confusion matrix')\n",
    "# plt.savefig(\"conf_matrix.png\")\n",
    "# plt.show()"
   ]
  },
  {
   "cell_type": "code",
   "execution_count": 534,
   "metadata": {},
   "outputs": [],
   "source": [
    "# Classification Models and Success metrics\n",
    "  \n",
    "from sklearn.metrics import accuracy_score, precision_score, recall_score\n",
    "from sklearn.metrics import confusion_matrix, classification_report\n",
    "from sklearn.metrics import roc_auc_score\n",
    "  \n",
    "def model(classifier, train_vector, valid_vector,train_y,valid_y):\n",
    "    classifier.fit(train_vector, train_y)  \n",
    "    predict_y = classifier.predict(valid_vector)\n",
    "    accuracy = accuracy_score(valid_y, predict_y)\n",
    "    precision = precision_score(valid_y, predict_y,labels=[0,1,2,3,4,5,6],average=None)\n",
    "    recall = recall_score(valid_y, predict_y,labels=[0,1,2,3,4,5,6],average=None)\n",
    "    conf_matrix = confusion_matrix(valid_y, predict_y)\n",
    "    print('\\nAccuracy_score: {:.3f}'.format(accuracy ))\n",
    "    print('precision_score: {:.3f}'.format(precision.mean()))\n",
    "    print('recall_score: {:.3f}'.format(recall.mean()))\n",
    "    print('\\nconfusion_matrix: \\n')\n",
    "    \n",
    "    print(confusion_matrix(valid_y, predict_y))\n",
    "    print(classification_report(valid_y, predict_y))\n",
    "    return roc_auc_pic(predict_y, valid_y),plot_precision_recall_curve(predict_y, valid_y)\n"
   ]
  },
  {
   "cell_type": "code",
   "execution_count": 535,
   "metadata": {},
   "outputs": [],
   "source": [
    "# roc_auc_pic\n",
    "import matplotlib.pyplot as plt \n",
    "def roc_auc_pic(y_hat_test, y_test):    \n",
    "    fpr_test, tpr_test, thresholds_test = roc_curve(y_test, y_hat_test)\n",
    "    roc_auc_test = roc_auc_score(y_test, y_hat_test)\n",
    "\n",
    "    plt.rcParams['figure.figsize'] = (8, 8)\n",
    "    plt.plot(fpr_test, tpr_test, label='Test ROC AUC {0}'.format(roc_auc_test))\n",
    "    plt.plot([0, 1], [0, 1], '--', color=(0.6, 0.6, 0.6))\n",
    "    plt.xlim([0, 1])\n",
    "    plt.ylim([0, 1])\n",
    "    plt.xlabel('False Positive Rate')\n",
    "    plt.ylabel('True Positive Rate')\n",
    "    plt.legend(loc='lower right')\n",
    "    plt.show() \n",
    "    pass\n",
    "# roc_auc_pic(y_pred_lr, valid_y)\n"
   ]
  },
  {
   "cell_type": "code",
   "execution_count": 536,
   "metadata": {},
   "outputs": [],
   "source": [
    "# precision_recall\n",
    "import numpy as np\n",
    "def plot_precision_recall_curve(y_pred_proba, y_test):\n",
    "    plt.figure(figsize=(10, 10))\n",
    "    f_scores = np.linspace(0.4, 0.9, num=6)\n",
    "    lines = []\n",
    "    labels = []\n",
    "    for f_score in f_scores:\n",
    "        x = np.linspace(0.01, 1)\n",
    "        y = f_score * x / (2 * x - f_score)\n",
    "        l, = plt.plot(x[y >= 0], y[y >= 0], color='gray', alpha=0.2)\n",
    "        plt.annotate('f1={0:0.2f}'.format(f_score), xy=(0.9, y[45] + 0.02))\n",
    "    precision, recall, _ =  precision_recall_curve(y_test, y_pred_proba)\n",
    "\n",
    "    plt.step(recall, precision, color='b', alpha=0.2, where='post')\n",
    "    plt.fill_between(recall, precision, step='post', alpha=0.2,\n",
    "                     color='b')\n",
    "    plt.xlabel('Recall', size=15)\n",
    "    plt.ylabel('Precision', size=15)\n",
    "    plt.title('Precision-Recall curve', size=18)\n",
    "    plt.xlim([0.0, 1.0])\n",
    "    plt.ylim([0.0, 1.05])\n",
    "    plt.show()\n",
    "# plot_precision_recall_curve(y_pred_lr, valid_y)"
   ]
  },
  {
   "cell_type": "code",
   "execution_count": 537,
   "metadata": {},
   "outputs": [
    {
     "name": "stderr",
     "output_type": "stream",
     "text": [
      "C:\\Users\\au00174\\Anaconda3\\lib\\site-packages\\sklearn\\linear_model\\_logistic.py:940: ConvergenceWarning: lbfgs failed to converge (status=1):\n",
      "STOP: TOTAL NO. of ITERATIONS REACHED LIMIT.\n",
      "\n",
      "Increase the number of iterations (max_iter) or scale the data as shown in:\n",
      "    https://scikit-learn.org/stable/modules/preprocessing.html\n",
      "Please also refer to the documentation for alternative solver options:\n",
      "    https://scikit-learn.org/stable/modules/linear_model.html#logistic-regression\n",
      "  extra_warning_msg=_LOGISTIC_SOLVER_CONVERGENCE_MSG)\n",
      "C:\\Users\\au00174\\Anaconda3\\lib\\site-packages\\sklearn\\metrics\\_classification.py:1272: UndefinedMetricWarning: Precision is ill-defined and being set to 0.0 in labels with no predicted samples. Use `zero_division` parameter to control this behavior.\n",
      "  _warn_prf(average, modifier, msg_start, len(result))\n",
      "C:\\Users\\au00174\\Anaconda3\\lib\\site-packages\\sklearn\\metrics\\_classification.py:1272: UndefinedMetricWarning: Recall is ill-defined and being set to 0.0 in labels with no true samples. Use `zero_division` parameter to control this behavior.\n",
      "  _warn_prf(average, modifier, msg_start, len(result))\n"
     ]
    },
    {
     "name": "stdout",
     "output_type": "stream",
     "text": [
      "\n",
      "Accuracy_score: 0.922\n",
      "precision_score: 0.274\n",
      "recall_score: 0.214\n",
      "\n",
      "confusion_matrix: \n",
      "\n",
      "[[ 10  10]\n",
      " [  0 108]]\n",
      "              precision    recall  f1-score   support\n",
      "\n",
      "           0       1.00      0.50      0.67        20\n",
      "           1       0.92      1.00      0.96       108\n",
      "\n",
      "    accuracy                           0.92       128\n",
      "   macro avg       0.96      0.75      0.81       128\n",
      "weighted avg       0.93      0.92      0.91       128\n",
      "\n"
     ]
    },
    {
     "data": {
      "image/png": "[encoded data removed]",
      "text/plain": [
       "<Figure size 576x576 with 1 Axes>"
      ]
     },
     "metadata": {
      "needs_background": "light"
     },
     "output_type": "display_data"
    },
    {
     "data": {
      "image/png": "[encoded data removed]",
      "text/plain": [
       "<Figure size 720x720 with 1 Axes>"
      ]
     },
     "metadata": {
      "needs_background": "light"
     },
     "output_type": "display_data"
    },
    {
     "data": {
      "text/plain": [
       "(None, None)"
      ]
     },
     "execution_count": 537,
     "metadata": {},
     "output_type": "execute_result"
    }
   ],
   "source": [
    "model(LogisticRegression(), km_train_x, km_valid_x,km_train_y,km_valid_y)"
   ]
  },
  {
   "cell_type": "code",
   "execution_count": 538,
   "metadata": {},
   "outputs": [],
   "source": [
    "# model(LogisticRegression(), m_train_x, m_valid_x,m_train_y,m_valid_y)"
   ]
  },
  {
   "cell_type": "code",
   "execution_count": 539,
   "metadata": {},
   "outputs": [
    {
     "name": "stderr",
     "output_type": "stream",
     "text": [
      "C:\\Users\\au00174\\Anaconda3\\lib\\site-packages\\sklearn\\metrics\\_classification.py:1272: UndefinedMetricWarning: Precision is ill-defined and being set to 0.0 in labels with no predicted samples. Use `zero_division` parameter to control this behavior.\n",
      "  _warn_prf(average, modifier, msg_start, len(result))\n",
      "C:\\Users\\au00174\\Anaconda3\\lib\\site-packages\\sklearn\\metrics\\_classification.py:1272: UndefinedMetricWarning: Recall is ill-defined and being set to 0.0 in labels with no true samples. Use `zero_division` parameter to control this behavior.\n",
      "  _warn_prf(average, modifier, msg_start, len(result))\n",
      "C:\\Users\\au00174\\Anaconda3\\lib\\site-packages\\sklearn\\metrics\\_classification.py:1272: UndefinedMetricWarning: Precision and F-score are ill-defined and being set to 0.0 in labels with no predicted samples. Use `zero_division` parameter to control this behavior.\n",
      "  _warn_prf(average, modifier, msg_start, len(result))\n"
     ]
    },
    {
     "name": "stdout",
     "output_type": "stream",
     "text": [
      "\n",
      "Accuracy_score: 0.844\n",
      "precision_score: 0.121\n",
      "recall_score: 0.143\n",
      "\n",
      "confusion_matrix: \n",
      "\n",
      "[[  0  20]\n",
      " [  0 108]]\n",
      "              precision    recall  f1-score   support\n",
      "\n",
      "           0       0.00      0.00      0.00        20\n",
      "           1       0.84      1.00      0.92       108\n",
      "\n",
      "    accuracy                           0.84       128\n",
      "   macro avg       0.42      0.50      0.46       128\n",
      "weighted avg       0.71      0.84      0.77       128\n",
      "\n"
     ]
    },
    {
     "data": {
      "image/png": "[encoded data removed]",
      "text/plain": [
       "<Figure size 576x576 with 1 Axes>"
      ]
     },
     "metadata": {
      "needs_background": "light"
     },
     "output_type": "display_data"
    },
    {
     "data": {
      "image/png": "[encoded data removed]",
      "text/plain": [
       "<Figure size 720x720 with 1 Axes>"
      ]
     },
     "metadata": {
      "needs_background": "light"
     },
     "output_type": "display_data"
    },
    {
     "data": {
      "text/plain": [
       "(None, None)"
      ]
     },
     "execution_count": 539,
     "metadata": {},
     "output_type": "execute_result"
    }
   ],
   "source": [
    "# .naive_bayes\n",
    "from sklearn.naive_bayes import MultinomialNB\n",
    "model(MultinomialNB(), km_train_x, km_valid_x,km_train_y,km_valid_y)"
   ]
  },
  {
   "cell_type": "code",
   "execution_count": 540,
   "metadata": {},
   "outputs": [
    {
     "name": "stderr",
     "output_type": "stream",
     "text": [
      "C:\\Users\\au00174\\Anaconda3\\lib\\site-packages\\sklearn\\metrics\\_classification.py:1272: UndefinedMetricWarning: Precision is ill-defined and being set to 0.0 in labels with no predicted samples. Use `zero_division` parameter to control this behavior.\n",
      "  _warn_prf(average, modifier, msg_start, len(result))\n",
      "C:\\Users\\au00174\\Anaconda3\\lib\\site-packages\\sklearn\\metrics\\_classification.py:1272: UndefinedMetricWarning: Recall is ill-defined and being set to 0.0 in labels with no true samples. Use `zero_division` parameter to control this behavior.\n",
      "  _warn_prf(average, modifier, msg_start, len(result))\n"
     ]
    },
    {
     "name": "stdout",
     "output_type": "stream",
     "text": [
      "\n",
      "Accuracy_score: 1.000\n",
      "precision_score: 0.286\n",
      "recall_score: 0.286\n",
      "\n",
      "confusion_matrix: \n",
      "\n",
      "[[ 20   0]\n",
      " [  0 108]]\n",
      "              precision    recall  f1-score   support\n",
      "\n",
      "           0       1.00      1.00      1.00        20\n",
      "           1       1.00      1.00      1.00       108\n",
      "\n",
      "    accuracy                           1.00       128\n",
      "   macro avg       1.00      1.00      1.00       128\n",
      "weighted avg       1.00      1.00      1.00       128\n",
      "\n"
     ]
    },
    {
     "data": {
      "image/png": "[encoded data removed]",
      "text/plain": [
       "<Figure size 576x576 with 1 Axes>"
      ]
     },
     "metadata": {
      "needs_background": "light"
     },
     "output_type": "display_data"
    },
    {
     "data": {
      "image/png": "[encoded data removed]",
      "text/plain": [
       "<Figure size 720x720 with 1 Axes>"
      ]
     },
     "metadata": {
      "needs_background": "light"
     },
     "output_type": "display_data"
    },
    {
     "data": {
      "text/plain": [
       "(None, None)"
      ]
     },
     "execution_count": 540,
     "metadata": {},
     "output_type": "execute_result"
    }
   ],
   "source": [
    "# xgboost\n",
    "from xgboost import XGBClassifier\n",
    "model(XGBClassifier(), km_train_x, km_valid_x,km_train_y,km_valid_y)"
   ]
  },
  {
   "cell_type": "markdown",
   "metadata": {},
   "source": [
    "### вопросы:\n",
    "\n",
    "    1 как собрать 60000 твитов\n",
    "    2 косинусное время для кластеризации\n",
    "    3 логика хода работы\n",
    "    4 иллюстрации/бизнес метрики табло\n",
    "    5 как проверить факт\n",
    "    6 вероятность топ-20 слов \n",
    "    7 какая часть работы по причинам оттока\n",
    "    8 Зачем нужна часть EDA, в которой нет обработки данных"
   ]
  },
  {
   "cell_type": "code",
   "execution_count": null,
   "metadata": {},
   "outputs": [],
   "source": []
  }
 ],
 "metadata": {
  "kernelspec": {
   "display_name": "Python 3",
   "language": "python",
   "name": "python3"
  },
  "language_info": {
   "codemirror_mode": {
    "name": "ipython",
    "version": 3
   },
   "file_extension": ".py",
   "mimetype": "text/x-python",
   "name": "python",
   "nbconvert_exporter": "python",
   "pygments_lexer": "ipython3",
   "version": "3.7.6"
  }
 },
 "nbformat": 4,
 "nbformat_minor": 4
}
