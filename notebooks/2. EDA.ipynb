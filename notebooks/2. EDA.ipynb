{
 "cells": [
  {
   "cell_type": "markdown",
   "metadata": {},
   "source": [
    "## Загрузить или продолжить работу"
   ]
  },
  {
   "cell_type": "code",
   "execution_count": null,
   "metadata": {},
   "outputs": [],
   "source": [
    "import pandas as pd\n",
    "df = pd.read_pickle(\"filename\")\n",
    "df.shape"
   ]
  },
  {
   "cell_type": "code",
   "execution_count": 3,
   "metadata": {
    "scrolled": true
   },
   "outputs": [
    {
     "data": {
      "text/html": [
       "<div>\n",
       "<style scoped>\n",
       "    .dataframe tbody tr th:only-of-type {\n",
       "        vertical-align: middle;\n",
       "    }\n",
       "\n",
       "    .dataframe tbody tr th {\n",
       "        vertical-align: top;\n",
       "    }\n",
       "\n",
       "    .dataframe thead th {\n",
       "        text-align: right;\n",
       "    }\n",
       "</style>\n",
       "<table border=\"1\" class=\"dataframe\">\n",
       "  <thead>\n",
       "    <tr style=\"text-align: right;\">\n",
       "      <th></th>\n",
       "      <th>screen_name</th>\n",
       "      <th>date_time</th>\n",
       "      <th>location</th>\n",
       "      <th>text</th>\n",
       "    </tr>\n",
       "  </thead>\n",
       "  <tbody>\n",
       "    <tr>\n",
       "      <th>0</th>\n",
       "      <td>leila_fong</td>\n",
       "      <td>2019-10-23 23:57:59</td>\n",
       "      <td>Illinois, USA</td>\n",
       "      <td>@ATTHelp I’m blocking, but then they change th...</td>\n",
       "    </tr>\n",
       "    <tr>\n",
       "      <th>1</th>\n",
       "      <td>SnackEvangelist</td>\n",
       "      <td>2019-10-23 23:57:44</td>\n",
       "      <td></td>\n",
       "      <td>@ATTHelp Just logged into my account and it’s ...</td>\n",
       "    </tr>\n",
       "    <tr>\n",
       "      <th>2</th>\n",
       "      <td>DeathboxTy</td>\n",
       "      <td>2019-10-23 23:54:34</td>\n",
       "      <td></td>\n",
       "      <td>@ATTHelp can’t get my Visual Voicemail to work...</td>\n",
       "    </tr>\n",
       "    <tr>\n",
       "      <th>3</th>\n",
       "      <td>BLoLovesYou</td>\n",
       "      <td>2019-10-23 23:54:05</td>\n",
       "      <td>San Antonio, TX</td>\n",
       "      <td>@ATTHelp You were charging me $150 for an outd...</td>\n",
       "    </tr>\n",
       "    <tr>\n",
       "      <th>4</th>\n",
       "      <td>ATTHelp</td>\n",
       "      <td>2019-10-23 23:53:02</td>\n",
       "      <td></td>\n",
       "      <td>@leila_fong Hey, Leila, we're here to help. Cl...</td>\n",
       "    </tr>\n",
       "  </tbody>\n",
       "</table>\n",
       "</div>"
      ],
      "text/plain": [
       "       screen_name           date_time         location  \\\n",
       "0       leila_fong 2019-10-23 23:57:59    Illinois, USA   \n",
       "1  SnackEvangelist 2019-10-23 23:57:44                    \n",
       "2       DeathboxTy 2019-10-23 23:54:34                    \n",
       "3      BLoLovesYou 2019-10-23 23:54:05  San Antonio, TX   \n",
       "4          ATTHelp 2019-10-23 23:53:02                    \n",
       "\n",
       "                                                text  \n",
       "0  @ATTHelp I’m blocking, but then they change th...  \n",
       "1  @ATTHelp Just logged into my account and it’s ...  \n",
       "2  @ATTHelp can’t get my Visual Voicemail to work...  \n",
       "3  @ATTHelp You were charging me $150 for an outd...  \n",
       "4  @leila_fong Hey, Leila, we're here to help. Cl...  "
      ]
     },
     "execution_count": 3,
     "metadata": {},
     "output_type": "execute_result"
    }
   ],
   "source": [
    "# примерный DF\n",
    "df.head()"
   ]
  },
  {
   "cell_type": "markdown",
   "metadata": {},
   "source": [
    "## Pre-processing tweets\n",
    "\n",
    "Провести обработку текста:\n",
    "- удалить стоп-слова 0\n",
    "- найти обращения по @ или хэштеги\n",
    "- найти ссылки на сайты\n",
    "- разбить по словам и n-граммы"
   ]
  },
  {
   "cell_type": "code",
   "execution_count": 4,
   "metadata": {},
   "outputs": [
    {
     "name": "stdout",
     "output_type": "stream",
     "text": [
      "Elapsed clock time:  0.008540990286403233  seconds\n"
     ]
    }
   ],
   "source": [
    "import re\n",
    "from nltk.tokenize import TweetTokenizer\n",
    "from nltk.corpus import stopwords\n",
    "import time\n",
    "\n",
    "start_time = time.time() \n",
    "\n",
    "tokenizer = TweetTokenizer()\n",
    "tokenized_tweets = [tokenizer.tokenize(t) for t in df.text]\n",
    "stop_words = stopwords.words(\"english\")\n",
    "stop_words.extend([\"&amp;\", \"&gt;\", \"&lt;\"])\n",
    "from nltk.stem import WordNetLemmatizer\n",
    "lemmatizer = WordNetLemmatizer()\n",
    "\n",
    "clean_text = []\n",
    "handles = []\n",
    "hashtags = []\n",
    "carrier = []\n",
    "\n",
    "# простой пример pre-processing\n",
    "for tweet in tokenized_tweets:\n",
    "    thandles = []\n",
    "    thashtags = []\n",
    "    joined_words = \" \"\n",
    "    words = [w.lower() for w in tweet if len(w)>2 and w not in stop_words]\n",
    "    thandles = [w for w in words if re.search(\"^@\\w+\", w)]\n",
    "    tlinks = [w for w in words if re.search(\"^https:\\w+\", w)]\n",
    "    thashtags = [w for w in words if re.search(\"^#\\w+\", w)]\n",
    "    words = [w for w in words if w.isalpha() and w not in thandles and w not in thashtags and w not in tlinks]\n",
    "    words = [lemmatizer.lemmatize(w) for w in words]\n",
    "    \n",
    "    joined_words = joined_words.join(words)\n",
    "    tlength = len(joined_words)\n",
    "    handles.append(thandles)\n",
    "    hashtags.append(thashtags)\n",
    "    clean_text.append(joined_words)\n",
    "    "
   ]
  },
  {
   "cell_type": "code",
   "execution_count": 5,
   "metadata": {},
   "outputs": [
    {
     "data": {
      "text/html": [
       "<div>\n",
       "<style scoped>\n",
       "    .dataframe tbody tr th:only-of-type {\n",
       "        vertical-align: middle;\n",
       "    }\n",
       "\n",
       "    .dataframe tbody tr th {\n",
       "        vertical-align: top;\n",
       "    }\n",
       "\n",
       "    .dataframe thead th {\n",
       "        text-align: right;\n",
       "    }\n",
       "</style>\n",
       "<table border=\"1\" class=\"dataframe\">\n",
       "  <thead>\n",
       "    <tr style=\"text-align: right;\">\n",
       "      <th></th>\n",
       "      <th>screen_name</th>\n",
       "      <th>date_time</th>\n",
       "      <th>location</th>\n",
       "      <th>text</th>\n",
       "      <th>clean_text</th>\n",
       "      <th>handles</th>\n",
       "      <th>hashtags</th>\n",
       "    </tr>\n",
       "  </thead>\n",
       "  <tbody>\n",
       "    <tr>\n",
       "      <th>0</th>\n",
       "      <td>leila_fong</td>\n",
       "      <td>2019-10-23 23:57:59</td>\n",
       "      <td>Illinois, USA</td>\n",
       "      <td>@ATTHelp I’m blocking, but then they change th...</td>\n",
       "      <td>blocking change number one digit switch unknown</td>\n",
       "      <td>[@atthelp]</td>\n",
       "      <td>[]</td>\n",
       "    </tr>\n",
       "    <tr>\n",
       "      <th>1</th>\n",
       "      <td>SnackEvangelist</td>\n",
       "      <td>2019-10-23 23:57:44</td>\n",
       "      <td></td>\n",
       "      <td>@ATTHelp Just logged into my account and it’s ...</td>\n",
       "      <td>just logged account added how get rid</td>\n",
       "      <td>[@atthelp]</td>\n",
       "      <td>[]</td>\n",
       "    </tr>\n",
       "    <tr>\n",
       "      <th>2</th>\n",
       "      <td>DeathboxTy</td>\n",
       "      <td>2019-10-23 23:54:34</td>\n",
       "      <td></td>\n",
       "      <td>@ATTHelp can’t get my Visual Voicemail to work...</td>\n",
       "      <td>get visual voicemail work suggestion tried tip...</td>\n",
       "      <td>[@atthelp]</td>\n",
       "      <td>[]</td>\n",
       "    </tr>\n",
       "    <tr>\n",
       "      <th>3</th>\n",
       "      <td>BLoLovesYou</td>\n",
       "      <td>2019-10-23 23:54:05</td>\n",
       "      <td>San Antonio, TX</td>\n",
       "      <td>@ATTHelp You were charging me $150 for an outd...</td>\n",
       "      <td>you charging outdated unlimited plan switched ...</td>\n",
       "      <td>[@atthelp]</td>\n",
       "      <td>[]</td>\n",
       "    </tr>\n",
       "    <tr>\n",
       "      <th>4</th>\n",
       "      <td>ATTHelp</td>\n",
       "      <td>2019-10-23 23:53:02</td>\n",
       "      <td></td>\n",
       "      <td>@leila_fong Hey, Leila, we're here to help. Cl...</td>\n",
       "      <td>hey leila help click learn protect unwanted call</td>\n",
       "      <td>[@leila_fong]</td>\n",
       "      <td>[]</td>\n",
       "    </tr>\n",
       "  </tbody>\n",
       "</table>\n",
       "</div>"
      ],
      "text/plain": [
       "       screen_name           date_time         location  \\\n",
       "0       leila_fong 2019-10-23 23:57:59    Illinois, USA   \n",
       "1  SnackEvangelist 2019-10-23 23:57:44                    \n",
       "2       DeathboxTy 2019-10-23 23:54:34                    \n",
       "3      BLoLovesYou 2019-10-23 23:54:05  San Antonio, TX   \n",
       "4          ATTHelp 2019-10-23 23:53:02                    \n",
       "\n",
       "                                                text  \\\n",
       "0  @ATTHelp I’m blocking, but then they change th...   \n",
       "1  @ATTHelp Just logged into my account and it’s ...   \n",
       "2  @ATTHelp can’t get my Visual Voicemail to work...   \n",
       "3  @ATTHelp You were charging me $150 for an outd...   \n",
       "4  @leila_fong Hey, Leila, we're here to help. Cl...   \n",
       "\n",
       "                                          clean_text        handles hashtags  \n",
       "0    blocking change number one digit switch unknown     [@atthelp]       []  \n",
       "1              just logged account added how get rid     [@atthelp]       []  \n",
       "2  get visual voicemail work suggestion tried tip...     [@atthelp]       []  \n",
       "3  you charging outdated unlimited plan switched ...     [@atthelp]       []  \n",
       "4   hey leila help click learn protect unwanted call  [@leila_fong]       []  "
      ]
     },
     "execution_count": 5,
     "metadata": {},
     "output_type": "execute_result"
    }
   ],
   "source": [
    "# собрать надо что-такое\n",
    "df.head()"
   ]
  },
  {
   "cell_type": "markdown",
   "metadata": {},
   "source": [
    "### Разработка сегментов"
   ]
  },
  {
   "cell_type": "code",
   "execution_count": 6,
   "metadata": {},
   "outputs": [],
   "source": [
    "# изучить textblob\n",
    "# https://textblob.readthedocs.io/en/dev/\n",
    "\n",
    "from textblob import TextBlob\n",
    "polarity = [0.0]*len(df)\n",
    "subjectivity = [0.5]*len(df)\n",
    "sentiment = [\"\"]*len(df)\n",
    "\n",
    "for i in df.index:\n",
    "    blob = TextBlob(df.clean_text[i])\n",
    "    polarity[i] = blob.polarity\n",
    "    subjectivity[i] = blob.subjectivity\n",
    "    \n",
    "    # разбивки на сегменты \n",
    "    # а какие способы ты знаешь ещё?\n",
    "    if polarity[i] > 0.0:\n",
    "        sentiment[i] = \"pos\"\n",
    "    elif polarity[i] < 0.0:\n",
    "        sentiment[i] = \"neg\"\n",
    "    else:\n",
    "        sentiment[i] = \"neu\"\n",
    "\n",
    "df[\"sentiment\"]    = sentiment\n",
    "df[\"polarity\"]     = polarity\n",
    "df[\"subjectivity\"] = subjectivity"
   ]
  },
  {
   "cell_type": "markdown",
   "metadata": {},
   "source": [
    "### Сделаем разбивку по операторам"
   ]
  },
  {
   "cell_type": "code",
   "execution_count": 7,
   "metadata": {},
   "outputs": [],
   "source": [
    "# создадим колонку, которая укажет, какой это оператор\n",
    "\n",
    "carrier = []\n",
    "\n",
    "for text in df[['screen_name','text']].values:\n",
    "    screen_name = text[0].lower()\n",
    "    twitter_text = text[1].lower()\n",
    "    current_carrier = []\n",
    "    if 'имя оператора' in twitter_text or 'имя оператора' in screen_name:\n",
    "        current_carrier.append('имя оператора')\n",
    "    \n",
    "    ... \n",
    "    carrier.append(' '.join(current_carrier))\n",
    "\n",
    "df['carrier'] = carrier\n",
    "        "
   ]
  },
  {
   "cell_type": "code",
   "execution_count": null,
   "metadata": {},
   "outputs": [],
   "source": [
    "# должен включать в себя такие колонки 100%\n",
    "df[['carrier','location','date_time','clean_text','sentiment']].head()"
   ]
  },
  {
   "cell_type": "code",
   "execution_count": 9,
   "metadata": {
    "scrolled": false
   },
   "outputs": [
    {
     "data": {
      "text/plain": [
       "(171423, 11)"
      ]
     },
     "execution_count": 9,
     "metadata": {},
     "output_type": "execute_result"
    }
   ],
   "source": [
    "# проверь, чтобы не было пустых, то есть без оператора!\n",
    "\n",
    "df = df[df.carrier != '']\n",
    "df.shape"
   ]
  },
  {
   "cell_type": "code",
   "execution_count": 12,
   "metadata": {},
   "outputs": [],
   "source": [
    "# сделай какой-нибудь токинайзер\n",
    "# https://ru.wikipedia.org/wiki/%D0%9B%D0%B5%D0%BA%D1%81%D0%B8%D1%87%D0%B5%D1%81%D0%BA%D0%B8%D0%B9_%D0%B0%D0%BD%D0%B0%D0%BB%D0%B8%D0%B7\n",
    "# https://docs.python.org/3/library/tokenize.html\n",
    "\n",
    "tokenized_tweets = [tokenizer.tokenize(t) for t in df.text]\n",
    "clf_text = []\n",
    "for tweet in tokenized_tweets:\n",
    "    joined_words = \" \"\n",
    "    words = [w.lower() for w in tweet if w.isalpha() or w[0]=='@']\n",
    "    tlinks = [w for w in words if re.search(\"^https:\\w+\", w)]\n",
    "    words = [w for w in words if  w not in tlinks]\n",
    "    joined_words = joined_words.join(words)\n",
    "    clf_text.append(joined_words)\n",
    "\n",
    "df[\"clf_text\"] = clf_text"
   ]
  },
  {
   "cell_type": "markdown",
   "metadata": {},
   "source": [
    "## Сделай обзор по группам (EDA)\n",
    "\n",
    "Примеры:\n",
    "\n",
    "https://www.kaggle.com/ekami66/detailed-exploratory-data-analysis-with-python\n",
    "\n",
    "https://www.coursera.org/projects/exploratory-data-analysis-python-pandas\n",
    "\n",
    "https://www.analyticsvidhya.com/blog/2020/08/exploratory-data-analysiseda-from-scratch-in-python/"
   ]
  },
  {
   "cell_type": "markdown",
   "metadata": {},
   "source": [
    "## Определи, какие слова наиболее характерны для операторов\n",
    "\n",
    "- какие cлова чаще, чем остальные встречаются для определенного оператора\n",
    "- посмотреть распределения по словам, относительно операторов\n",
    "\n",
    "- пропобуй найти слова: помогите, бесплатно, обещали, покупатель, очень медленно \n",
    "- добавь свои слова ( к вышепредставленным) и сделай топ-20"
   ]
  },
  {
   "cell_type": "markdown",
   "metadata": {},
   "source": [
    "## Определи время и как время сообщения распределено по времени\n",
    "\n",
    "- определи месяц, день недели, день месяца, время дня, часть дня (до обеда, день, вечер - например)\n",
    "\n",
    "Варианты кодирования фичей для алгоритмов (когда надо будет в модель):\n",
    "\n",
    "https://ianlondon.github.io/blog/encoding-cyclical-features-24hour-time/\n",
    "\n",
    "https://towardsdatascience.com/feature-engineering-time-3934038e0dbe"
   ]
  },
  {
   "cell_type": "markdown",
   "metadata": {},
   "source": [
    "## Сделай простой сентиментный анализ\n",
    "\n",
    "- анализ склонности и отвращения\n",
    "\n",
    "примеры на Python:\n",
    "\n",
    "https://github.com/subro608/review_polarity\n",
    "\n",
    "https://github.com/shoreason/yelp-review-polarity\n",
    "\n",
    "https://github.com/KarthikGotham/PolarityAnalyzer\n",
    "\n",
    "https://github.com/Ashwani018/Amazon-Fine-Food-Reviews"
   ]
  },
  {
   "cell_type": "markdown",
   "metadata": {},
   "source": [
    "###  Сделай распределения и обзор по сентиментному анализу относительно операторов"
   ]
  },
  {
   "cell_type": "code",
   "execution_count": 33,
   "metadata": {
    "scrolled": true
   },
   "outputs": [
    {
     "data": {
      "text/html": [
       "<div>\n",
       "<style scoped>\n",
       "    .dataframe tbody tr th:only-of-type {\n",
       "        vertical-align: middle;\n",
       "    }\n",
       "\n",
       "    .dataframe tbody tr th {\n",
       "        vertical-align: top;\n",
       "    }\n",
       "\n",
       "    .dataframe thead th {\n",
       "        text-align: right;\n",
       "    }\n",
       "</style>\n",
       "<table border=\"1\" class=\"dataframe\">\n",
       "  <thead>\n",
       "    <tr style=\"text-align: right;\">\n",
       "      <th></th>\n",
       "      <th>carrier</th>\n",
       "      <th>negative</th>\n",
       "      <th>positive</th>\n",
       "      <th>percentage_negative</th>\n",
       "      <th>percentage_positive</th>\n",
       "    </tr>\n",
       "  </thead>\n",
       "  <tbody>\n",
       "    <tr>\n",
       "      <th>0</th>\n",
       "      <td>ATT</td>\n",
       "      <td>13167</td>\n",
       "      <td>24642</td>\n",
       "      <td>0.348250</td>\n",
       "      <td>0.651750</td>\n",
       "    </tr>\n",
       "    <tr>\n",
       "      <th>1</th>\n",
       "      <td>Verizon</td>\n",
       "      <td>6620</td>\n",
       "      <td>19717</td>\n",
       "      <td>0.251357</td>\n",
       "      <td>0.748643</td>\n",
       "    </tr>\n",
       "    <tr>\n",
       "      <th>2</th>\n",
       "      <td>Tmobile</td>\n",
       "      <td>3353</td>\n",
       "      <td>14547</td>\n",
       "      <td>0.187318</td>\n",
       "      <td>0.812682</td>\n",
       "    </tr>\n",
       "  </tbody>\n",
       "</table>\n",
       "</div>"
      ],
      "text/plain": [
       "   carrier  negative  positive  percentage_negative  percentage_positive\n",
       "0      ATT     13167     24642             0.348250             0.651750\n",
       "1  Verizon      6620     19717             0.251357             0.748643\n",
       "2  Tmobile      3353     14547             0.187318             0.812682"
      ]
     },
     "execution_count": 33,
     "metadata": {},
     "output_type": "execute_result"
    }
   ],
   "source": [
    "### Попробуй найти и посмотреть распределение негативные - позитивные распределения\n",
    "\n",
    "# пример"
   ]
  },
  {
   "cell_type": "markdown",
   "metadata": {},
   "source": [
    "## Создание репрезентативного словаря для негативны и позитивных твитов\n",
    "\n",
    "\n",
    "Для создания такого словаря нужно использовать методы:\n",
    "\n",
    "- методы по поиску частоты встречания слова в текстах (словарь частоты)\n",
    "- метод TF-IDF\n",
    "- метод topic-modeling"
   ]
  },
  {
   "cell_type": "code",
   "execution_count": 35,
   "metadata": {},
   "outputs": [
    {
     "name": "stdout",
     "output_type": "stream",
     "text": [
      "[('help', 2918), ('thanks', 2431), ('live', 2301), ('first', 2273), ('love', 2177)]\n",
      "[('free', 4006), ('disney', 3376), ('customer', 3167), ('year', 2799), ('new', 2238)]\n",
      "[('love', 2157), ('thanks', 1306), ('new', 1271), ('want', 961), ('best', 867)]\n"
     ]
    }
   ],
   "source": [
    "# Пример словаря - частот"
   ]
  },
  {
   "cell_type": "markdown",
   "metadata": {},
   "source": [
    "### Method2: Get representative words by Topic Modeling"
   ]
  },
  {
   "cell_type": "code",
   "execution_count": 109,
   "metadata": {},
   "outputs": [],
   "source": [
    "# для метода Topic Modeling понадобятся библиотеки\n",
    "from gensim.corpora import Dictionary\n",
    "from gensim.models import LdaModel, LdaMulticore\n",
    "from gensim.models import TfidfModel\n",
    "import nltk"
   ]
  },
  {
   "cell_type": "code",
   "execution_count": 111,
   "metadata": {
    "scrolled": false
   },
   "outputs": [
    {
     "name": "stdout",
     "output_type": "stream",
     "text": [
      "att - pos\n",
      "Topic 1 :  day, customer, reply, thing, time, wifi, year, work, att, service\n",
      "Topic 2 :  josh, att, career, total, attempt, thank, part, call, chance, post\n",
      "Topic 3 :  thanks, look, help, bill, phone, service, please, account, internet, people\n",
      "Topic 4 :  love, today, week, ticket, month, right, hand, fee, man, sunday\n",
      "Topic 5 :  episode, mini, series, offseason, court, star, player, lol, interview, http\n",
      "----------\n",
      "att - neg\n",
      "Topic 1 :  cause, tweet, concert, celebrate, tomorro, city, idea, life, towards, att\n",
      "Topic 2 :  game, help, everyone, employee, acc, vote, account, please, get, see\n",
      "Topic 3 :  people, fuck, game, att, trump, mean, look, company, news, night\n",
      "Topic 4 :  service, att, time, day, phone, hate, others, hour, internet, customer\n",
      "Topic 5 :  board, member, stephenson, sent, thousand, samuel, email, customer, ticket, shit\n",
      "----------\n",
      "verizon - pos\n",
      "Topic 1 :  phone, note, service, issue, area, thank, verizon, network, cable, data\n",
      "Topic 2 :  thanks, work, bill, day, reward, space, outage, gray, cut, watch\n",
      "Topic 3 :  sale, family, pixel, help, team, consultant, click, thing, please, verizon\n",
      "Topic 4 :  customer, year, month, disney, verizon, offer, wireless, plan, learn, code\n",
      "Topic 5 :  verizon, iphone, giveaway, copy, resicenters, anb, lol, smartphone, apple, chance\n",
      "----------\n",
      "verizon - neg\n",
      "Topic 1 :  iphone, end, sprint, date, fios, note, verizon, company, anyone, aura\n",
      "Topic 2 :  service, customer, year, cell, verizon, phone, center, experience, sorry, internet\n",
      "Topic 3 :  verizon, galaxy, samsung, shit, smartphone, midnight, block, auction, video, onyx\n",
      "Topic 4 :  hate, fuck, get, phone, today, verizon, yeah, bill, word, service\n",
      "Topic 5 :  call, issue, time, hour, outage, phone, day, data, service, month\n",
      "----------\n",
      "tmobile - pos\n",
      "Topic 1 :  love, lol, data, win, iphone, speed, tmobile, message, guy, sure\n",
      "Topic 2 :  hey, look, service, team, please, experience, area, help, thanks, issue\n",
      "Topic 3 :  see, chance, need, account, hello, carrier, service, friend, ticket, call\n",
      "Topic 4 :  thanks, thank, question, connection, phone, detail, family, today, part, bill\n",
      "Topic 5 :  customer, send, help, get, offer, deal, way, pixel, make, google\n",
      "----------\n",
      "tmobile - neg\n",
      "Topic 1 :  shit, sprint, area, coverage, look, hour, thing, data, breakdown, merger\n",
      "Topic 2 :  fuck, game, day, something, bill, tmobile, team, phone, aka, stunt\n",
      "Topic 3 :  customer, ticket, sucker, get, problem, sorry, issue, way, hey, rep\n",
      "Topic 4 :  mean, phone, plan, business, company, year, detail, blog, help, entrepreneur\n",
      "Topic 5 :  service, tmobile, hate, customer, experience, wtf, time, month, phone, help\n",
      "----------\n"
     ]
    }
   ],
   "source": [
    "# пример вывод по методу Topic Modeling"
   ]
  }
 ],
 "metadata": {
  "kernelspec": {
   "display_name": "Python 3",
   "language": "python",
   "name": "python3"
  },
  "language_info": {
   "codemirror_mode": {
    "name": "ipython",
    "version": 3
   },
   "file_extension": ".py",
   "mimetype": "text/x-python",
   "name": "python",
   "nbconvert_exporter": "python",
   "pygments_lexer": "ipython3",
   "version": "3.8.6"
  }
 },
 "nbformat": 4,
 "nbformat_minor": 2
}
