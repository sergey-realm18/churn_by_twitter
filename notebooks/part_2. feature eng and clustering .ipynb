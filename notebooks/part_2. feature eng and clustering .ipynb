{
 "cells": [
  {
   "cell_type": "markdown",
   "metadata": {},
   "source": [
    "_________________________________________________"
   ]
  },
  {
   "cell_type": "markdown",
   "metadata": {},
   "source": [
    "### FEATURE ENGINEERING"
   ]
  },
  {
   "cell_type": "code",
   "execution_count": 3082,
   "metadata": {},
   "outputs": [
    {
     "data": {
      "text/plain": [
       "(2443, 18)"
      ]
     },
     "execution_count": 3082,
     "metadata": {},
     "output_type": "execute_result"
    }
   ],
   "source": [
    "import pandas as pd\n",
    "clean_df= pd.read_csv('part_1.csv')\n",
    "clean_df.drop('Unnamed: 0',inplace = True,axis = 1)\n",
    "clean_df.shape"
   ]
  },
  {
   "cell_type": "code",
   "execution_count": 3083,
   "metadata": {},
   "outputs": [
    {
     "data": {
      "text/plain": [
       "(2423, 18)"
      ]
     },
     "execution_count": 3083,
     "metadata": {},
     "output_type": "execute_result"
    }
   ],
   "source": [
    "# убираем пустые строки\n",
    "clean_df = clean_df[~clean_df.clean_text.isnull()]\n",
    "clean_df.shape"
   ]
  },
  {
   "cell_type": "code",
   "execution_count": 3084,
   "metadata": {},
   "outputs": [
    {
     "data": {
      "text/html": [
       "<div>\n",
       "<style scoped>\n",
       "    .dataframe tbody tr th:only-of-type {\n",
       "        vertical-align: middle;\n",
       "    }\n",
       "\n",
       "    .dataframe tbody tr th {\n",
       "        vertical-align: top;\n",
       "    }\n",
       "\n",
       "    .dataframe thead th {\n",
       "        text-align: right;\n",
       "    }\n",
       "</style>\n",
       "<table border=\"1\" class=\"dataframe\">\n",
       "  <thead>\n",
       "    <tr style=\"text-align: right;\">\n",
       "      <th></th>\n",
       "      <th>screen_name</th>\n",
       "      <th>carrier</th>\n",
       "      <th>location</th>\n",
       "      <th>date_time</th>\n",
       "      <th>text</th>\n",
       "      <th>clean_text</th>\n",
       "      <th>polarity</th>\n",
       "      <th>fact</th>\n",
       "      <th>hour</th>\n",
       "      <th>sense_dummy</th>\n",
       "      <th>text_len</th>\n",
       "      <th>day</th>\n",
       "      <th>part_of_day</th>\n",
       "      <th>seconds</th>\n",
       "      <th>sin_time</th>\n",
       "      <th>cos_time</th>\n",
       "      <th>tokens</th>\n",
       "      <th>topic</th>\n",
       "    </tr>\n",
       "  </thead>\n",
       "  <tbody>\n",
       "    <tr>\n",
       "      <th>0</th>\n",
       "      <td>ShieldVoC</td>\n",
       "      <td>verizonsupport</td>\n",
       "      <td>Stockholm, Sweden</td>\n",
       "      <td>2021-04-14 23:57:51</td>\n",
       "      <td>RT @europabridge1: @VerizonSupport will someon...</td>\n",
       "      <td>someone please explain setting called turned p...</td>\n",
       "      <td>0.0</td>\n",
       "      <td>1</td>\n",
       "      <td>23</td>\n",
       "      <td>0</td>\n",
       "      <td>54</td>\n",
       "      <td>2</td>\n",
       "      <td>evening</td>\n",
       "      <td>86271</td>\n",
       "      <td>-0.009381</td>\n",
       "      <td>0.999956</td>\n",
       "      <td>['someone', 'please', 'explain', 'setting', 'c...</td>\n",
       "      <td>17</td>\n",
       "    </tr>\n",
       "    <tr>\n",
       "      <th>1</th>\n",
       "      <td>ShieldVoC</td>\n",
       "      <td>verizon</td>\n",
       "      <td>Stockholm, Sweden</td>\n",
       "      <td>2021-04-14 23:56:27</td>\n",
       "      <td>RT @halidkalkan: @Verizon trying to charge me ...</td>\n",
       "      <td>trying charge device never solve problem canno</td>\n",
       "      <td>0.0</td>\n",
       "      <td>1</td>\n",
       "      <td>23</td>\n",
       "      <td>0</td>\n",
       "      <td>46</td>\n",
       "      <td>2</td>\n",
       "      <td>evening</td>\n",
       "      <td>86187</td>\n",
       "      <td>-0.015489</td>\n",
       "      <td>0.999880</td>\n",
       "      <td>['trying', 'charge', 'device', 'never', 'solve...</td>\n",
       "      <td>17</td>\n",
       "    </tr>\n",
       "    <tr>\n",
       "      <th>2</th>\n",
       "      <td>VerizonSupport</td>\n",
       "      <td>verizonsupport</td>\n",
       "      <td>NaN</td>\n",
       "      <td>2021-04-14 23:43:51</td>\n",
       "      <td>@MushShoe Thanks for confirming. We can assist...</td>\n",
       "      <td>thanks confirming assist plan change well happ...</td>\n",
       "      <td>0.5</td>\n",
       "      <td>0</td>\n",
       "      <td>23</td>\n",
       "      <td>1</td>\n",
       "      <td>54</td>\n",
       "      <td>2</td>\n",
       "      <td>evening</td>\n",
       "      <td>85431</td>\n",
       "      <td>-0.070409</td>\n",
       "      <td>0.997518</td>\n",
       "      <td>['thanks', 'confirming', 'assist', 'plan', 'ch...</td>\n",
       "      <td>2</td>\n",
       "    </tr>\n",
       "  </tbody>\n",
       "</table>\n",
       "</div>"
      ],
      "text/plain": [
       "      screen_name         carrier           location            date_time  \\\n",
       "0       ShieldVoC  verizonsupport  Stockholm, Sweden  2021-04-14 23:57:51   \n",
       "1       ShieldVoC         verizon  Stockholm, Sweden  2021-04-14 23:56:27   \n",
       "2  VerizonSupport  verizonsupport                NaN  2021-04-14 23:43:51   \n",
       "\n",
       "                                                text  \\\n",
       "0  RT @europabridge1: @VerizonSupport will someon...   \n",
       "1  RT @halidkalkan: @Verizon trying to charge me ...   \n",
       "2  @MushShoe Thanks for confirming. We can assist...   \n",
       "\n",
       "                                          clean_text  polarity  fact  hour  \\\n",
       "0  someone please explain setting called turned p...       0.0     1    23   \n",
       "1     trying charge device never solve problem canno       0.0     1    23   \n",
       "2  thanks confirming assist plan change well happ...       0.5     0    23   \n",
       "\n",
       "   sense_dummy  text_len  day part_of_day  seconds  sin_time  cos_time  \\\n",
       "0            0        54    2     evening    86271 -0.009381  0.999956   \n",
       "1            0        46    2     evening    86187 -0.015489  0.999880   \n",
       "2            1        54    2     evening    85431 -0.070409  0.997518   \n",
       "\n",
       "                                              tokens  topic  \n",
       "0  ['someone', 'please', 'explain', 'setting', 'c...     17  \n",
       "1  ['trying', 'charge', 'device', 'never', 'solve...     17  \n",
       "2  ['thanks', 'confirming', 'assist', 'plan', 'ch...      2  "
      ]
     },
     "execution_count": 3084,
     "metadata": {},
     "output_type": "execute_result"
    }
   ],
   "source": [
    "clean_df.head(3)"
   ]
  },
  {
   "cell_type": "code",
   "execution_count": 3085,
   "metadata": {},
   "outputs": [
    {
     "data": {
      "text/plain": [
       "(2053, 18)"
      ]
     },
     "execution_count": 3085,
     "metadata": {},
     "output_type": "execute_result"
    }
   ],
   "source": [
    "# 1. drop duplicates\n",
    "\n",
    "clean_df = clean_df.drop_duplicates('clean_text')\n",
    "clean_df.shape"
   ]
  },
  {
   "cell_type": "code",
   "execution_count": 3086,
   "metadata": {},
   "outputs": [
    {
     "data": {
      "text/plain": [
       "(2053, 3447)"
      ]
     },
     "execution_count": 3086,
     "metadata": {},
     "output_type": "execute_result"
    }
   ],
   "source": [
    "# TF-IDF\n",
    "from sklearn.feature_extraction.text import TfidfVectorizer\n",
    "from sklearn.feature_extraction.text import CountVectorizer\n",
    "\n",
    "# благодаря параметру max_features мы оставляем 80% самых выжных фичей\n",
    "tf_idf_vect = TfidfVectorizer(ngram_range=(1,2),max_features = int(0.8 * 4309))\n",
    "final_tf_idf = tf_idf_vect.fit_transform(clean_df['clean_text'].values)\n",
    "\n",
    "final_tf_idf.shape"
   ]
  },
  {
   "cell_type": "code",
   "execution_count": 3087,
   "metadata": {},
   "outputs": [
    {
     "data": {
      "text/plain": [
       "(2053, 3447)"
      ]
     },
     "execution_count": 3087,
     "metadata": {},
     "output_type": "execute_result"
    }
   ],
   "source": [
    "# начинаем создавать матрицу фичей\n",
    "\n",
    "# добавление tfidf в нашу матрицу фичей \n",
    "feature_names = tf_idf_vect.get_feature_names()\n",
    "feature_df = pd.DataFrame(final_tf_idf.toarray(), columns = feature_names)\n",
    "feature_df.shape"
   ]
  },
  {
   "cell_type": "code",
   "execution_count": 3088,
   "metadata": {},
   "outputs": [],
   "source": [
    "# clean_df['clean_text'][0]"
   ]
  },
  {
   "cell_type": "code",
   "execution_count": 3089,
   "metadata": {},
   "outputs": [],
   "source": [
    "# кумулятивный вес слова - оставить только те слова, которые суммарно приносят 80% идф\n",
    "# accum = feature_df.transpose()\n",
    "# words = [] \n",
    "# accum = accum[accum[0] !=0]\n",
    "# accum\n",
    "# accum['%'] = accum[0]/accum[0].sum()\n",
    "# start = 0\n",
    "# accum['plus'] = accum['%'].cumsum()\n",
    "# accum = accum[accum['plus']<0.8]\n",
    "# accum"
   ]
  },
  {
   "cell_type": "code",
   "execution_count": 3090,
   "metadata": {},
   "outputs": [
    {
     "data": {
      "text/plain": [
       "0.059912323429128105"
      ]
     },
     "execution_count": 3090,
     "metadata": {},
     "output_type": "execute_result"
    }
   ],
   "source": [
    "# вероятность городов\n",
    "def city_proba(city):\n",
    "    if type(city) != str:\n",
    "        return clean_df[clean_df['location'].isna()]['location'].shape[0]/clean_df.shape[0]\n",
    "    else:\n",
    "        proba = clean_df.location.value_counts()/clean_df.shape[0]\n",
    "    return proba[city]\n",
    "\n",
    "city_proba('Stockholm, Sweden')\n"
   ]
  },
  {
   "cell_type": "code",
   "execution_count": 3091,
   "metadata": {},
   "outputs": [],
   "source": [
    "# проверка количества строк\n",
    "# clean_df[clean_df['location'].isna()]['location'].shape[0]+clean_df.location.value_counts().sum()"
   ]
  },
  {
   "cell_type": "code",
   "execution_count": 3092,
   "metadata": {},
   "outputs": [],
   "source": [
    "# добавляем вероятность городов в clean_df и в матрицу фичей\n",
    "clean_df['location_proba'] = clean_df['location'].apply(lambda x:city_proba(x))\n",
    "location_proba = list(clean_df['location_proba'])\n",
    "feature_df['location_proba'] = location_proba\n",
    "\n"
   ]
  },
  {
   "cell_type": "code",
   "execution_count": 3093,
   "metadata": {},
   "outputs": [
    {
     "data": {
      "text/plain": [
       "(0, 3448)"
      ]
     },
     "execution_count": 3093,
     "metadata": {},
     "output_type": "execute_result"
    }
   ],
   "source": [
    "feature_df[feature_df['location_proba'].isna()].shape"
   ]
  },
  {
   "cell_type": "markdown",
   "metadata": {},
   "source": [
    "### RFM analysis"
   ]
  },
  {
   "cell_type": "code",
   "execution_count": 3094,
   "metadata": {},
   "outputs": [
    {
     "data": {
      "text/html": [
       "<div>\n",
       "<style scoped>\n",
       "    .dataframe tbody tr th:only-of-type {\n",
       "        vertical-align: middle;\n",
       "    }\n",
       "\n",
       "    .dataframe tbody tr th {\n",
       "        vertical-align: top;\n",
       "    }\n",
       "\n",
       "    .dataframe thead th {\n",
       "        text-align: right;\n",
       "    }\n",
       "</style>\n",
       "<table border=\"1\" class=\"dataframe\">\n",
       "  <thead>\n",
       "    <tr style=\"text-align: right;\">\n",
       "      <th></th>\n",
       "      <th>screen_name</th>\n",
       "      <th>carrier</th>\n",
       "      <th>location</th>\n",
       "      <th>date_time</th>\n",
       "      <th>text</th>\n",
       "      <th>clean_text</th>\n",
       "      <th>polarity</th>\n",
       "      <th>fact</th>\n",
       "      <th>hour</th>\n",
       "      <th>sense_dummy</th>\n",
       "      <th>text_len</th>\n",
       "      <th>day</th>\n",
       "      <th>part_of_day</th>\n",
       "      <th>seconds</th>\n",
       "      <th>sin_time</th>\n",
       "      <th>cos_time</th>\n",
       "      <th>tokens</th>\n",
       "      <th>topic</th>\n",
       "      <th>location_proba</th>\n",
       "    </tr>\n",
       "  </thead>\n",
       "  <tbody>\n",
       "    <tr>\n",
       "      <th>0</th>\n",
       "      <td>ShieldVoC</td>\n",
       "      <td>verizonsupport</td>\n",
       "      <td>Stockholm, Sweden</td>\n",
       "      <td>2021-04-14 23:57:51</td>\n",
       "      <td>RT @europabridge1: @VerizonSupport will someon...</td>\n",
       "      <td>someone please explain setting called turned p...</td>\n",
       "      <td>0.0</td>\n",
       "      <td>1</td>\n",
       "      <td>23</td>\n",
       "      <td>0</td>\n",
       "      <td>54</td>\n",
       "      <td>2</td>\n",
       "      <td>evening</td>\n",
       "      <td>86271</td>\n",
       "      <td>-0.009381</td>\n",
       "      <td>0.999956</td>\n",
       "      <td>['someone', 'please', 'explain', 'setting', 'c...</td>\n",
       "      <td>17</td>\n",
       "      <td>0.059912</td>\n",
       "    </tr>\n",
       "    <tr>\n",
       "      <th>1</th>\n",
       "      <td>ShieldVoC</td>\n",
       "      <td>verizon</td>\n",
       "      <td>Stockholm, Sweden</td>\n",
       "      <td>2021-04-14 23:56:27</td>\n",
       "      <td>RT @halidkalkan: @Verizon trying to charge me ...</td>\n",
       "      <td>trying charge device never solve problem canno</td>\n",
       "      <td>0.0</td>\n",
       "      <td>1</td>\n",
       "      <td>23</td>\n",
       "      <td>0</td>\n",
       "      <td>46</td>\n",
       "      <td>2</td>\n",
       "      <td>evening</td>\n",
       "      <td>86187</td>\n",
       "      <td>-0.015489</td>\n",
       "      <td>0.999880</td>\n",
       "      <td>['trying', 'charge', 'device', 'never', 'solve...</td>\n",
       "      <td>17</td>\n",
       "      <td>0.059912</td>\n",
       "    </tr>\n",
       "    <tr>\n",
       "      <th>2</th>\n",
       "      <td>VerizonSupport</td>\n",
       "      <td>verizonsupport</td>\n",
       "      <td>NaN</td>\n",
       "      <td>2021-04-14 23:43:51</td>\n",
       "      <td>@MushShoe Thanks for confirming. We can assist...</td>\n",
       "      <td>thanks confirming assist plan change well happ...</td>\n",
       "      <td>0.5</td>\n",
       "      <td>0</td>\n",
       "      <td>23</td>\n",
       "      <td>1</td>\n",
       "      <td>54</td>\n",
       "      <td>2</td>\n",
       "      <td>evening</td>\n",
       "      <td>85431</td>\n",
       "      <td>-0.070409</td>\n",
       "      <td>0.997518</td>\n",
       "      <td>['thanks', 'confirming', 'assist', 'plan', 'ch...</td>\n",
       "      <td>2</td>\n",
       "      <td>0.462737</td>\n",
       "    </tr>\n",
       "  </tbody>\n",
       "</table>\n",
       "</div>"
      ],
      "text/plain": [
       "      screen_name         carrier           location            date_time  \\\n",
       "0       ShieldVoC  verizonsupport  Stockholm, Sweden  2021-04-14 23:57:51   \n",
       "1       ShieldVoC         verizon  Stockholm, Sweden  2021-04-14 23:56:27   \n",
       "2  VerizonSupport  verizonsupport                NaN  2021-04-14 23:43:51   \n",
       "\n",
       "                                                text  \\\n",
       "0  RT @europabridge1: @VerizonSupport will someon...   \n",
       "1  RT @halidkalkan: @Verizon trying to charge me ...   \n",
       "2  @MushShoe Thanks for confirming. We can assist...   \n",
       "\n",
       "                                          clean_text  polarity  fact  hour  \\\n",
       "0  someone please explain setting called turned p...       0.0     1    23   \n",
       "1     trying charge device never solve problem canno       0.0     1    23   \n",
       "2  thanks confirming assist plan change well happ...       0.5     0    23   \n",
       "\n",
       "   sense_dummy  text_len  day part_of_day  seconds  sin_time  cos_time  \\\n",
       "0            0        54    2     evening    86271 -0.009381  0.999956   \n",
       "1            0        46    2     evening    86187 -0.015489  0.999880   \n",
       "2            1        54    2     evening    85431 -0.070409  0.997518   \n",
       "\n",
       "                                              tokens  topic  location_proba  \n",
       "0  ['someone', 'please', 'explain', 'setting', 'c...     17        0.059912  \n",
       "1  ['trying', 'charge', 'device', 'never', 'solve...     17        0.059912  \n",
       "2  ['thanks', 'confirming', 'assist', 'plan', 'ch...      2        0.462737  "
      ]
     },
     "execution_count": 3094,
     "metadata": {},
     "output_type": "execute_result"
    }
   ],
   "source": [
    "clean_df.head(3)"
   ]
  },
  {
   "cell_type": "code",
   "execution_count": 3095,
   "metadata": {},
   "outputs": [
    {
     "data": {
      "text/html": [
       "<div>\n",
       "<style scoped>\n",
       "    .dataframe tbody tr th:only-of-type {\n",
       "        vertical-align: middle;\n",
       "    }\n",
       "\n",
       "    .dataframe tbody tr th {\n",
       "        vertical-align: top;\n",
       "    }\n",
       "\n",
       "    .dataframe thead th {\n",
       "        text-align: right;\n",
       "    }\n",
       "</style>\n",
       "<table border=\"1\" class=\"dataframe\">\n",
       "  <thead>\n",
       "    <tr style=\"text-align: right;\">\n",
       "      <th></th>\n",
       "      <th>able</th>\n",
       "      <th>able enjoy</th>\n",
       "      <th>able find</th>\n",
       "      <th>able get</th>\n",
       "      <th>able make</th>\n",
       "      <th>able resolve</th>\n",
       "      <th>able use</th>\n",
       "      <th>able watch</th>\n",
       "      <th>abo</th>\n",
       "      <th>absolute</th>\n",
       "      <th>...</th>\n",
       "      <th>your</th>\n",
       "      <th>your call</th>\n",
       "      <th>your customer</th>\n",
       "      <th>your sign</th>\n",
       "      <th>youtube</th>\n",
       "      <th>yttv</th>\n",
       "      <th>zip</th>\n",
       "      <th>zip code</th>\n",
       "      <th>zone</th>\n",
       "      <th>location_proba</th>\n",
       "    </tr>\n",
       "  </thead>\n",
       "  <tbody>\n",
       "    <tr>\n",
       "      <th>0</th>\n",
       "      <td>0.0</td>\n",
       "      <td>0.0</td>\n",
       "      <td>0.0</td>\n",
       "      <td>0.0</td>\n",
       "      <td>0.0</td>\n",
       "      <td>0.0</td>\n",
       "      <td>0.0</td>\n",
       "      <td>0.0</td>\n",
       "      <td>0.0</td>\n",
       "      <td>0.0</td>\n",
       "      <td>...</td>\n",
       "      <td>0.0</td>\n",
       "      <td>0.0</td>\n",
       "      <td>0.0</td>\n",
       "      <td>0.0</td>\n",
       "      <td>0.0</td>\n",
       "      <td>0.0</td>\n",
       "      <td>0.0</td>\n",
       "      <td>0.0</td>\n",
       "      <td>0.0</td>\n",
       "      <td>0.059912</td>\n",
       "    </tr>\n",
       "    <tr>\n",
       "      <th>1</th>\n",
       "      <td>0.0</td>\n",
       "      <td>0.0</td>\n",
       "      <td>0.0</td>\n",
       "      <td>0.0</td>\n",
       "      <td>0.0</td>\n",
       "      <td>0.0</td>\n",
       "      <td>0.0</td>\n",
       "      <td>0.0</td>\n",
       "      <td>0.0</td>\n",
       "      <td>0.0</td>\n",
       "      <td>...</td>\n",
       "      <td>0.0</td>\n",
       "      <td>0.0</td>\n",
       "      <td>0.0</td>\n",
       "      <td>0.0</td>\n",
       "      <td>0.0</td>\n",
       "      <td>0.0</td>\n",
       "      <td>0.0</td>\n",
       "      <td>0.0</td>\n",
       "      <td>0.0</td>\n",
       "      <td>0.059912</td>\n",
       "    </tr>\n",
       "    <tr>\n",
       "      <th>2</th>\n",
       "      <td>0.0</td>\n",
       "      <td>0.0</td>\n",
       "      <td>0.0</td>\n",
       "      <td>0.0</td>\n",
       "      <td>0.0</td>\n",
       "      <td>0.0</td>\n",
       "      <td>0.0</td>\n",
       "      <td>0.0</td>\n",
       "      <td>0.0</td>\n",
       "      <td>0.0</td>\n",
       "      <td>...</td>\n",
       "      <td>0.0</td>\n",
       "      <td>0.0</td>\n",
       "      <td>0.0</td>\n",
       "      <td>0.0</td>\n",
       "      <td>0.0</td>\n",
       "      <td>0.0</td>\n",
       "      <td>0.0</td>\n",
       "      <td>0.0</td>\n",
       "      <td>0.0</td>\n",
       "      <td>0.462737</td>\n",
       "    </tr>\n",
       "  </tbody>\n",
       "</table>\n",
       "<p>3 rows × 3448 columns</p>\n",
       "</div>"
      ],
      "text/plain": [
       "   able  able enjoy  able find  able get  able make  able resolve  able use  \\\n",
       "0   0.0         0.0        0.0       0.0        0.0           0.0       0.0   \n",
       "1   0.0         0.0        0.0       0.0        0.0           0.0       0.0   \n",
       "2   0.0         0.0        0.0       0.0        0.0           0.0       0.0   \n",
       "\n",
       "   able watch  abo  absolute  ...  your  your call  your customer  your sign  \\\n",
       "0         0.0  0.0       0.0  ...   0.0        0.0            0.0        0.0   \n",
       "1         0.0  0.0       0.0  ...   0.0        0.0            0.0        0.0   \n",
       "2         0.0  0.0       0.0  ...   0.0        0.0            0.0        0.0   \n",
       "\n",
       "   youtube  yttv  zip  zip code  zone  location_proba  \n",
       "0      0.0   0.0  0.0       0.0   0.0        0.059912  \n",
       "1      0.0   0.0  0.0       0.0   0.0        0.059912  \n",
       "2      0.0   0.0  0.0       0.0   0.0        0.462737  \n",
       "\n",
       "[3 rows x 3448 columns]"
      ]
     },
     "execution_count": 3095,
     "metadata": {},
     "output_type": "execute_result"
    }
   ],
   "source": [
    "feature_df.head(3)"
   ]
  },
  {
   "cell_type": "code",
   "execution_count": 3096,
   "metadata": {},
   "outputs": [
    {
     "data": {
      "text/html": [
       "<div>\n",
       "<style scoped>\n",
       "    .dataframe tbody tr th:only-of-type {\n",
       "        vertical-align: middle;\n",
       "    }\n",
       "\n",
       "    .dataframe tbody tr th {\n",
       "        vertical-align: top;\n",
       "    }\n",
       "\n",
       "    .dataframe thead th {\n",
       "        text-align: right;\n",
       "    }\n",
       "</style>\n",
       "<table border=\"1\" class=\"dataframe\">\n",
       "  <thead>\n",
       "    <tr style=\"text-align: right;\">\n",
       "      <th></th>\n",
       "      <th>screen_name</th>\n",
       "      <th>carrier</th>\n",
       "      <th>location</th>\n",
       "      <th>date_time</th>\n",
       "      <th>text</th>\n",
       "      <th>clean_text</th>\n",
       "      <th>polarity</th>\n",
       "      <th>fact</th>\n",
       "      <th>hour</th>\n",
       "      <th>sense_dummy</th>\n",
       "      <th>text_len</th>\n",
       "      <th>day</th>\n",
       "      <th>part_of_day</th>\n",
       "      <th>seconds</th>\n",
       "      <th>sin_time</th>\n",
       "      <th>cos_time</th>\n",
       "      <th>tokens</th>\n",
       "      <th>topic</th>\n",
       "      <th>location_proba</th>\n",
       "      <th>date</th>\n",
       "    </tr>\n",
       "  </thead>\n",
       "  <tbody>\n",
       "    <tr>\n",
       "      <th>0</th>\n",
       "      <td>ShieldVoC</td>\n",
       "      <td>verizonsupport</td>\n",
       "      <td>Stockholm, Sweden</td>\n",
       "      <td>2021-04-14 23:57:51</td>\n",
       "      <td>RT @europabridge1: @VerizonSupport will someon...</td>\n",
       "      <td>someone please explain setting called turned p...</td>\n",
       "      <td>0.0</td>\n",
       "      <td>1</td>\n",
       "      <td>23</td>\n",
       "      <td>0</td>\n",
       "      <td>54</td>\n",
       "      <td>2</td>\n",
       "      <td>evening</td>\n",
       "      <td>86271</td>\n",
       "      <td>-0.009381</td>\n",
       "      <td>0.999956</td>\n",
       "      <td>['someone', 'please', 'explain', 'setting', 'c...</td>\n",
       "      <td>17</td>\n",
       "      <td>0.059912</td>\n",
       "      <td>2021-04-14</td>\n",
       "    </tr>\n",
       "  </tbody>\n",
       "</table>\n",
       "</div>"
      ],
      "text/plain": [
       "  screen_name         carrier           location            date_time  \\\n",
       "0   ShieldVoC  verizonsupport  Stockholm, Sweden  2021-04-14 23:57:51   \n",
       "\n",
       "                                                text  \\\n",
       "0  RT @europabridge1: @VerizonSupport will someon...   \n",
       "\n",
       "                                          clean_text  polarity  fact  hour  \\\n",
       "0  someone please explain setting called turned p...       0.0     1    23   \n",
       "\n",
       "   sense_dummy  text_len  day part_of_day  seconds  sin_time  cos_time  \\\n",
       "0            0        54    2     evening    86271 -0.009381  0.999956   \n",
       "\n",
       "                                              tokens  topic  location_proba  \\\n",
       "0  ['someone', 'please', 'explain', 'setting', 'c...     17        0.059912   \n",
       "\n",
       "         date  \n",
       "0  2021-04-14  "
      ]
     },
     "execution_count": 3096,
     "metadata": {},
     "output_type": "execute_result"
    }
   ],
   "source": [
    "import datetime as dt\n",
    "import re\n",
    "clean_df['date'] = clean_df['date_time'].apply(lambda x: dt.datetime.strptime(x, '%Y-%m-%d %H:%M:%S'))\n",
    "clean_df['date'] = clean_df['date'].apply(dt.datetime.date)\n",
    "clean_df.head(1)"
   ]
  },
  {
   "cell_type": "code",
   "execution_count": 3097,
   "metadata": {},
   "outputs": [
    {
     "data": {
      "text/html": [
       "<div>\n",
       "<style scoped>\n",
       "    .dataframe tbody tr th:only-of-type {\n",
       "        vertical-align: middle;\n",
       "    }\n",
       "\n",
       "    .dataframe tbody tr th {\n",
       "        vertical-align: top;\n",
       "    }\n",
       "\n",
       "    .dataframe thead th {\n",
       "        text-align: right;\n",
       "    }\n",
       "</style>\n",
       "<table border=\"1\" class=\"dataframe\">\n",
       "  <thead>\n",
       "    <tr style=\"text-align: right;\">\n",
       "      <th></th>\n",
       "      <th>able</th>\n",
       "      <th>able enjoy</th>\n",
       "      <th>able find</th>\n",
       "      <th>able get</th>\n",
       "      <th>able make</th>\n",
       "      <th>able resolve</th>\n",
       "      <th>able use</th>\n",
       "      <th>able watch</th>\n",
       "      <th>abo</th>\n",
       "      <th>absolute</th>\n",
       "      <th>...</th>\n",
       "      <th>your call</th>\n",
       "      <th>your customer</th>\n",
       "      <th>your sign</th>\n",
       "      <th>youtube</th>\n",
       "      <th>yttv</th>\n",
       "      <th>zip</th>\n",
       "      <th>zip code</th>\n",
       "      <th>zone</th>\n",
       "      <th>location_proba</th>\n",
       "      <th>recency</th>\n",
       "    </tr>\n",
       "  </thead>\n",
       "  <tbody>\n",
       "  </tbody>\n",
       "</table>\n",
       "<p>0 rows × 3449 columns</p>\n",
       "</div>"
      ],
      "text/plain": [
       "Empty DataFrame\n",
       "Columns: [able, able enjoy, able find, able get, able make, able resolve, able use, able watch, abo, absolute, absolutely, absolutely want, acc, access, access account, according, account, account except, account frustrated, account help, account info, account number, account phone, account used, account year, acct, acct computer, accurate, across, act, acting, acting weird, action, activate, activate your, activated, actually, ad, adam, add, add line, adding, addition, address, addressed, addressed today, advantage, advantage best, adventure, advertised, advised, aft, after, after getting, after troubleshooting, afternoon, again, agent, ago, ago still, ago surprising, ago traded, air, airport, ajw, all, allison, allow, allow respond, almost, along, already, already got, already spent, also, also include, always, always customer, always evolving, always expanding, always need, always provide, always strive, always want, always working, amazing, amazing service, amehl, american, among, and, and even, andrew, android, android phone, angiec, ann, anniversary, annoyed, annoying, ...]\n",
       "Index: []\n",
       "\n",
       "[0 rows x 3449 columns]"
      ]
     },
     "execution_count": 3097,
     "metadata": {},
     "output_type": "execute_result"
    }
   ],
   "source": [
    "recency = list(clean_df['date'].apply(lambda x: dt.date.today() - x))\n",
    "recency\n",
    "feature_df['recency'] = recency\n",
    "feature_df['recency'] = feature_df['recency'].apply(lambda x: int(str(x).split()[0]))\n",
    "feature_df[feature_df['recency'] == 'NaT']"
   ]
  },
  {
   "cell_type": "code",
   "execution_count": 3098,
   "metadata": {},
   "outputs": [],
   "source": [
    "# feature_df[feature_df['location_proba'].isna()]"
   ]
  },
  {
   "cell_type": "code",
   "execution_count": 3099,
   "metadata": {},
   "outputs": [],
   "source": [
    "# feature_df['frequency'] = f\n",
    "frequency = list(clean_df['screen_name'].apply(lambda x: clean_df[clean_df['screen_name'] == x].shape[0]))\n",
    "feature_df['frequency'] = frequency\n",
    "clean_df['frequency'] = clean_df['screen_name'].apply(lambda x: clean_df[clean_df['screen_name'] == x].shape[0])"
   ]
  },
  {
   "cell_type": "code",
   "execution_count": 3100,
   "metadata": {},
   "outputs": [
    {
     "data": {
      "text/html": [
       "<div>\n",
       "<style scoped>\n",
       "    .dataframe tbody tr th:only-of-type {\n",
       "        vertical-align: middle;\n",
       "    }\n",
       "\n",
       "    .dataframe tbody tr th {\n",
       "        vertical-align: top;\n",
       "    }\n",
       "\n",
       "    .dataframe thead th {\n",
       "        text-align: right;\n",
       "    }\n",
       "</style>\n",
       "<table border=\"1\" class=\"dataframe\">\n",
       "  <thead>\n",
       "    <tr style=\"text-align: right;\">\n",
       "      <th></th>\n",
       "      <th>able</th>\n",
       "      <th>able enjoy</th>\n",
       "      <th>able find</th>\n",
       "      <th>able get</th>\n",
       "      <th>able make</th>\n",
       "      <th>able resolve</th>\n",
       "      <th>able use</th>\n",
       "      <th>able watch</th>\n",
       "      <th>abo</th>\n",
       "      <th>absolute</th>\n",
       "      <th>...</th>\n",
       "      <th>your sign</th>\n",
       "      <th>youtube</th>\n",
       "      <th>yttv</th>\n",
       "      <th>zip</th>\n",
       "      <th>zip code</th>\n",
       "      <th>zone</th>\n",
       "      <th>location_proba</th>\n",
       "      <th>recency</th>\n",
       "      <th>frequency</th>\n",
       "      <th>monetary</th>\n",
       "    </tr>\n",
       "  </thead>\n",
       "  <tbody>\n",
       "    <tr>\n",
       "      <th>0</th>\n",
       "      <td>0.0</td>\n",
       "      <td>0.0</td>\n",
       "      <td>0.0</td>\n",
       "      <td>0.0</td>\n",
       "      <td>0.0</td>\n",
       "      <td>0.0</td>\n",
       "      <td>0.0</td>\n",
       "      <td>0.0</td>\n",
       "      <td>0.0</td>\n",
       "      <td>0.0</td>\n",
       "      <td>...</td>\n",
       "      <td>0.0</td>\n",
       "      <td>0.0</td>\n",
       "      <td>0.0</td>\n",
       "      <td>0.0</td>\n",
       "      <td>0.0</td>\n",
       "      <td>0.0</td>\n",
       "      <td>0.059912</td>\n",
       "      <td>9</td>\n",
       "      <td>123</td>\n",
       "      <td>0.0</td>\n",
       "    </tr>\n",
       "    <tr>\n",
       "      <th>1</th>\n",
       "      <td>0.0</td>\n",
       "      <td>0.0</td>\n",
       "      <td>0.0</td>\n",
       "      <td>0.0</td>\n",
       "      <td>0.0</td>\n",
       "      <td>0.0</td>\n",
       "      <td>0.0</td>\n",
       "      <td>0.0</td>\n",
       "      <td>0.0</td>\n",
       "      <td>0.0</td>\n",
       "      <td>...</td>\n",
       "      <td>0.0</td>\n",
       "      <td>0.0</td>\n",
       "      <td>0.0</td>\n",
       "      <td>0.0</td>\n",
       "      <td>0.0</td>\n",
       "      <td>0.0</td>\n",
       "      <td>0.059912</td>\n",
       "      <td>9</td>\n",
       "      <td>123</td>\n",
       "      <td>0.0</td>\n",
       "    </tr>\n",
       "    <tr>\n",
       "      <th>2</th>\n",
       "      <td>0.0</td>\n",
       "      <td>0.0</td>\n",
       "      <td>0.0</td>\n",
       "      <td>0.0</td>\n",
       "      <td>0.0</td>\n",
       "      <td>0.0</td>\n",
       "      <td>0.0</td>\n",
       "      <td>0.0</td>\n",
       "      <td>0.0</td>\n",
       "      <td>0.0</td>\n",
       "      <td>...</td>\n",
       "      <td>0.0</td>\n",
       "      <td>0.0</td>\n",
       "      <td>0.0</td>\n",
       "      <td>0.0</td>\n",
       "      <td>0.0</td>\n",
       "      <td>0.0</td>\n",
       "      <td>0.462737</td>\n",
       "      <td>9</td>\n",
       "      <td>148</td>\n",
       "      <td>0.5</td>\n",
       "    </tr>\n",
       "  </tbody>\n",
       "</table>\n",
       "<p>3 rows × 3451 columns</p>\n",
       "</div>"
      ],
      "text/plain": [
       "   able  able enjoy  able find  able get  able make  able resolve  able use  \\\n",
       "0   0.0         0.0        0.0       0.0        0.0           0.0       0.0   \n",
       "1   0.0         0.0        0.0       0.0        0.0           0.0       0.0   \n",
       "2   0.0         0.0        0.0       0.0        0.0           0.0       0.0   \n",
       "\n",
       "   able watch  abo  absolute  ...  your sign  youtube  yttv  zip  zip code  \\\n",
       "0         0.0  0.0       0.0  ...        0.0      0.0   0.0  0.0       0.0   \n",
       "1         0.0  0.0       0.0  ...        0.0      0.0   0.0  0.0       0.0   \n",
       "2         0.0  0.0       0.0  ...        0.0      0.0   0.0  0.0       0.0   \n",
       "\n",
       "   zone  location_proba  recency  frequency  monetary  \n",
       "0   0.0        0.059912        9        123       0.0  \n",
       "1   0.0        0.059912        9        123       0.0  \n",
       "2   0.0        0.462737        9        148       0.5  \n",
       "\n",
       "[3 rows x 3451 columns]"
      ]
     },
     "execution_count": 3100,
     "metadata": {},
     "output_type": "execute_result"
    }
   ],
   "source": [
    "monetary = list(clean_df['polarity'])\n",
    "feature_df['monetary'] = monetary\n",
    "feature_df.head(3)"
   ]
  },
  {
   "cell_type": "code",
   "execution_count": 3101,
   "metadata": {},
   "outputs": [],
   "source": [
    "# recency\n",
    "r_q3 = feature_df['recency'].quantile(0.3)\n",
    "r_q6 = feature_df['recency'].quantile(0.6)\n",
    "\n",
    "feature_df['r'] = feature_df['recency'].apply(lambda x: 1 if x < r_q3 else(2 if r_q3<x<r_q6 else 3)  )\n",
    "# frequency\n",
    "f_q3 = feature_df['frequency'].quantile(0.3)\n",
    "f_q6 = feature_df['frequency'].quantile(0.6)\n",
    "\n",
    "feature_df['f'] = feature_df['frequency'].apply(lambda x: 1 if x < f_q3 else(2 if f_q3<x<f_q6 else 3)  )\n",
    "\n",
    "# monetary\n",
    "m_q3 = feature_df['monetary'].quantile(0.3)\n",
    "m_q6 = feature_df['monetary'].quantile(0.6)\n",
    "\n",
    "feature_df['m'] = feature_df['monetary'].apply(lambda x: 1 if x < m_q3 else(2 if m_q3<x<m_q6 else 3)  )\n",
    "# feature_df['rfm'] = feature_df['r']*100 + feature_df['f']*10 + feature_df['m']"
   ]
  },
  {
   "cell_type": "code",
   "execution_count": 3102,
   "metadata": {},
   "outputs": [
    {
     "data": {
      "text/html": [
       "<div>\n",
       "<style scoped>\n",
       "    .dataframe tbody tr th:only-of-type {\n",
       "        vertical-align: middle;\n",
       "    }\n",
       "\n",
       "    .dataframe tbody tr th {\n",
       "        vertical-align: top;\n",
       "    }\n",
       "\n",
       "    .dataframe thead th {\n",
       "        text-align: right;\n",
       "    }\n",
       "</style>\n",
       "<table border=\"1\" class=\"dataframe\">\n",
       "  <thead>\n",
       "    <tr style=\"text-align: right;\">\n",
       "      <th></th>\n",
       "      <th>able</th>\n",
       "      <th>able enjoy</th>\n",
       "      <th>able find</th>\n",
       "      <th>able get</th>\n",
       "      <th>able make</th>\n",
       "      <th>able resolve</th>\n",
       "      <th>able use</th>\n",
       "      <th>able watch</th>\n",
       "      <th>abo</th>\n",
       "      <th>absolute</th>\n",
       "      <th>...</th>\n",
       "      <th>your sign</th>\n",
       "      <th>youtube</th>\n",
       "      <th>yttv</th>\n",
       "      <th>zip</th>\n",
       "      <th>zip code</th>\n",
       "      <th>zone</th>\n",
       "      <th>location_proba</th>\n",
       "      <th>r</th>\n",
       "      <th>f</th>\n",
       "      <th>m</th>\n",
       "    </tr>\n",
       "  </thead>\n",
       "  <tbody>\n",
       "    <tr>\n",
       "      <th>0</th>\n",
       "      <td>0.0</td>\n",
       "      <td>0.0</td>\n",
       "      <td>0.0</td>\n",
       "      <td>0.0</td>\n",
       "      <td>0.0</td>\n",
       "      <td>0.0</td>\n",
       "      <td>0.0</td>\n",
       "      <td>0.0</td>\n",
       "      <td>0.0</td>\n",
       "      <td>0.0</td>\n",
       "      <td>...</td>\n",
       "      <td>0.0</td>\n",
       "      <td>0.0</td>\n",
       "      <td>0.0</td>\n",
       "      <td>0.0</td>\n",
       "      <td>0.0</td>\n",
       "      <td>0.0</td>\n",
       "      <td>0.059912</td>\n",
       "      <td>3</td>\n",
       "      <td>3</td>\n",
       "      <td>3</td>\n",
       "    </tr>\n",
       "    <tr>\n",
       "      <th>1</th>\n",
       "      <td>0.0</td>\n",
       "      <td>0.0</td>\n",
       "      <td>0.0</td>\n",
       "      <td>0.0</td>\n",
       "      <td>0.0</td>\n",
       "      <td>0.0</td>\n",
       "      <td>0.0</td>\n",
       "      <td>0.0</td>\n",
       "      <td>0.0</td>\n",
       "      <td>0.0</td>\n",
       "      <td>...</td>\n",
       "      <td>0.0</td>\n",
       "      <td>0.0</td>\n",
       "      <td>0.0</td>\n",
       "      <td>0.0</td>\n",
       "      <td>0.0</td>\n",
       "      <td>0.0</td>\n",
       "      <td>0.059912</td>\n",
       "      <td>3</td>\n",
       "      <td>3</td>\n",
       "      <td>3</td>\n",
       "    </tr>\n",
       "    <tr>\n",
       "      <th>2</th>\n",
       "      <td>0.0</td>\n",
       "      <td>0.0</td>\n",
       "      <td>0.0</td>\n",
       "      <td>0.0</td>\n",
       "      <td>0.0</td>\n",
       "      <td>0.0</td>\n",
       "      <td>0.0</td>\n",
       "      <td>0.0</td>\n",
       "      <td>0.0</td>\n",
       "      <td>0.0</td>\n",
       "      <td>...</td>\n",
       "      <td>0.0</td>\n",
       "      <td>0.0</td>\n",
       "      <td>0.0</td>\n",
       "      <td>0.0</td>\n",
       "      <td>0.0</td>\n",
       "      <td>0.0</td>\n",
       "      <td>0.462737</td>\n",
       "      <td>3</td>\n",
       "      <td>3</td>\n",
       "      <td>3</td>\n",
       "    </tr>\n",
       "  </tbody>\n",
       "</table>\n",
       "<p>3 rows × 3451 columns</p>\n",
       "</div>"
      ],
      "text/plain": [
       "   able  able enjoy  able find  able get  able make  able resolve  able use  \\\n",
       "0   0.0         0.0        0.0       0.0        0.0           0.0       0.0   \n",
       "1   0.0         0.0        0.0       0.0        0.0           0.0       0.0   \n",
       "2   0.0         0.0        0.0       0.0        0.0           0.0       0.0   \n",
       "\n",
       "   able watch  abo  absolute  ...  your sign  youtube  yttv  zip  zip code  \\\n",
       "0         0.0  0.0       0.0  ...        0.0      0.0   0.0  0.0       0.0   \n",
       "1         0.0  0.0       0.0  ...        0.0      0.0   0.0  0.0       0.0   \n",
       "2         0.0  0.0       0.0  ...        0.0      0.0   0.0  0.0       0.0   \n",
       "\n",
       "   zone  location_proba  r  f  m  \n",
       "0   0.0        0.059912  3  3  3  \n",
       "1   0.0        0.059912  3  3  3  \n",
       "2   0.0        0.462737  3  3  3  \n",
       "\n",
       "[3 rows x 3451 columns]"
      ]
     },
     "execution_count": 3102,
     "metadata": {},
     "output_type": "execute_result"
    }
   ],
   "source": [
    "# feature_df.drop(['r','f','m'],inplace = True,axis = 1)\n",
    "feature_df.drop(['recency','frequency','monetary'],inplace = True,axis = 1)\n",
    "feature_df.head(3)"
   ]
  },
  {
   "cell_type": "code",
   "execution_count": 3103,
   "metadata": {},
   "outputs": [],
   "source": [
    "# добавим метрики, которые можно было бы использовать для кластеризации\n",
    "sin  = list(clean_df['sin_time'])\n",
    "cos = list(clean_df['cos_time'])\n",
    "text_len  = list(clean_df['text_len'])\n",
    "topic = list(clean_df['topic'])\n",
    "fact = list(clean_df['fact'])\n",
    "\n",
    "feature_df['sin_time'] = sin\n",
    "feature_df['cos_time'] = cos\n",
    "feature_df['text_len'] = text_len\n",
    "feature_df['topic'] = topic\n",
    "feature_df['fact'] = fact"
   ]
  },
  {
   "cell_type": "code",
   "execution_count": 3104,
   "metadata": {},
   "outputs": [],
   "source": [
    "# polarity  = list(clean_df['polarity'])\n",
    "# feature_df['polarity'] = polarity            "
   ]
  },
  {
   "cell_type": "code",
   "execution_count": 3105,
   "metadata": {},
   "outputs": [
    {
     "data": {
      "text/html": [
       "<div>\n",
       "<style scoped>\n",
       "    .dataframe tbody tr th:only-of-type {\n",
       "        vertical-align: middle;\n",
       "    }\n",
       "\n",
       "    .dataframe tbody tr th {\n",
       "        vertical-align: top;\n",
       "    }\n",
       "\n",
       "    .dataframe thead th {\n",
       "        text-align: right;\n",
       "    }\n",
       "</style>\n",
       "<table border=\"1\" class=\"dataframe\">\n",
       "  <thead>\n",
       "    <tr style=\"text-align: right;\">\n",
       "      <th></th>\n",
       "      <th>able</th>\n",
       "      <th>able enjoy</th>\n",
       "      <th>able find</th>\n",
       "      <th>able get</th>\n",
       "      <th>able make</th>\n",
       "      <th>able resolve</th>\n",
       "      <th>able use</th>\n",
       "      <th>able watch</th>\n",
       "      <th>abo</th>\n",
       "      <th>absolute</th>\n",
       "      <th>...</th>\n",
       "      <th>zip code</th>\n",
       "      <th>zone</th>\n",
       "      <th>location_proba</th>\n",
       "      <th>r</th>\n",
       "      <th>f</th>\n",
       "      <th>m</th>\n",
       "      <th>sin_time</th>\n",
       "      <th>cos_time</th>\n",
       "      <th>text_len</th>\n",
       "      <th>topic</th>\n",
       "    </tr>\n",
       "  </thead>\n",
       "  <tbody>\n",
       "    <tr>\n",
       "      <th>0</th>\n",
       "      <td>0.0</td>\n",
       "      <td>0.0</td>\n",
       "      <td>0.0</td>\n",
       "      <td>0.0</td>\n",
       "      <td>0.0</td>\n",
       "      <td>0.0</td>\n",
       "      <td>0.0</td>\n",
       "      <td>0.0</td>\n",
       "      <td>0.0</td>\n",
       "      <td>0.0</td>\n",
       "      <td>...</td>\n",
       "      <td>0.0</td>\n",
       "      <td>0.0</td>\n",
       "      <td>0.059912</td>\n",
       "      <td>3</td>\n",
       "      <td>3</td>\n",
       "      <td>3</td>\n",
       "      <td>-0.009381</td>\n",
       "      <td>0.999956</td>\n",
       "      <td>54</td>\n",
       "      <td>17</td>\n",
       "    </tr>\n",
       "  </tbody>\n",
       "</table>\n",
       "<p>1 rows × 3455 columns</p>\n",
       "</div>"
      ],
      "text/plain": [
       "   able  able enjoy  able find  able get  able make  able resolve  able use  \\\n",
       "0   0.0         0.0        0.0       0.0        0.0           0.0       0.0   \n",
       "\n",
       "   able watch  abo  absolute  ...  zip code  zone  location_proba  r  f  m  \\\n",
       "0         0.0  0.0       0.0  ...       0.0   0.0        0.059912  3  3  3   \n",
       "\n",
       "   sin_time  cos_time  text_len  topic  \n",
       "0 -0.009381  0.999956        54     17  \n",
       "\n",
       "[1 rows x 3455 columns]"
      ]
     },
     "execution_count": 3105,
     "metadata": {},
     "output_type": "execute_result"
    }
   ],
   "source": [
    "# наша матрица фичей\n",
    "feature_df.head(1)"
   ]
  },
  {
   "cell_type": "code",
   "execution_count": 3106,
   "metadata": {},
   "outputs": [
    {
     "data": {
      "text/plain": [
       "(2053, 21)"
      ]
     },
     "execution_count": 3106,
     "metadata": {},
     "output_type": "execute_result"
    }
   ],
   "source": [
    "clean_df.shape"
   ]
  },
  {
   "cell_type": "markdown",
   "metadata": {},
   "source": []
  },
  {
   "cell_type": "code",
   "execution_count": null,
   "metadata": {},
   "outputs": [],
   "source": []
  },
  {
   "cell_type": "code",
   "execution_count": 3107,
   "metadata": {},
   "outputs": [
    {
     "data": {
      "text/plain": [
       "(2053, 3455)"
      ]
     },
     "execution_count": 3107,
     "metadata": {},
     "output_type": "execute_result"
    }
   ],
   "source": [
    "# from sklearn.preprocessing import MinMaxScaler  # класс для скалирования! \n",
    "\n",
    "# # Он сам будет считать максимумы, минимумы и делить! \n",
    "\n",
    "# # Объеявили скалировшик \n",
    "# scaler = MinMaxScaler( )\n",
    "\n",
    "# # Обучили его на тренировочной выборке (он само посчитал все максимумы, минимумы, поделил)\n",
    "# scaler.fit(feature_df) \n",
    "\n",
    "# # Теперь применяем его к нашим данным \n",
    "# norm_feature_df = pd.DataFrame(scaler.transform(feature_df),columns =list(feature_df.columns) )\n",
    "# norm_feature_df.shape\n",
    "\n",
    "from sklearn.preprocessing import StandardScaler  # класс для скалирования! \n",
    "\n",
    "# Он сам будет считать максимумы, минимумы и делить! \n",
    "\n",
    "# Объеявили скалировшик \n",
    "scaler = MinMaxScaler( )\n",
    "\n",
    "# Обучили его на тренировочной выборке (он само посчитал все максимумы, минимумы, поделил)\n",
    "scaler.fit(feature_df) \n",
    "\n",
    "# Теперь применяем его к нашим данным \n",
    "norm_feature_df = pd.DataFrame(scaler.transform(feature_df),columns =list(feature_df.columns) )\n",
    "norm_feature_df.shape"
   ]
  },
  {
   "cell_type": "code",
   "execution_count": null,
   "metadata": {},
   "outputs": [],
   "source": []
  },
  {
   "cell_type": "markdown",
   "metadata": {},
   "source": [
    "### CLUSTERING"
   ]
  },
  {
   "cell_type": "markdown",
   "metadata": {},
   "source": [
    "### 1. добавить метрики кластеризации\n",
    "\n",
    "    https://nafi.ru/upload/spss/Lection_9.pdf\n",
    "    https://scikit-learn.org/stable/modules/clustering.html\n",
    "    https://habr.com/ru/company/ods/blog/325654/\n",
    "    https://habr.com/ru/company/jetinfosystems/blog/467745/\n",
    "    https://www.analyticsvidhya.com/blog/2019/08/comprehensive-guide-k-means-clustering/\n",
    "    https://habr.com/ru/post/67078/\n",
    "    https://iq.opengenus.org/euclidean-vs-manhattan-vs-chebyshev-distance/#:~:text=the%20distance%20between%20squares%20on,its%20diagonals%20as%20coordinate%20axes\n",
    "    https://scikit-learn.org/stable/modules/generated/sklearn.metrics.silhouette_score.html#sklearn.metrics.silhouette_score\n",
    "    \n",
    "    "
   ]
  },
  {
   "cell_type": "code",
   "execution_count": 3108,
   "metadata": {},
   "outputs": [
    {
     "data": {
      "text/plain": [
       "0    1332\n",
       "1     721\n",
       "Name: euclidean_churn, dtype: int64"
      ]
     },
     "execution_count": 3108,
     "metadata": {},
     "output_type": "execute_result"
    }
   ],
   "source": [
    "# K-means eucledean distance\n",
    "\n",
    "num_clusters = 2\n",
    "\n",
    "# Метод к-средних - KMeans\n",
    "from sklearn.cluster import KMeans\n",
    "\n",
    "euclidean_churn = KMeans(n_clusters=num_clusters)\n",
    "\n",
    "# get_ipython().magic('time km.fit(tfidf_matrix)')\n",
    "idx = euclidean_churn.fit(feature_df)\n",
    "# print(km.labels_)\n",
    "clean_df['euclidean_churn'] = euclidean_churn.labels_\n",
    "# clusters = km.labels_.tolist()\n",
    "clean_df['euclidean_churn'].value_counts()"
   ]
  },
  {
   "cell_type": "code",
   "execution_count": 3109,
   "metadata": {},
   "outputs": [
    {
     "name": "stdout",
     "output_type": "stream",
     "text": [
      "0.529384889999626\n"
     ]
    }
   ],
   "source": [
    "silhouettes = []\n",
    "from sklearn import metrics\n",
    "silhouette1 = metrics.silhouette_score(feature_df, euclidean_churn.labels_,metric='euclidean')\n",
    "print(silhouette1)\n",
    "silhouettes.append(silhouette1)"
   ]
  },
  {
   "cell_type": "code",
   "execution_count": 3110,
   "metadata": {},
   "outputs": [],
   "source": [
    "# pip install --user scikit-learn-extra"
   ]
  },
  {
   "cell_type": "code",
   "execution_count": 3111,
   "metadata": {},
   "outputs": [
    {
     "data": {
      "text/plain": [
       "0    2052\n",
       "1       1\n",
       "Name: chebyshev_churn, dtype: int64"
      ]
     },
     "execution_count": 3111,
     "metadata": {},
     "output_type": "execute_result"
    }
   ],
   "source": [
    "# k-medoids Чебышев\n",
    "from sklearn_extra.cluster import KMedoids\n",
    "\n",
    "num_clusters = 2\n",
    "chebyshev_churn = KMedoids(n_clusters=num_clusters,metric = 'chebyshev')\n",
    "# print(km)\n",
    "\n",
    "idx = chebyshev_churn.fit(feature_df)\n",
    "# print(km.labels_)\n",
    "clean_df['chebyshev_churn'] = chebyshev_churn.labels_\n",
    "# clusters = km.labels_.tolist()\n",
    "clean_df['chebyshev_churn'].value_counts()"
   ]
  },
  {
   "cell_type": "code",
   "execution_count": 3112,
   "metadata": {},
   "outputs": [
    {
     "name": "stdout",
     "output_type": "stream",
     "text": [
      "-0.3625168845308363\n"
     ]
    }
   ],
   "source": [
    "\n",
    "from sklearn import metrics\n",
    "silhouette2 = metrics.silhouette_score(feature_df, chebyshev_churn.labels_,metric='chebyshev')\n",
    "print(silhouette2)\n",
    "silhouettes.append(silhouette2)"
   ]
  },
  {
   "cell_type": "code",
   "execution_count": 3113,
   "metadata": {},
   "outputs": [
    {
     "data": {
      "text/plain": [
       "0    1321\n",
       "1     732\n",
       "Name: sqeuclidean_churn, dtype: int64"
      ]
     },
     "execution_count": 3113,
     "metadata": {},
     "output_type": "execute_result"
    }
   ],
   "source": [
    "# k-medoids squared eucledean\n",
    "from sklearn_extra.cluster import KMedoids\n",
    "\n",
    "num_clusters = 2\n",
    "sqeuclidean = KMedoids(n_clusters=num_clusters,metric = 'sqeuclidean')\n",
    "# print(km)\n",
    "\n",
    "idx = sqeuclidean.fit(feature_df)\n",
    "# print(km.labels_)\n",
    "clean_df['sqeuclidean_churn'] = sqeuclidean.labels_\n",
    "# clusters = km.labels_.tolist()\n",
    "clean_df['sqeuclidean_churn'].value_counts()"
   ]
  },
  {
   "cell_type": "code",
   "execution_count": 3114,
   "metadata": {},
   "outputs": [
    {
     "name": "stdout",
     "output_type": "stream",
     "text": [
      "0.7232834576115361\n"
     ]
    }
   ],
   "source": [
    "from sklearn import metrics\n",
    "silhouette3= metrics.silhouette_score(feature_df, sqeuclidean.labels_,metric = 'sqeuclidean')\n",
    "print(silhouette3)\n",
    "silhouettes.append(silhouette3)"
   ]
  },
  {
   "cell_type": "code",
   "execution_count": 3115,
   "metadata": {},
   "outputs": [
    {
     "data": {
      "text/plain": [
       "0    2001\n",
       "1      52\n",
       "Name: naive_churn, dtype: int64"
      ]
     },
     "execution_count": 3115,
     "metadata": {},
     "output_type": "execute_result"
    }
   ],
   "source": [
    "# Попробуем выделить лейблы churn по очень негативной полярности твитов \n",
    "# для дальнейшего сравнения близости выделенных нами групп с искуственно созданным таргетом\n",
    "\n",
    "clean_df['naive_churn'] = clean_df['polarity'].apply(lambda x:1 if x <-0.5 else 0 )\n",
    "clean_df['naive_churn'].value_counts()"
   ]
  },
  {
   "cell_type": "code",
   "execution_count": 3116,
   "metadata": {},
   "outputs": [
    {
     "data": {
      "text/plain": [
       "(2053, 25)"
      ]
     },
     "execution_count": 3116,
     "metadata": {},
     "output_type": "execute_result"
    }
   ],
   "source": [
    "clean_df.shape"
   ]
  },
  {
   "cell_type": "code",
   "execution_count": 3117,
   "metadata": {},
   "outputs": [
    {
     "data": {
      "text/html": [
       "<div>\n",
       "<style scoped>\n",
       "    .dataframe tbody tr th:only-of-type {\n",
       "        vertical-align: middle;\n",
       "    }\n",
       "\n",
       "    .dataframe tbody tr th {\n",
       "        vertical-align: top;\n",
       "    }\n",
       "\n",
       "    .dataframe thead th {\n",
       "        text-align: right;\n",
       "    }\n",
       "</style>\n",
       "<table border=\"1\" class=\"dataframe\">\n",
       "  <thead>\n",
       "    <tr style=\"text-align: right;\">\n",
       "      <th></th>\n",
       "      <th>silhouette</th>\n",
       "      <th>roc_auc</th>\n",
       "      <th>accuracy</th>\n",
       "    </tr>\n",
       "  </thead>\n",
       "  <tbody>\n",
       "    <tr>\n",
       "      <th>euclidean_churn</th>\n",
       "      <td>0.529385</td>\n",
       "      <td>0.571642</td>\n",
       "      <td>0.634194</td>\n",
       "    </tr>\n",
       "    <tr>\n",
       "      <th>chebyshev_churn</th>\n",
       "      <td>-0.362517</td>\n",
       "      <td>0.500250</td>\n",
       "      <td>0.974184</td>\n",
       "    </tr>\n",
       "    <tr>\n",
       "      <th>sqeuclidean_churn</th>\n",
       "      <td>0.723283</td>\n",
       "      <td>0.574391</td>\n",
       "      <td>0.628836</td>\n",
       "    </tr>\n",
       "  </tbody>\n",
       "</table>\n",
       "</div>"
      ],
      "text/plain": [
       "                   silhouette   roc_auc  accuracy\n",
       "euclidean_churn      0.529385  0.571642  0.634194\n",
       "chebyshev_churn     -0.362517  0.500250  0.974184\n",
       "sqeuclidean_churn    0.723283  0.574391  0.628836"
      ]
     },
     "execution_count": 3117,
     "metadata": {},
     "output_type": "execute_result"
    }
   ],
   "source": [
    "# сведем все показатели в таблицу для определения лучшего\n",
    "\n",
    "from sklearn.metrics import roc_auc_score,precision_recall_curve,roc_curve,accuracy_score,recall_score\n",
    "roc_aucs = []\n",
    "accuracy = []\n",
    "recall = []\n",
    "cluster_distance = ['euclidean_churn','chebyshev_churn','sqeuclidean_churn']\n",
    "for i in cluster_distance:\n",
    "    if roc_auc_score(clean_df['naive_churn'], clean_df[i]) < 0.5:\n",
    "        roc_aucs.append(1 - roc_auc_score(clean_df['naive_churn'], clean_df[i]))\n",
    "    else:\n",
    "        roc_aucs.append(roc_auc_score(clean_df['naive_churn'], clean_df[i]))\n",
    "#     roc_aucs.append(roc_auc_score(clean_df['naive_churn'], clean_df[i]))\n",
    "    accuracy.append(accuracy_score(clean_df['naive_churn'], clean_df[i]))\n",
    "#     recall.append(1- recall_score(clean_df['naive_churn'], clean_df[i]))\n",
    "scores = pd.DataFrame(columns = ['silhouette','roc_auc','accuracy'])\n",
    "scores['silhouette'] = silhouettes\n",
    "scores['roc_auc'] = roc_aucs\n",
    "scores['accuracy'] = accuracy\n",
    "# scores['recall'] = recall\n",
    "scores.index = cluster_distance\n",
    "scores"
   ]
  },
  {
   "cell_type": "markdown",
   "metadata": {},
   "source": [
    "### MIN-MAX scaler - не использовал для кластеризации т.к. портится качество"
   ]
  },
  {
   "cell_type": "code",
   "execution_count": 3118,
   "metadata": {},
   "outputs": [
    {
     "data": {
      "text/plain": [
       "(2053, 3455)"
      ]
     },
     "execution_count": 3118,
     "metadata": {},
     "output_type": "execute_result"
    }
   ],
   "source": [
    "# from sklearn.preprocessing import MinMaxScaler  # класс для скалирования! \n",
    "\n",
    "# # Он сам будет считать максимумы, минимумы и делить! \n",
    "\n",
    "# # Объеявили скалировшик \n",
    "# scaler = MinMaxScaler( )\n",
    "\n",
    "# # Обучили его на тренировочной выборке (он само посчитал все максимумы, минимумы, поделил)\n",
    "# scaler.fit(feature_df) \n",
    "\n",
    "# # Теперь применяем его к нашим данным \n",
    "# norm_feature_df = pd.DataFrame(scaler.transform(feature_df),columns =list(feature_df.columns) )\n",
    "# norm_feature_df.shape\n",
    "\n",
    "from sklearn.preprocessing import StandardScaler  # класс для скалирования! \n",
    "\n",
    "# Он сам будет считать максимумы, минимумы и делить! \n",
    "\n",
    "# Объеявили скалировшик \n",
    "scaler = MinMaxScaler( )\n",
    "\n",
    "# Обучили его на тренировочной выборке (он само посчитал все максимумы, минимумы, поделил)\n",
    "scaler.fit(feature_df) \n",
    "\n",
    "# Теперь применяем его к нашим данным \n",
    "norm_feature_df = pd.DataFrame(scaler.transform(feature_df),columns =list(feature_df.columns) )\n",
    "norm_feature_df.shape\n",
    "\n"
   ]
  },
  {
   "cell_type": "code",
   "execution_count": 3119,
   "metadata": {},
   "outputs": [],
   "source": [
    "# from sklearn.preprocessing import StandardScaler\n",
    "# scaler = StandardScaler()\n",
    "# X = scaler.fit_transform(feature_df.iloc[:,-5:])\n",
    "# dfx = pd.DataFrame(data=X,columns=feature_df.columns[-5:])\n",
    "# # dfx\n",
    "# pca_df = feature_df.loc[:,:'zoo']\n",
    "# pca_df[dfx.columns] = dfx\n",
    "# pca_df"
   ]
  },
  {
   "cell_type": "markdown",
   "metadata": {},
   "source": [
    "#### ???исходя из свода метрик наилучшей выглядит разбивка по sqeuclidean_churn"
   ]
  },
  {
   "cell_type": "code",
   "execution_count": 3120,
   "metadata": {},
   "outputs": [
    {
     "data": {
      "image/png": "[encoded data removed]",
      "text/plain": [
       "<Figure size 720x432 with 1 Axes>"
      ]
     },
     "metadata": {
      "needs_background": "light"
     },
     "output_type": "display_data"
    }
   ],
   "source": [
    "# сделаем визуализацию с помощью метода главных компонент\n",
    "\n",
    "from sklearn.decomposition import PCA\n",
    "pca = PCA(n_components=2)\n",
    "res = pca.fit_transform(norm_feature_df)\n",
    "\n",
    "# res[:,0].mean()\n",
    "plt.figure(figsize=(10,6))\n",
    "plt.scatter(res[:,0],res[:,1],c=clean_df['sqeuclidean_churn'],edgecolors='k',alpha=0.75)\n",
    "plt.grid(True)\n",
    "plt.title(\"Class separation using first two principal components\\n\",fontsize=20)\n",
    "plt.xlabel(\"Principal component-1\",fontsize=15)\n",
    "plt.ylabel(\"Principal component-2\",fontsize=15)\n",
    "plt.show()\n"
   ]
  },
  {
   "cell_type": "code",
   "execution_count": null,
   "metadata": {},
   "outputs": [],
   "source": []
  },
  {
   "cell_type": "code",
   "execution_count": 3121,
   "metadata": {},
   "outputs": [
    {
     "data": {
      "text/plain": [
       "(732, 25)"
      ]
     },
     "execution_count": 3121,
     "metadata": {},
     "output_type": "execute_result"
    }
   ],
   "source": [
    "clean_df[clean_df['sqeuclidean_churn'] == 1].shape"
   ]
  },
  {
   "cell_type": "code",
   "execution_count": 3122,
   "metadata": {},
   "outputs": [
    {
     "data": {
      "text/plain": [
       "0    1321\n",
       "1     732\n",
       "Name: best_cluster_churn, dtype: int64"
      ]
     },
     "execution_count": 3122,
     "metadata": {},
     "output_type": "execute_result"
    }
   ],
   "source": [
    "# проставим 1 для меньшего класса\n",
    "\n",
    "if clean_df[clean_df['sqeuclidean_churn'] == 1].shape[0]>clean_df[clean_df['sqeuclidean_churn'] == 0].shape[0]:\n",
    "    clean_df['best_cluster_churn'] = clean_df['sqeuclidean_churn'].apply(lambda x : 1 if x == 0 else 0)\n",
    "    \n",
    "else:\n",
    "    clean_df['best_cluster_churn'] = clean_df['sqeuclidean_churn']\n",
    "\n",
    "clean_df['best_cluster_churn'].value_counts()"
   ]
  },
  {
   "cell_type": "code",
   "execution_count": 3123,
   "metadata": {},
   "outputs": [],
   "source": [
    "clean_df.to_csv('part_2.csv')"
   ]
  },
  {
   "cell_type": "code",
   "execution_count": 3124,
   "metadata": {},
   "outputs": [],
   "source": [
    "feature_df.to_csv('part_2_feature_df.csv')\n"
   ]
  },
  {
   "cell_type": "code",
   "execution_count": 3125,
   "metadata": {},
   "outputs": [
    {
     "data": {
      "text/plain": [
       "(2053, 3455)"
      ]
     },
     "execution_count": 3125,
     "metadata": {},
     "output_type": "execute_result"
    }
   ],
   "source": [
    "feature_df.shape"
   ]
  },
  {
   "cell_type": "code",
   "execution_count": null,
   "metadata": {},
   "outputs": [],
   "source": [
    "\n"
   ]
  },
  {
   "cell_type": "markdown",
   "metadata": {},
   "source": []
  },
  {
   "cell_type": "markdown",
   "metadata": {},
   "source": []
  },
  {
   "cell_type": "code",
   "execution_count": null,
   "metadata": {},
   "outputs": [],
   "source": []
  }
 ],
 "metadata": {
  "kernelspec": {
   "display_name": "Python 3",
   "language": "python",
   "name": "python3"
  },
  "language_info": {
   "codemirror_mode": {
    "name": "ipython",
    "version": 3
   },
   "file_extension": ".py",
   "mimetype": "text/x-python",
   "name": "python",
   "nbconvert_exporter": "python",
   "pygments_lexer": "ipython3",
   "version": "3.7.6"
  }
 },
 "nbformat": 4,
 "nbformat_minor": 4
}
